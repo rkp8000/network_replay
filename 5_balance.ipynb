{
 "cells": [
  {
   "cell_type": "markdown",
   "metadata": {},
   "source": [
    "In this notebook we identify excitatory and inhibitory population parameters that allow a balanced, controllable propagation of activity along a \"1D\" ridge of hyperexcitable CA3 pyramidal neurons."
   ]
  },
  {
   "cell_type": "code",
   "execution_count": 1,
   "metadata": {
    "collapsed": true
   },
   "outputs": [],
   "source": [
    "%reset -f\n",
    "%matplotlib inline\n",
    "import matplotlib.pyplot as plt\n",
    "import numpy as np\n",
    "import os\n",
    "from scipy import interpolate, optimize\n",
    "\n",
    "import aux\n",
    "from ntwk import LIFNtwk\n",
    "from plot import set_font_size\n",
    "from traj import Traj, upstream_spks_from_traj\n",
    "\n",
    "import PARAMETERS as P\n",
    "\n",
    "cc = np.concatenate\n",
    "\n",
    "SAVE_DIR = 'sims/balance'\n",
    "HX_DIR = os.path.join(SAVE_DIR, 'hx')\n",
    "W_N_PC_EC_PATH = os.path.join(HX_DIR, 'w_n_pc_ec.npy')\n",
    "V_G_INIT_EC_PREFIX = os.path.join(HX_DIR, 'v_g_init_ec')"
   ]
  },
  {
   "cell_type": "markdown",
   "metadata": {},
   "source": [
    "# HX PC Ridge\n",
    "\n",
    "We first explore the properties of activity propagation along a ridge of hyperexcitable PCs, with no inhibition included."
   ]
  },
  {
   "cell_type": "markdown",
   "metadata": {},
   "source": [
    "### Determine expected EC->PC weight as a function of distance from ridge centerline\n",
    "\n",
    "We do this by simulating the responses of a collection of PCs with place fields centered at different distances from the rat's current location. Afterwards, we measure the EC->PC weight as a function of these distances."
   ]
  },
  {
   "cell_type": "code",
   "execution_count": 2,
   "metadata": {
    "collapsed": true
   },
   "outputs": [],
   "source": [
    "N = 200\n",
    "DISTS = np.linspace(0, 0.2, N)\n",
    "DUR = 5\n",
    "STIM_ITVL = (0, 2)\n",
    "N_TRIALS = 200"
   ]
  },
  {
   "cell_type": "code",
   "execution_count": null,
   "metadata": {},
   "outputs": [
    {
     "name": "stdout",
     "output_type": "stream",
     "text": [
      "Running simulations for trial 1/200 to 10/200...\n",
      "Running simulations for trial 11/200 to 20/200...\n",
      "Running simulations for trial 21/200 to 30/200...\n",
      "Running simulations for trial 31/200 to 40/200...\n",
      "Running simulations for trial 41/200 to 50/200...\n",
      "Running simulations for trial 51/200 to 60/200...\n",
      "Running simulations for trial 61/200 to 70/200...\n"
     ]
    }
   ],
   "source": [
    "np.random.seed(0)\n",
    "\n",
    "# build place fields\n",
    "centers = np.array([DISTS, np.zeros(N)])\n",
    "stds = P.L_PL * np.ones(N)\n",
    "max_rates = P.R_MAX_PL * np.ones(N)\n",
    "\n",
    "# get place-tuned inputs\n",
    "ts = np.arange(0, DUR, P.DT)\n",
    "xys = np.zeros((len(ts), 2))\n",
    "traj = Traj(ts=ts, xys=xys)\n",
    "\n",
    "# build ntwk\n",
    "ws_up = {\n",
    "    'AMPA': cc([P.W_A_PC_PL * np.eye(N), np.zeros((N, N))], axis=1),\n",
    "    'NMDA': cc([np.zeros((N, N)), P.W_N_PC_EC_I * np.eye(N)], axis=1),\n",
    "}\n",
    "ws_rcr = {\n",
    "    'AMPA': np.zeros((N, N)),\n",
    "    'NMDA': np.zeros((N, N))\n",
    "}\n",
    "masks_plastic = {\n",
    "    'AMPA': np.zeros(ws_up['AMPA'].shape, dtype=bool),\n",
    "    'NMDA': cc([np.zeros((N, N)), np.eye(N)], axis=1).astype(bool),\n",
    "}\n",
    "\n",
    "ntwk = LIFNtwk(\n",
    "    t_m=P.T_M_PC, e_l=P.E_L_PC, v_th=P.V_TH_PC, v_reset=P.V_RESET_PC, t_r=P.T_R,\n",
    "    e_ahp=0, t_ahp=np.inf, w_ahp=0,\n",
    "    es_syn={'AMPA': P.E_A, 'NMDA': P.E_N}, ts_syn={'AMPA': P.T_A, 'NMDA': P.T_N}, ws_up=ws_up, ws_rcr=ws_rcr,\n",
    "    plasticity={\n",
    "        'masks': masks_plastic,\n",
    "        'w_ec_ca3_maxs': {'AMPA': np.nan, 'NMDA': P.W_N_PC_EC_F},\n",
    "        'T_W': P.T_W, 'T_C': P.T_C, 'C_S': P.C_S, 'BETA_C': P.B_C,\n",
    "    },\n",
    ")\n",
    "\n",
    "vs_init = np.repeat(P.E_L_PC, N)\n",
    "\n",
    "ws_n_pc_ec = np.nan * np.zeros((N_TRIALS, N))\n",
    "\n",
    "# run ntwk for n_trials\n",
    "for ctr in range(N_TRIALS):\n",
    "    if (ctr) % 10 == 0:\n",
    "        print('Running simulations for trial {}/{} to {}/{}...'.format(\n",
    "            ctr+1, N_TRIALS, min(ctr+10, N_TRIALS), N_TRIALS))\n",
    "    spks_up_pl = upstream_spks_from_traj(ts, traj.xys, centers, stds, max_rates)\n",
    "\n",
    "    # set all upstream spikes outside of stimulation interval to 0\n",
    "    mask = ~( (ts >= STIM_ITVL[0]) & (ts < STIM_ITVL[1]) )\n",
    "    spks_up_pl[mask] = 0\n",
    "\n",
    "    spks_up = np.zeros((len(ts), 2*N))\n",
    "    spks_up[:, :N] = spks_up_pl\n",
    "\n",
    "    rsp = ntwk.run(spks_up, dt=P.DT, vs_init=vs_init)\n",
    "    ws_n_pc_ec[ctr, :] = rsp.ws_plastic['NMDA'][-1]"
   ]
  },
  {
   "cell_type": "code",
   "execution_count": null,
   "metadata": {},
   "outputs": [],
   "source": [
    "# save weight values so that new ones can be quickly sampled\n",
    "aux.save(W_N_PC_EC_PATH, {'dists': DISTS, 'weights': ws_n_pc_ec})"
   ]
  },
  {
   "cell_type": "markdown",
   "metadata": {},
   "source": [
    "### Create steady-state distribution of PC voltages and NMDA conductances in response to EC inputs as fn of EC->PC cxn weights"
   ]
  },
  {
   "cell_type": "code",
   "execution_count": null,
   "metadata": {},
   "outputs": [],
   "source": [
    "N = 200\n",
    "EC_RATES = [40, 50, 60]\n",
    "DUR = 21\n",
    "START = 1\n",
    "N_SAMPLES = 1000\n",
    "\n",
    "ws_n_pc_ec = np.linspace(P.W_N_PC_EC_I, P.W_N_PC_EC_F, N)\n",
    "\n",
    "# build PC ntwk with these EC->PC cxn weights\n",
    "ws_up = {'NMDA': np.diag(ws_n_pc_ec)}\n",
    "ws_rcr = {'NMDA': np.zeros((N, N))}\n",
    "\n",
    "ntwk = LIFNtwk(\n",
    "    t_m=P.T_M_PC, e_l=P.E_L_PC, v_th=P.V_TH_PC, v_reset=P.V_RESET_PC, t_r=P.T_R,\n",
    "    e_ahp=0, t_ahp=np.inf, w_ahp=0,\n",
    "    es_syn={'NMDA': P.E_N}, ts_syn={'NMDA': P.T_N},\n",
    "    ws_up=ws_up, ws_rcr=ws_rcr)\n",
    "\n",
    "# loop over EC rates\n",
    "ts = np.arange(0, DUR, P.DT)\n",
    "vs_init = P.E_L_PC * np.ones(N)\n",
    "\n",
    "for ec_rate in EC_RATES:\n",
    "    print('Running simulation for EC rate: {} Hz...'.format(ec_rate))\n",
    "    \n",
    "    # build upstream (EC) spk input\n",
    "    spks_up = np.random.poisson(P.DT*ec_rate, (len(ts), N))\n",
    "    \n",
    "    # run ntwk\n",
    "    rsp = ntwk.run(spks_up, P.DT, vs_init)\n",
    "    \n",
    "    # randomly sample vs and conductances\n",
    "    vs_sample = np.nan * np.zeros((N_SAMPLES, N))\n",
    "    gs_sample = np.nan * np.zeros((N_SAMPLES, N))\n",
    "    \n",
    "    for nrn_ctr in range(N):\n",
    "        # pick random time points to sample vs and gs at\n",
    "        tps_sample = np.random.choice(np.arange(int(START/P.DT), int(DUR/P.DT)), N_SAMPLES)\n",
    "        vs_sample[:, nrn_ctr] = rsp.vs[tps_sample, nrn_ctr]\n",
    "        gs_sample[:, nrn_ctr] = rsp.gs['NMDA'][tps_sample, nrn_ctr]\n",
    "        \n",
    "    # save results\n",
    "    aux.save(\n",
    "        '{}_{}Hz.npy'.format(V_G_INIT_EC_PREFIX, ec_rate),\n",
    "        {'weights': ws_n_pc_ec, 'vs': vs_sample, 'gs': gs_sample})"
   ]
  },
  {
   "cell_type": "markdown",
   "metadata": {},
   "source": [
    "### Show distribution of weights, initial voltages, and initial NMDA conductances"
   ]
  },
  {
   "cell_type": "code",
   "execution_count": null,
   "metadata": {},
   "outputs": [],
   "source": [
    "EC_RATE = 50\n",
    "\n",
    "fig, axs = plt.subplots(1, 3, figsize=(15, 4), tight_layout=True)\n",
    "\n",
    "# plot final weight vs. distance\n",
    "temp = aux.load(W_N_PC_EC_PATH)\n",
    "dists = temp['dists']\n",
    "ws_n_pc_ec = temp['weights']\n",
    "\n",
    "axs[0].scatter(np.tile(dists, (len(ws_n_pc_ec), 1)), ws_n_pc_ec, s=2, color='k', lw=0)\n",
    "axs[0].set_xlim(dists[0], dists[-1])\n",
    "axs[0].set_ylim(.9*P.W_N_PC_EC_I, P.W_N_PC_EC_F)\n",
    "x_ticks = np.linspace(dists[0], dists[-1], 4)\n",
    "x_tick_labels = ['{0:.3f}'.format(x_tick) for x_tick in x_ticks]\n",
    "\n",
    "axs[0].set_xticks(x_ticks)\n",
    "axs[0].set_xticklabels(x_tick_labels)\n",
    "axs[0].set_xlabel('Place field dist.\\nto ridge centerline (m)')\n",
    "axs[0].set_ylabel('W_N_PC_EC_F')\n",
    "axs[0].set_title('EC->PC weights')\n",
    "\n",
    "# plot v and g distribution vs. EC->PC weight\n",
    "temp = aux.load('{}_{}Hz.npy'.format(V_G_INIT_EC_PREFIX, EC_RATE))\n",
    "ws_n_pc_ec = temp['weights']\n",
    "vs = temp['vs']\n",
    "gs = temp['gs']\n",
    "\n",
    "for ctr, w in enumerate(ws_n_pc_ec):\n",
    "    axs[1].scatter(w*np.ones(len(vs)), 1000* vs[:, ctr], s=2, c='k', lw=0)\n",
    "    axs[2].scatter(w*np.ones(len(gs)), gs[:, ctr], s=2, c='k', lw=0)\n",
    "\n",
    "x_ticks = np.linspace(P.W_N_PC_EC_I, P.W_N_PC_EC_F, 4)\n",
    "x_tick_labels = ['{0:.5f}'.format(x_tick) for x_tick in x_ticks]\n",
    "\n",
    "for ax in axs[1:]:\n",
    "    ax.set_xlim(P.W_N_PC_EC_I, P.W_N_PC_EC_F)\n",
    "    ax.set_xticks(x_ticks)\n",
    "    ax.set_xticklabels(x_tick_labels)\n",
    "    ax.set_xlabel('W_N_PC_EC_F')\n",
    "\n",
    "axs[1].set_ylabel('Vm (mV)')\n",
    "axs[1].set_title('voltage dstr')\n",
    "axs[2].set_ylabel('NMDA conductance')\n",
    "axs[2].set_title('conductance dstr')\n",
    "\n",
    "for ax in axs:\n",
    "    set_font_size(ax, 16)"
   ]
  },
  {
   "cell_type": "markdown",
   "metadata": {},
   "source": [
    "### Construct example ridge\n",
    "\n",
    "We now build a \"horizontal\" ridge using the above parameters that becomes HX in response to EC inputs."
   ]
  },
  {
   "cell_type": "code",
   "execution_count": null,
   "metadata": {
    "collapsed": true
   },
   "outputs": [],
   "source": [
    "def ridge_h(shape, dens, dists, w_dstrs):\n",
    "    \"\"\"\n",
    "    Randomly sample PCs from along a \"ridge\", assigning them each a place-field\n",
    "    center and an EC->PC cxn weight.\n",
    "    \n",
    "    :param shape: tuple specifying ridge shape (m)\n",
    "    :param dens: number of place fields per m^2\n",
    "    :param dists: array of uniformly spaced distances used to sample weights\n",
    "    :param w_dstrs: distribution of EC->PC NMDA cxn weights to sample from as fn of dists\n",
    "    \n",
    "    :return: place field centers, EC->PC cxn weights\n",
    "    \"\"\"\n",
    "    # sample number of nrns\n",
    "    n_pcs = np.random.poisson(shape[0] * shape[1] * dens)\n",
    "    \n",
    "    # sample place field positions\n",
    "    centers = np.random.uniform((-shape[0]/2, -shape[1]/2), (shape[0]/2, shape[1]/2), (n_pcs, 2)).T\n",
    "    \n",
    "    # sample EC->PC cxn weights according to dists to centerline\n",
    "    dd = np.mean(np.diff(dists))\n",
    "    dist_idxs = np.round(np.abs(centers[1]) / dd).astype(int)\n",
    "    \n",
    "    ws = []\n",
    "    for dist_idx in dist_idxs:\n",
    "        w_dstr = w_dstrs[:, min(dist_idx, len(dists)-1)]\n",
    "        ws.append(np.random.choice(w_dstr))\n",
    "    \n",
    "    return centers, ws"
   ]
  },
  {
   "cell_type": "code",
   "execution_count": null,
   "metadata": {},
   "outputs": [],
   "source": [
    "RIDGE_SHAPE = (6, 0.35)\n",
    "PC_DENS = 2000\n",
    "\n",
    "hx = aux.load(W_N_PC_EC_PATH)\n",
    "\n",
    "centers, ws_n_pc_ec = ridge_horz(RIDGE_SHAPE, PC_DENS, hx['dists'], hx['weights'])\n",
    "\n",
    "fig, ax = plt.subplots(1, 1, figsize=(12, 3), tight_layout=True)\n",
    "ax.set_facecolor((.8, .8, .8))\n",
    "ax.scatter(centers[0], centers[1], s=5, c=ws_n_pc_ec, vmin=P.W_N_PC_EC_I, vmax=P.W_N_PC_EC_F, cmap='inferno')\n",
    "\n",
    "ax.set_ylim(-RIDGE_SHAPE[1], RIDGE_SHAPE[1])\n",
    "ax.set_aspect('equal')\n",
    "\n",
    "ax.set_xlabel('x (m)')\n",
    "ax.set_ylabel('y (m)')\n",
    "ax.set_title('Hyperexcitable ridge (colored by EC->PC cxn weight)')\n",
    "\n",
    "set_font_size(ax, 16)"
   ]
  },
  {
   "cell_type": "markdown",
   "metadata": {},
   "source": [
    "### Immediate ridge response to increasing PC activations\n",
    "\n",
    "For different connectivity parameters we now simulate the response of the ridge to activating different numbers of initial PCs at the far left end of the ridge. Sufficiently strong responses ought to mean that if we let the simulation run longer we would see self-sustaining activity propagating along the ridge."
   ]
  },
  {
   "cell_type": "code",
   "execution_count": null,
   "metadata": {
    "collapsed": true
   },
   "outputs": [],
   "source": [
    "from itertools import product as cproduct\n",
    "from ntwk import cxns_pcs_rcr\n",
    "\n",
    "MAX_NRNS_INIT = 30\n",
    "EC_RATE = 50\n",
    "\n",
    "E_AHP = -0.07\n",
    "T_AHP = 0.05\n",
    "W_AHP = 1\n",
    "\n",
    "\n",
    "Z_PCS = [.1, .2, .5, 1, 2, 5]\n",
    "L_PCS = [.2]\n",
    "\n",
    "N_TRIALS = 1\n",
    "\n",
    "np.random.seed(0)\n",
    "\n",
    "for z_pc, l_pc in cproduct(Z_PCS, L_PCS):\n",
    "    print('Running simulations for z_pc = {}, l_pc = {}:'.format(z_pc, l_pc))\n",
    "    \n",
    "    for tr_ctr in range(N_TRIALS):\n",
    "        print('Running trial {}/{}...'.format(tr_ctr+1, N_TRIALS))\n",
    "        \n",
    "        # make ridge\n",
    "        centers, ws = ridge_h(RIDGE_SHAPE, PC_DENS, hx['dists'], hx['weights'])\n",
    "        n = centers.shape[1]\n",
    "\n",
    "        # make upstream connectivity matrix\n",
    "        ws_up_a = P.W_A_PC_PL * np.eye(n)\n",
    "        ws_up_n = P.W_N_PC_EC * np.eye(n)\n",
    "        ws_up = {\n",
    "            'AMPA': cc([ws_up_a, np.zeros((n, n))]),\n",
    "            'NMDA': cc([np.zeros((n, n)), ws_up_n]),\n",
    "        }\n",
    "\n",
    "        # make recurrent connectivity matrix\n",
    "        cxns = cxns_pcs_rcr(centers, z_pc, l_pc)\n",
    "        ws_rcr = {'AMPA': P.W_A_PC_PC*cxns.astype(float), 'NMDA': np.zeros((n, n))}\n",
    "\n",
    "        # make ntwk\n",
    "        ntwk = LIFNtwk(\n",
    "            t_m=P.T_M_PC, e_l=P.E_L_PC, v_th=P.V_TH_PC,\n",
    "            v_reset=P.V_RESET_PC, t_r=P.T_R,\n",
    "            e_ahpE_AHP, t_ahp=T_AHP, w_ahp=W_AHP,\n",
    "            es_syn={'AMPA': P.E_A, 'NMDA': P.E_N},\n",
    "            ts_syn={'AMPA': P.T_A, 'NMDA': P.T_N},\n",
    "            ws_up=ws_up, ws_rcr=ws_rcr)\n",
    "\n",
    "        # "
   ]
  },
  {
   "cell_type": "markdown",
   "metadata": {},
   "source": [
    "### PLOT\n",
    "\n",
    "* (m x 2) ax fig, with each row corresponding to one set of Z/L params\n",
    "* first col shows summed population activity over time, second col shows final pop activity vs. initial pop activity"
   ]
  },
  {
   "cell_type": "markdown",
   "metadata": {},
   "source": [
    "### Activity propagation\n",
    "\n",
    "We now ask, for ntwks where the ridge response was at least as great as the initial activation, whether activity propagates smoothly along the ridge when we let the simulation run for a full second."
   ]
  },
  {
   "cell_type": "markdown",
   "metadata": {},
   "source": [
    "### PLOT\n",
    "\n",
    "* (m x 1) figure showing ntwk response rasters for selected set of Z_PC, L_PC pairs when triggered with sufficiently strong initial activations"
   ]
  },
  {
   "cell_type": "markdown",
   "metadata": {},
   "source": [
    "# INH Pool\n",
    "\n",
    "We now explore the potential that a pool of inhibitory neurons might have to bring the activity propagation into a precisely controllable regime."
   ]
  },
  {
   "cell_type": "markdown",
   "metadata": {},
   "source": [
    "### Dependence of INH response to PC inputs on distribution of PC-->INH cxn strengths\n",
    "\n",
    "For several different distributions of PC-->INH cxn strengths, from a delta distribution where they're all the same, to a distribution heavily weighted on small cxn strengths, we measure the population response to specific numbers of input PC spikes over a subsequent small window of time."
   ]
  },
  {
   "cell_type": "code",
   "execution_count": null,
   "metadata": {
    "collapsed": true
   },
   "outputs": [],
   "source": []
  },
  {
   "cell_type": "markdown",
   "metadata": {},
   "source": [
    "### PLOT\n",
    "\n",
    "* (m x 2) ax figure, with one row per set of INH distributions\n",
    "* 1st col shows set of distributions of PC-->INH cxn strengths, with each distribution in a diff color\n",
    "* 2nd col shows INH responses to diff numbers of triggering PC activations, each with error bars, color matched to first col"
   ]
  },
  {
   "cell_type": "markdown",
   "metadata": {},
   "source": [
    "# Full HX Ridge Simulation\n",
    "\n",
    "We now combine the excitation-only ridge simulation with an inhibitory population in our attempt to control the \"operating\" point of the network, that is, the average activation during propagation."
   ]
  },
  {
   "cell_type": "code",
   "execution_count": null,
   "metadata": {
    "collapsed": true
   },
   "outputs": [],
   "source": []
  },
  {
   "cell_type": "markdown",
   "metadata": {},
   "source": [
    "### PLOT\n",
    "\n",
    "* (m x n) ax figure, one row per param set\n",
    "* 1st col shows excitatory cxn probability curve and inhibitory distribution overlaid atop one another\n",
    "* later cols show raster plots of activity for different trials"
   ]
  }
 ],
 "metadata": {
  "kernelspec": {
   "display_name": "Python 3",
   "language": "python",
   "name": "python3"
  },
  "language_info": {
   "codemirror_mode": {
    "name": "ipython",
    "version": 3
   },
   "file_extension": ".py",
   "mimetype": "text/x-python",
   "name": "python",
   "nbconvert_exporter": "python",
   "pygments_lexer": "ipython3",
   "version": "3.6.1"
  }
 },
 "nbformat": 4,
 "nbformat_minor": 2
}
