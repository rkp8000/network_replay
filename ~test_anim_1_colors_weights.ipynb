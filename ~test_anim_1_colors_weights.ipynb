{
 "cells": [
  {
   "cell_type": "code",
   "execution_count": 1,
   "metadata": {},
   "outputs": [
    {
     "data": {
      "image/png": "[encoded data removed]",
      "text/plain": [
       "<matplotlib.figure.Figure at 0x1037af470>"
      ]
     },
     "metadata": {},
     "output_type": "display_data"
    }
   ],
   "source": [
    "%reset -f\n",
    "%matplotlib inline\n",
    "import matplotlib.pyplot as plt\n",
    "import numpy as np\n",
    "\n",
    "from anim.build_frames import w_to_line\n",
    "from plot import set_font_size\n",
    "\n",
    "positions = np.array([[0, 0], [1, 0], [2, 0], [0, 1], [1, 1], [2, 1]]).T\n",
    "\n",
    "w = np.array([\n",
    "    [0, 1, 0, 1, 0, 0],\n",
    "    [0, 0, 1, 0, 1, 0],\n",
    "    [0, 0, 0, 0, 0, 1],\n",
    "    [0, 0, 0, 0, 1, 0],\n",
    "    [0, 0, 0, 0, 0, 0],\n",
    "    [0, 0, 0, 0, 1, 0],\n",
    "])\n",
    "\n",
    "fig, ax = plt.subplots(1, 1, figsize=(8, 5), tight_layout=True)\n",
    "ax.scatter(positions[0], positions[1], lw=0, c='g', s=500, zorder=1)\n",
    "line = w_to_line(w, positions)\n",
    "ax.plot(line[0], line[1], color='k', zorder=0)\n",
    "\n",
    "ax.set_xlabel('x')\n",
    "ax.set_ylabel('y')\n",
    "ax.set_title('Example weight matrix drawing.')\n",
    "\n",
    "set_font_size(ax, 16)"
   ]
  },
  {
   "cell_type": "code",
   "execution_count": 2,
   "metadata": {},
   "outputs": [
    {
     "name": "stdout",
     "output_type": "stream",
     "text": [
      "Uncolored frames saved with prefix \"test_anim/cell_types/ntwk/frame_black\".\n",
      "Colored frames saved with prefix \"test_anim/cell_types/ntwk/frame_colored\".\n"
     ]
    }
   ],
   "source": [
    "%reset -f\n",
    "import numpy as np\n",
    "\n",
    "from aux import save_time_file\n",
    "from anim import build_frames\n",
    "from ntwk import NtwkResponse\n",
    "\n",
    "TIME_FILE = 'test_anim/cell_types/time.npy'\n",
    "NTWK_FILE = 'test_anim/cell_types/ntwk.npy'\n",
    "FRAME_PREFIX = 'test_anim/cell_types/ntwk/frame'\n",
    "\n",
    "ts = np.arange(10) * (1/30)\n",
    "vs = -0.068*np.ones((10, 6))\n",
    "spks = np.zeros(vs.shape, dtype=bool)\n",
    "gs = {'AMPA': np.zeros(vs.shape)}\n",
    "ws_rcr = {\n",
    "    'AMPA': np.array([\n",
    "        [0, 1, 0, 1, 0, 0],\n",
    "        [0, 0, 1, 0, 1, 0],\n",
    "        [0, 0, 0, 0, 0, 1],\n",
    "        [0, 0, 0, 0, 1, 0],\n",
    "        [0, 0, 0, 0, 0, 0],\n",
    "        [0, 0, 0, 0, 1, 0],\n",
    "    ])\n",
    "}\n",
    "ws_up = {'AMPA': np.zeros((6, 2))}\n",
    "v_rest = -0.068\n",
    "v_th = -0.036\n",
    "cell_types = ['EX', 'EX', 'EX', 'INH', 'INH', 'INH']\n",
    "\n",
    "positions = np.array([[0, 0], [1, 0], [2, 0], [0, 1], [1, 1], [2, 1]]).T\n",
    "\n",
    "x_ticks = [-0.5, 2.5]\n",
    "y_ticks = [-0.5, 1.5]\n",
    "x_tick_labels = [0, 2]\n",
    "y_tick_labels = [0, 1]\n",
    "\n",
    "resp = NtwkResponse(\n",
    "    vs=vs, spks=spks, gs=gs, ws_rcr=ws_rcr, ws_up=ws_up,\n",
    "    v_rest=v_rest, v_th=v_th, cell_types=cell_types, pfcs=positions)\n",
    "\n",
    "save_time_file(TIME_FILE, ts)\n",
    "resp.save(NTWK_FILE)\n",
    "\n",
    "frames_black = build_frames.ntwk_activity(\n",
    "    save_prefix=FRAME_PREFIX + '_black',\n",
    "    time_file=TIME_FILE,\n",
    "    ntwk_file=NTWK_FILE,\n",
    "    cxn_lw=2,\n",
    "    x_ticks=x_ticks,\n",
    "    y_ticks=y_ticks,\n",
    "    x_tick_labels=x_tick_labels,\n",
    "    y_tick_labels=y_tick_labels,\n",
    "    resting_size=500)\n",
    "\n",
    "frames_colored = build_frames.ntwk_activity(\n",
    "    save_prefix=FRAME_PREFIX + '_colored',\n",
    "    time_file=TIME_FILE,\n",
    "    ntwk_file=NTWK_FILE,\n",
    "    resting_size=500,\n",
    "    cxn_color={\n",
    "        ('EX', 'EX'): (0, 0, 0),\n",
    "        ('EX', 'INH'): (1, 0, 0, 0.3),\n",
    "        ('INH', 'EX'): (1, 0, 0, 0.3),\n",
    "        ('INH', 'INH'): (0, 0, 1),\n",
    "    },\n",
    "    cxn_lw=2,\n",
    "    x_ticks=x_ticks,\n",
    "    y_ticks=y_ticks,\n",
    "    x_tick_labels=x_tick_labels,\n",
    "    y_tick_labels=y_tick_labels,\n",
    "    default_color={'EX': (0, 0, 0), 'INH': (0, 0, 1)})\n",
    "\n",
    "print('Uncolored frames saved with prefix \"{}\".'.format(FRAME_PREFIX + '_black'))\n",
    "print('Colored frames saved with prefix \"{}\".'.format(FRAME_PREFIX + '_colored'))"
   ]
  }
 ],
 "metadata": {
  "kernelspec": {
   "display_name": "Python 3",
   "language": "python",
   "name": "python3"
  },
  "language_info": {
   "codemirror_mode": {
    "name": "ipython",
    "version": 3
   },
   "file_extension": ".py",
   "mimetype": "text/x-python",
   "name": "python",
   "nbconvert_exporter": "python",
   "pygments_lexer": "ipython3",
   "version": "3.6.1"
  }
 },
 "nbformat": 4,
 "nbformat_minor": 2
}
