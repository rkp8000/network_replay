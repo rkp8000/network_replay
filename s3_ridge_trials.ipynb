{
 "cells": [
  {
   "cell_type": "markdown",
   "metadata": {},
   "source": [
    "# Trial animation"
   ]
  },
  {
   "cell_type": "code",
   "execution_count": 1,
   "metadata": {
    "collapsed": true
   },
   "outputs": [],
   "source": [
    "import aux\n",
    "from search import ridge_viz\n",
    "\n",
    "from search import ridge_global as C\n",
    "import PARAMETERS as P\n",
    "\n",
    "pre = {\n",
    "    'w_n_pc_ec_vs_dist': aux.load(C.PATH_W_N_PC_EC_VS_DIST),\n",
    "    'v_g_n_vs_w_n_pc_ec_fr_ec': aux.load(C.PATH_V_G_N_VS_W_N_PC_EC_FR_EC)\n",
    "}"
   ]
  },
  {
   "cell_type": "code",
   "execution_count": null,
   "metadata": {},
   "outputs": [
    {
     "name": "stdout",
     "output_type": "stream",
     "text": [
      "\n",
      "Running network simulations...\n",
      "Results: \n",
      "{'STABILITY': 1.0, 'ACTIVITY': 2.3459987762367733, 'SPEED': 9.4726427344375494}\n",
      "\n",
      "Saving response file...\n",
      "\n",
      "Building frames...\n",
      "\n",
      "Using activity file \"sims/ridge/smln_2_rand/ntwk-71035-1.npy\".\n",
      "Frames will be saved with prefix \"sims/ridge/smln_2_rand/frames-71035-1/f-\".\n",
      "Loading network activity...\n",
      "Downsampling data from 2000.0 to 1000 fps...\n",
      "Data downsampled.\n",
      "Data loaded.\n"
     ]
    },
    {
     "name": "stderr",
     "output_type": "stream",
     "text": [
      "/Users/rkp/anaconda3/envs/py3/lib/python3.6/site-packages/scipy/sparse/compressed.py:774: SparseEfficiencyWarning: Changing the sparsity structure of a csc_matrix is expensive. lil_matrix is more efficient.\n",
      "  SparseEfficiencyWarning)\n"
     ]
    },
    {
     "name": "stdout",
     "output_type": "stream",
     "text": [
      "Generating and saving 200 frames...\n",
      "13 frames completed after 305.416 s...\n",
      "25 frames completed after 605.758 s...\n"
     ]
    }
   ],
   "source": [
    "TRIAL = 71035\n",
    "RUN = 1\n",
    "SAVE_DIR = 'sims/ridge/smln_2_rand'\n",
    "\n",
    "ridge_viz.animate(SAVE_DIR, TRIAL, RUN, pre, C, P, fig_size=(10, 5), positions='random', report_every=300)"
   ]
  },
  {
   "cell_type": "code",
   "execution_count": null,
   "metadata": {},
   "outputs": [],
   "source": [
    "TRIAL = 71035\n",
    "RUN = 1\n",
    "SAVE_DIR = 'sims/ridge/smln_2'\n",
    "\n",
    "ridge_viz.animate(SAVE_DIR, TRIAL, RUN, pre, C, P, fig_size=(15, 7), report_every=300)"
   ]
  }
 ],
 "metadata": {
  "kernelspec": {
   "display_name": "Python 3",
   "language": "python",
   "name": "python3"
  },
  "language_info": {
   "codemirror_mode": {
    "name": "ipython",
    "version": 3
   },
   "file_extension": ".py",
   "mimetype": "text/x-python",
   "name": "python",
   "nbconvert_exporter": "python",
   "pygments_lexer": "ipython3",
   "version": "3.6.1"
  }
 },
 "nbformat": 4,
 "nbformat_minor": 2
}
