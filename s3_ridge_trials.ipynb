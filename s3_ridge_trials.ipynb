{
 "cells": [
  {
   "cell_type": "markdown",
   "metadata": {},
   "source": [
    "# Trial animation"
   ]
  },
  {
   "cell_type": "code",
   "execution_count": 1,
   "metadata": {},
   "outputs": [],
   "source": [
    "import aux\n",
    "from search import ridge_viz\n",
    "\n",
    "from search import ridge_global as C\n",
    "import PARAMETERS as P\n",
    "\n",
    "pre = {\n",
    "    'w_n_pc_ec_vs_dist': aux.load(C.PATH_W_N_PC_EC_VS_DIST),\n",
    "    'v_g_n_vs_w_n_pc_ec_fr_ec': aux.load(C.PATH_V_G_N_VS_W_N_PC_EC_FR_EC)\n",
    "}"
   ]
  },
  {
   "cell_type": "code",
   "execution_count": 2,
   "metadata": {
    "scrolled": false
   },
   "outputs": [
    {
     "name": "stdout",
     "output_type": "stream",
     "text": [
      "\n",
      "Running network simulations...\n",
      "Results: \n",
      "{'STABILITY': 1.0, 'ACTIVITY': 5.3635940840200416, 'SPEED': 20.399904077408031}\n",
      "\n",
      "Saving response file...\n",
      "\n",
      "Building frames...\n",
      "\n",
      "Using activity file \"sims/ridge/smln_1/ntwk-55615-1.npy\".\n",
      "Frames will be saved with prefix \"sims/ridge/smln_1/frames-55615-1/f-\".\n",
      "Loading network activity...\n",
      "Downsampling data from 2000.0 to 1000 fps...\n",
      "Data downsampled.\n",
      "Data loaded.\n"
     ]
    },
    {
     "name": "stderr",
     "output_type": "stream",
     "text": [
      "/Users/rkp/anaconda3/envs/py3/lib/python3.6/site-packages/scipy/sparse/compressed.py:774: SparseEfficiencyWarning: Changing the sparsity structure of a csc_matrix is expensive. lil_matrix is more efficient.\n",
      "  SparseEfficiencyWarning)\n"
     ]
    },
    {
     "name": "stdout",
     "output_type": "stream",
     "text": [
      "Generating and saving 200 frames...\n",
      "17 frames completed after 187.891 s...\n",
      "34 frames completed after 375.486 s...\n",
      "51 frames completed after 563.104 s...\n",
      "68 frames completed after 750.757 s...\n",
      "85 frames completed after 938.544 s...\n",
      "102 frames completed after 1126.561 s...\n",
      "119 frames completed after 1314.773 s...\n",
      "136 frames completed after 1502.995 s...\n",
      "153 frames completed after 1691.025 s...\n",
      "170 frames completed after 1879.303 s...\n",
      "187 frames completed after 2067.899 s...\n",
      "All frames written to disk.\n",
      "\n",
      "Making animation...\n",
      "\n",
      "Loading source images...\n"
     ]
    },
    {
     "name": "stderr",
     "output_type": "stream",
     "text": [
      "WARNING:root:IMAGEIO FFMPEG_WRITER WARNING: input image is not divisible by macro_block_size=16, resizing from (540, 1080) to (544, 1088) to ensure video compatibility with most codecs and players. To prevent resizing, make your input image divisible by the macro_block_size or set the macro_block_size to None (risking incompatibility). You may also see a FFMPEG warning concerning speedloss due to data not being aligned.\n"
     ]
    },
    {
     "name": "stdout",
     "output_type": "stream",
     "text": [
      "Source images loaded.\n",
      "Generating movie and saving at \"sims/ridge/smln_1/ntwk-55615-1.mp4\"...\n",
      "Movie generated.\n"
     ]
    }
   ],
   "source": [
    "TRIAL = 55615\n",
    "RUN = 1\n",
    "SAVE_DIR = 'sims/ridge/smln_1'\n",
    "\n",
    "ridge_viz.animate(SAVE_DIR, TRIAL, RUN, pre, C, P, report_every=180)"
   ]
  },
  {
   "cell_type": "code",
   "execution_count": 2,
   "metadata": {},
   "outputs": [
    {
     "name": "stdout",
     "output_type": "stream",
     "text": [
      "\n",
      "Running network simulations...\n",
      "Results: \n",
      "{'STABILITY': 1.0, 'ACTIVITY': 5.3635940840200416, 'SPEED': 20.399904077408031}\n",
      "\n",
      "Saving response file...\n",
      "\n",
      "Building frames...\n",
      "\n",
      "Using activity file \"sims/ridge/smln_1_rand_pos/ntwk-55615-1.npy\".\n",
      "Frames will be saved with prefix \"sims/ridge/smln_1_rand_pos/frames-55615-1/f-\".\n",
      "Loading network activity...\n",
      "Downsampling data from 2000.0 to 1000 fps...\n",
      "Data downsampled.\n",
      "Data loaded.\n"
     ]
    },
    {
     "name": "stderr",
     "output_type": "stream",
     "text": [
      "/Users/rkp/anaconda3/envs/py3/lib/python3.6/site-packages/scipy/sparse/compressed.py:774: SparseEfficiencyWarning: Changing the sparsity structure of a csc_matrix is expensive. lil_matrix is more efficient.\n",
      "  SparseEfficiencyWarning)\n"
     ]
    },
    {
     "name": "stdout",
     "output_type": "stream",
     "text": [
      "Generating and saving 200 frames...\n",
      "12 frames completed after 190.414 s...\n",
      "24 frames completed after 380.870 s...\n",
      "36 frames completed after 571.303 s...\n",
      "48 frames completed after 761.692 s...\n",
      "60 frames completed after 952.251 s...\n",
      "72 frames completed after 1143.365 s...\n",
      "84 frames completed after 1333.883 s...\n",
      "96 frames completed after 1524.346 s...\n",
      "108 frames completed after 1714.804 s...\n",
      "120 frames completed after 1905.313 s...\n",
      "132 frames completed after 2095.904 s...\n",
      "144 frames completed after 2286.463 s...\n",
      "156 frames completed after 2477.082 s...\n",
      "168 frames completed after 2667.742 s...\n",
      "180 frames completed after 2858.519 s...\n",
      "192 frames completed after 3049.213 s...\n",
      "All frames written to disk.\n",
      "\n",
      "Making animation...\n",
      "\n",
      "Loading source images...\n"
     ]
    },
    {
     "name": "stderr",
     "output_type": "stream",
     "text": [
      "WARNING:root:IMAGEIO FFMPEG_WRITER WARNING: input image is not divisible by macro_block_size=16, resizing from (540, 1080) to (544, 1088) to ensure video compatibility with most codecs and players. To prevent resizing, make your input image divisible by the macro_block_size or set the macro_block_size to None (risking incompatibility). You may also see a FFMPEG warning concerning speedloss due to data not being aligned.\n"
     ]
    },
    {
     "name": "stdout",
     "output_type": "stream",
     "text": [
      "Source images loaded.\n",
      "Generating movie and saving at \"sims/ridge/smln_1_rand_pos/ntwk-55615-1.mp4\"...\n",
      "Movie generated.\n"
     ]
    }
   ],
   "source": [
    "TRIAL = 55615\n",
    "RUN = 1\n",
    "SAVE_DIR = 'sims/ridge/smln_1_rand_pos'\n",
    "\n",
    "ridge_viz.animate(SAVE_DIR, TRIAL, RUN, pre, C, P, positions='random', report_every=180)"
   ]
  },
  {
   "cell_type": "code",
   "execution_count": 3,
   "metadata": {},
   "outputs": [
    {
     "name": "stdout",
     "output_type": "stream",
     "text": [
      "\n",
      "Running network simulations...\n",
      "Results: \n",
      "{'STABILITY': 1.0, 'ACTIVITY': 5.9988615973213655, 'SPEED': 21.686449200601174}\n",
      "\n",
      "Saving response file...\n",
      "\n",
      "Building frames...\n",
      "\n",
      "Using activity file \"sims/ridge/smln_1/ntwk-45387-0.npy\".\n",
      "Frames will be saved with prefix \"sims/ridge/smln_1/frames-45387-0/f-\".\n",
      "Loading network activity...\n",
      "Downsampling data from 2000.0 to 1000 fps...\n",
      "Data downsampled.\n",
      "Data loaded.\n"
     ]
    },
    {
     "name": "stderr",
     "output_type": "stream",
     "text": [
      "/Users/rkp/anaconda3/envs/py3/lib/python3.6/site-packages/scipy/sparse/compressed.py:774: SparseEfficiencyWarning: Changing the sparsity structure of a csc_matrix is expensive. lil_matrix is more efficient.\n",
      "  SparseEfficiencyWarning)\n"
     ]
    },
    {
     "name": "stdout",
     "output_type": "stream",
     "text": [
      "Generating and saving 200 frames...\n",
      "23 frames completed after 310.001 s...\n",
      "46 frames completed after 619.990 s...\n",
      "69 frames completed after 930.264 s...\n",
      "92 frames completed after 1240.415 s...\n",
      "115 frames completed after 1550.435 s...\n",
      "138 frames completed after 1860.489 s...\n",
      "161 frames completed after 2170.658 s...\n",
      "184 frames completed after 2480.901 s...\n",
      "All frames written to disk.\n",
      "\n",
      "Making animation...\n",
      "\n",
      "Loading source images...\n"
     ]
    },
    {
     "name": "stderr",
     "output_type": "stream",
     "text": [
      "WARNING:root:IMAGEIO FFMPEG_WRITER WARNING: input image is not divisible by macro_block_size=16, resizing from (540, 1080) to (544, 1088) to ensure video compatibility with most codecs and players. To prevent resizing, make your input image divisible by the macro_block_size or set the macro_block_size to None (risking incompatibility). You may also see a FFMPEG warning concerning speedloss due to data not being aligned.\n"
     ]
    },
    {
     "name": "stdout",
     "output_type": "stream",
     "text": [
      "Source images loaded.\n",
      "Generating movie and saving at \"sims/ridge/smln_1/ntwk-45387-0.mp4\"...\n",
      "Movie generated.\n"
     ]
    }
   ],
   "source": [
    "TRIAL = 45387\n",
    "RUN = 0\n",
    "SAVE_DIR = 'sims/ridge/smln_1'\n",
    "\n",
    "ridge_viz.animate(SAVE_DIR, TRIAL, RUN, pre, C, P, report_every=300)"
   ]
  },
  {
   "cell_type": "code",
   "execution_count": null,
   "metadata": {},
   "outputs": [
    {
     "name": "stdout",
     "output_type": "stream",
     "text": [
      "\n",
      "Running network simulations...\n",
      "Results: \n",
      "{'STABILITY': 1.0, 'ACTIVITY': 5.0168989788778768, 'SPEED': 19.138473215729643}\n",
      "\n",
      "Saving response file...\n",
      "\n",
      "Building frames...\n",
      "\n",
      "Using activity file \"sims/ridge/smln_1_scaled/ntwk-53985-0.npy\".\n",
      "Frames will be saved with prefix \"sims/ridge/smln_1_scaled/frames-53985-0/f-\".\n",
      "Loading network activity...\n",
      "Downsampling data from 2000.0 to 1000 fps...\n",
      "Data downsampled.\n",
      "Data loaded.\n"
     ]
    },
    {
     "name": "stderr",
     "output_type": "stream",
     "text": [
      "/Users/rkp/anaconda3/envs/py3/lib/python3.6/site-packages/scipy/sparse/compressed.py:774: SparseEfficiencyWarning: Changing the sparsity structure of a csc_matrix is expensive. lil_matrix is more efficient.\n",
      "  SparseEfficiencyWarning)\n"
     ]
    },
    {
     "name": "stdout",
     "output_type": "stream",
     "text": [
      "Generating and saving 200 frames...\n",
      "21 frames completed after 313.728 s...\n",
      "42 frames completed after 627.372 s...\n"
     ]
    }
   ],
   "source": [
    "TRIAL = 53985\n",
    "RUN = 0\n",
    "SAVE_DIR = 'sims/ridge/smln_1_scaled'\n",
    "\n",
    "ridge_viz.animate(SAVE_DIR, TRIAL, RUN, pre, C, P, fig_size=(22.5, 6), report_every=300)"
   ]
  },
  {
   "cell_type": "code",
   "execution_count": null,
   "metadata": {
    "collapsed": true
   },
   "outputs": [],
   "source": [
    "TRIAL = 53985\n",
    "RUN = 0\n",
    "SAVE_DIR = 'sims/ridge/smln_1_rand'\n",
    "\n",
    "ridge_viz.animate(SAVE_DIR, TRIAL, RUN, pre, C, P, positions='random', fig_size=(22.5, 6), report_every=300)"
   ]
  },
  {
   "cell_type": "code",
   "execution_count": null,
   "metadata": {
    "collapsed": true
   },
   "outputs": [],
   "source": [
    "TRIAL = 45387\n",
    "RUN = 0\n",
    "SAVE_DIR = 'sims/ridge/smln_1_scaled'\n",
    "\n",
    "ridge_viz.animate(SAVE_DIR, TRIAL, RUN, pre, C, P, fig_size=(22.5, 6), report_every=300)"
   ]
  },
  {
   "cell_type": "code",
   "execution_count": 4,
   "metadata": {},
   "outputs": [
    {
     "name": "stdout",
     "output_type": "stream",
     "text": [
      "\n",
      "Running network simulations...\n",
      "Results: \n",
      "{'STABILITY': 1.0, 'ACTIVITY': 24.494958554525407, 'SPEED': 97.54419800180203}\n",
      "\n",
      "Saving response file...\n",
      "\n",
      "Building frames...\n",
      "\n",
      "Using activity file \"sims/ridge/smln_1/ntwk-40066-0.npy\".\n",
      "Frames will be saved with prefix \"sims/ridge/smln_1/frames-40066-0/f-\".\n",
      "Loading network activity...\n",
      "Downsampling data from 2000.0 to 1000 fps...\n",
      "Data downsampled.\n",
      "Data loaded.\n"
     ]
    },
    {
     "name": "stderr",
     "output_type": "stream",
     "text": [
      "/Users/rkp/anaconda3/envs/py3/lib/python3.6/site-packages/scipy/sparse/compressed.py:774: SparseEfficiencyWarning: Changing the sparsity structure of a csc_matrix is expensive. lil_matrix is more efficient.\n",
      "  SparseEfficiencyWarning)\n"
     ]
    },
    {
     "name": "stdout",
     "output_type": "stream",
     "text": [
      "Generating and saving 200 frames...\n",
      "15 frames completed after 319.370 s...\n",
      "30 frames completed after 638.475 s...\n",
      "45 frames completed after 957.706 s...\n",
      "60 frames completed after 1277.130 s...\n",
      "75 frames completed after 1596.781 s...\n",
      "90 frames completed after 1916.536 s...\n",
      "105 frames completed after 2236.141 s...\n",
      "120 frames completed after 2555.614 s...\n",
      "135 frames completed after 2875.069 s...\n",
      "150 frames completed after 3194.474 s...\n",
      "165 frames completed after 3514.248 s...\n",
      "180 frames completed after 3833.946 s...\n",
      "195 frames completed after 4153.412 s...\n",
      "All frames written to disk.\n",
      "\n",
      "Making animation...\n",
      "\n",
      "Loading source images...\n"
     ]
    },
    {
     "name": "stderr",
     "output_type": "stream",
     "text": [
      "WARNING:root:IMAGEIO FFMPEG_WRITER WARNING: input image is not divisible by macro_block_size=16, resizing from (540, 1080) to (544, 1088) to ensure video compatibility with most codecs and players. To prevent resizing, make your input image divisible by the macro_block_size or set the macro_block_size to None (risking incompatibility). You may also see a FFMPEG warning concerning speedloss due to data not being aligned.\n"
     ]
    },
    {
     "name": "stdout",
     "output_type": "stream",
     "text": [
      "Source images loaded.\n",
      "Generating movie and saving at \"sims/ridge/smln_1/ntwk-40066-0.mp4\"...\n",
      "Movie generated.\n"
     ]
    }
   ],
   "source": [
    "TRIAL = 40066\n",
    "RUN = 0\n",
    "SAVE_DIR = 'sims/ridge/smln_1'\n",
    "\n",
    "ridge_viz.animate(SAVE_DIR, TRIAL, RUN, pre, C, P, report_every=300)"
   ]
  }
 ],
 "metadata": {
  "kernelspec": {
   "display_name": "Python 3",
   "language": "python",
   "name": "python3"
  },
  "language_info": {
   "codemirror_mode": {
    "name": "ipython",
    "version": 3
   },
   "file_extension": ".py",
   "mimetype": "text/x-python",
   "name": "python",
   "nbconvert_exporter": "python",
   "pygments_lexer": "ipython3",
   "version": "3.6.1"
  }
 },
 "nbformat": 4,
 "nbformat_minor": 2
}
