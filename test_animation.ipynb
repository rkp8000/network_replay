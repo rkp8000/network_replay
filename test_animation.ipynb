{
 "cells": [
  {
   "cell_type": "markdown",
   "metadata": {},
   "source": [
    "### Create simple neural sequence and save timestamps and activity pattern to file"
   ]
  },
  {
   "cell_type": "code",
   "execution_count": 1,
   "metadata": {
    "collapsed": true
   },
   "outputs": [],
   "source": [
    "from animation import build_frames, merge_frames, create_gif\n",
    "from copy import copy\n",
    "import numpy as np\n",
    "import os\n",
    "import shelve\n",
    "\n",
    "DUR = 2\n",
    "FS = 1000\n",
    "V_REST = -0.07\n",
    "V_TH = -0.04\n",
    "\n",
    "STARTS = [100, 300, 500, 700]\n",
    "ITVL = 200\n",
    "\n",
    "ts = np.linspace(0, DUR, FS * DUR, endpoint=False)\n",
    "vs = V_REST * np.ones((len(ts), len(STARTS)))\n",
    "spikes = np.zeros(vs.shape, dtype=bool)\n",
    "\n",
    "for neur, start in enumerate(STARTS):\n",
    "    for offset in [0, 1000]:\n",
    "        vs[offset+start:offset+start+ITVL, neur] = np.linspace(V_REST, V_TH, ITVL)\n",
    "        spikes[offset+start+ITVL, neur] = True\n",
    "        \n",
    "xs = np.arange(len(STARTS))\n",
    "ys = np.arange(len(STARTS))\n",
    "\n",
    "positions = np.array([xs, ys])\n",
    "\n",
    "# make sure save directory exists\n",
    "if not os.path.exists('test_anim'): os.makedirs('test_anim')\n",
    "\n",
    "data_t = shelve.open('test_anim/timestamp')\n",
    "data_t['timestamps'] = ts\n",
    "data_t['fs'] = FS\n",
    "data_t.close()\n",
    "\n",
    "data_a = shelve.open('test_anim/ntwk_activity')\n",
    "data_a['vs'] = vs\n",
    "data_a['spikes'] = spikes\n",
    "data_a['v_rest'] = V_REST\n",
    "data_a['v_th'] = V_TH\n",
    "data_a['positions'] = positions\n",
    "data_a.close()"
   ]
  },
  {
   "cell_type": "markdown",
   "metadata": {},
   "source": [
    "### Build frames and gif"
   ]
  },
  {
   "cell_type": "code",
   "execution_count": 2,
   "metadata": {
    "collapsed": true
   },
   "outputs": [],
   "source": [
    "FPS = [30, 120, 60, 30]\n",
    "PLAYBACK_FPS = [15, 30, 30, 30]"
   ]
  },
  {
   "cell_type": "code",
   "execution_count": 3,
   "metadata": {},
   "outputs": [
    {
     "name": "stdout",
     "output_type": "stream",
     "text": [
      "Using timestamp file \"test_anim/timestamp\" and activity file \"test_anim/ntwk_activity\".\n",
      "Frames will be saved with prefix \"test_anim/ntwk_activity_frames/frame\".\n",
      "Loading timestamps and network activity data...\n",
      "Data loaded.\n",
      "Downsampling data from 1000 Hz to 30 fps...\n",
      "Data downsampled.\n",
      "Generating and saving 60 frames...\n",
      "Frames saved.\n",
      "Loading source images...\n",
      "Source images loaded.\n",
      "Generating gif...\n",
      "Gif generated.\n",
      "Using timestamp file \"test_anim/timestamp\" and activity file \"test_anim/ntwk_activity\".\n",
      "Frames will be saved with prefix \"test_anim/ntwk_activity_frames/frame\".\n",
      "Loading timestamps and network activity data...\n",
      "Data loaded.\n",
      "Downsampling data from 1000 Hz to 120 fps...\n",
      "Data downsampled.\n",
      "Generating and saving 240 frames...\n",
      "Frames saved.\n",
      "Loading source images...\n",
      "Source images loaded.\n",
      "Generating gif...\n",
      "Gif generated.\n",
      "Using timestamp file \"test_anim/timestamp\" and activity file \"test_anim/ntwk_activity\".\n",
      "Frames will be saved with prefix \"test_anim/ntwk_activity_frames/frame\".\n",
      "Loading timestamps and network activity data...\n",
      "Data loaded.\n",
      "Downsampling data from 1000 Hz to 60 fps...\n",
      "Data downsampled.\n",
      "Generating and saving 120 frames...\n",
      "Frames saved.\n",
      "Loading source images...\n",
      "Source images loaded.\n",
      "Generating gif...\n",
      "Gif generated.\n",
      "Using timestamp file \"test_anim/timestamp\" and activity file \"test_anim/ntwk_activity\".\n",
      "Frames will be saved with prefix \"test_anim/ntwk_activity_frames/frame\".\n",
      "Loading timestamps and network activity data...\n",
      "Data loaded.\n",
      "Downsampling data from 1000 Hz to 30 fps...\n",
      "Data downsampled.\n",
      "Generating and saving 60 frames...\n",
      "Frames saved.\n",
      "Loading source images...\n",
      "Source images loaded.\n",
      "Generating gif...\n",
      "Gif generated.\n"
     ]
    }
   ],
   "source": [
    "for fps, playback_fps in zip(FPS, PLAYBACK_FPS):\n",
    "    save_file_gif = 'test_anim/ntwk_activity_{}_fps_{}Hz_playback'.format(\n",
    "        fps, playback_fps)\n",
    "\n",
    "    save_files = build_frames.ntwk_activity(\n",
    "        save_prefix='test_anim/ntwk_activity_frames/frame',\n",
    "        time_file='test_anim/timestamp',\n",
    "        activity_file='test_anim/ntwk_activity',\n",
    "        fps=fps,\n",
    "        frames_per_spike=5,\n",
    "        verbose=True)\n",
    "    \n",
    "    gif = create_gif(\n",
    "        save_files, save_file=save_file_gif,\n",
    "        playback_fps=playback_fps, verbose=True)\n",
    "\n",
    "save_files_ntwk = copy(save_files)\n",
    "gif_ntwk = gif"
   ]
  },
  {
   "cell_type": "markdown",
   "metadata": {},
   "source": [
    "### Display resulting example GIF"
   ]
  },
  {
   "cell_type": "code",
   "execution_count": 4,
   "metadata": {},
   "outputs": [
    {
     "name": "stdout",
     "output_type": "stream",
     "text": [
      "test_anim/ntwk_activity_30_fps_30Hz_playback.gif\n"
     ]
    },
    {
     "data": {
      "text/html": [
       "<img src=\"test_anim/ntwk_activity_30_fps_30Hz_playback.gif\" />"
      ],
      "text/plain": [
       "<IPython.core.display.HTML object>"
      ]
     },
     "execution_count": 4,
     "metadata": {},
     "output_type": "execute_result"
    }
   ],
   "source": [
    "from IPython import display\n",
    "\n",
    "print(gif_ntwk)\n",
    "display.HTML('<img src=\"{}\" />'.format(gif_ntwk))"
   ]
  },
  {
   "cell_type": "markdown",
   "metadata": {},
   "source": [
    "# Create position sequence for trajectory animation"
   ]
  },
  {
   "cell_type": "code",
   "execution_count": 5,
   "metadata": {
    "collapsed": true
   },
   "outputs": [],
   "source": [
    "from scipy.ndimage import gaussian_filter1d\n",
    "\n",
    "STD = 1\n",
    "SMOOTHING = 200\n",
    "SEED = 0\n",
    "\n",
    "np.random.seed(SEED)\n",
    "\n",
    "# make random x and y position sequences\n",
    "xys = STD * np.random.randn(len(ts), 2)\n",
    "# smooth them\n",
    "xys = gaussian_filter1d(xys, SMOOTHING, axis=0)\n",
    "\n",
    "# make sure save directory exists\n",
    "if not os.path.exists('test_anim'): os.makedirs('test_anim')\n",
    "\n",
    "# save traj file\n",
    "data_tr = shelve.open('test_anim/traj')\n",
    "data_tr['xys'] = xys\n",
    "data_tr.close()"
   ]
  },
  {
   "cell_type": "markdown",
   "metadata": {},
   "source": [
    "### Build frames and gif"
   ]
  },
  {
   "cell_type": "code",
   "execution_count": 6,
   "metadata": {
    "scrolled": false
   },
   "outputs": [
    {
     "name": "stdout",
     "output_type": "stream",
     "text": [
      "Loading source images...\n",
      "Source images loaded.\n",
      "Generating gif...\n",
      "Gif generated.\n",
      "Loading source images...\n",
      "Source images loaded.\n",
      "Generating gif...\n",
      "Gif generated.\n",
      "Loading source images...\n",
      "Source images loaded.\n",
      "Generating gif...\n",
      "Gif generated.\n",
      "Loading source images...\n",
      "Source images loaded.\n",
      "Generating gif...\n",
      "Gif generated.\n"
     ]
    }
   ],
   "source": [
    "for fps, playback_fps in zip(FPS, PLAYBACK_FPS):\n",
    "    save_file_gif = 'test_anim/traj_{}_fps_{}Hz_playback'.format(\n",
    "        fps, playback_fps)\n",
    "\n",
    "    save_files = build_frames.traj(\n",
    "        save_prefix='test_anim/traj_frames/frame',\n",
    "        time_file='test_anim/timestamp',\n",
    "        traj_file='test_anim/traj',\n",
    "        fps=fps,\n",
    "        verbose=True)\n",
    "\n",
    "    gif = create_gif(\n",
    "        save_files, save_file=save_file_gif,\n",
    "        playback_fps=playback_fps, verbose=True)\n",
    "\n",
    "save_files_traj = copy(save_files)\n",
    "gif_traj = gif"
   ]
  },
  {
   "cell_type": "code",
   "execution_count": 7,
   "metadata": {},
   "outputs": [
    {
     "name": "stdout",
     "output_type": "stream",
     "text": [
      "test_anim/traj_30_fps_30Hz_playback.gif\n"
     ]
    },
    {
     "data": {
      "text/html": [
       "<img src=\"test_anim/traj_30_fps_30Hz_playback.gif\" />"
      ],
      "text/plain": [
       "<IPython.core.display.HTML object>"
      ]
     },
     "execution_count": 7,
     "metadata": {},
     "output_type": "execute_result"
    }
   ],
   "source": [
    "print(gif_traj)\n",
    "display.HTML('<img src=\"{}\" />'.format(gif_traj))"
   ]
  },
  {
   "cell_type": "markdown",
   "metadata": {},
   "source": [
    "# Create merged frames and gif"
   ]
  },
  {
   "cell_type": "code",
   "execution_count": 8,
   "metadata": {},
   "outputs": [
    {
     "name": "stdout",
     "output_type": "stream",
     "text": [
      "Loading source images...\n",
      "Source images loaded.\n",
      "Generating gif...\n",
      "Gif generated.\n"
     ]
    }
   ],
   "source": [
    "save_prefix = 'test_anim/merged_frames/frame'\n",
    "rects = [(0, 0, 432, 288), (432, 0, 864, 288)]\n",
    "size = (864, 288)\n",
    "\n",
    "merged_frames = merge_frames([save_files_ntwk, save_files_traj], save_prefix, rects, size)\n",
    "\n",
    "gif_merged = create_gif(merged_frames, 'test_anim/merged', playback_fps=30, verbose=True)"
   ]
  },
  {
   "cell_type": "code",
   "execution_count": 11,
   "metadata": {},
   "outputs": [
    {
     "name": "stdout",
     "output_type": "stream",
     "text": [
      "test_anim/merged.gif\n"
     ]
    },
    {
     "data": {
      "text/html": [
       "<img src=\"test_anim/merged.gif\" />"
      ],
      "text/plain": [
       "<IPython.core.display.HTML object>"
      ]
     },
     "execution_count": 11,
     "metadata": {},
     "output_type": "execute_result"
    }
   ],
   "source": [
    "print(gif_merged)\n",
    "display.HTML('<img src=\"{}\" />'.format(gif_merged))"
   ]
  }
 ],
 "metadata": {
  "kernelspec": {
   "display_name": "Python 3",
   "language": "python",
   "name": "python3"
  },
  "language_info": {
   "codemirror_mode": {
    "name": "ipython",
    "version": 3
   },
   "file_extension": ".py",
   "mimetype": "text/x-python",
   "name": "python",
   "nbconvert_exporter": "python",
   "pygments_lexer": "ipython3",
   "version": "3.6.1"
  }
 },
 "nbformat": 4,
 "nbformat_minor": 2
}
