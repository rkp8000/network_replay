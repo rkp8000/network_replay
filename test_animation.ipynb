{
 "cells": [
  {
   "cell_type": "code",
   "execution_count": 1,
   "metadata": {
    "collapsed": true
   },
   "outputs": [],
   "source": [
    "from animation import build_frames, create_gif"
   ]
  },
  {
   "cell_type": "markdown",
   "metadata": {},
   "source": [
    "### Create simple neural sequence and save timestamps and activity pattern to file"
   ]
  },
  {
   "cell_type": "code",
   "execution_count": 2,
   "metadata": {
    "collapsed": true
   },
   "outputs": [],
   "source": [
    "import numpy as np\n",
    "import os\n",
    "import shelve\n",
    "\n",
    "DUR = 2\n",
    "FS = 1000\n",
    "V_REST = -0.07\n",
    "V_TH = -0.04\n",
    "\n",
    "STARTS = [100, 300, 500, 700]\n",
    "ITVL = 200\n",
    "\n",
    "ts = np.linspace(0, DUR, FS * DUR, endpoint=False)\n",
    "vs = V_REST * np.ones((len(ts), len(STARTS)))\n",
    "spikes = np.zeros(vs.shape, dtype=bool)\n",
    "\n",
    "for neur, start in enumerate(STARTS):\n",
    "    for offset in [0, 1000]:\n",
    "        vs[offset+start:offset+start+ITVL, neur] = np.linspace(V_REST, V_TH, ITVL)\n",
    "        spikes[offset+start+ITVL, neur] = True\n",
    "        \n",
    "xs = np.arange(len(STARTS))\n",
    "ys = np.arange(len(STARTS))\n",
    "\n",
    "positions = np.array([xs, ys])\n",
    "\n",
    "# make sure save directory exists\n",
    "if not os.path.exists('test_activity_anim'): os.makedirs('test_activity_anim')\n",
    "\n",
    "data_t = shelve.open('test_activity_anim/test_time')\n",
    "data_t['timestamps'] = ts\n",
    "data_t['fs'] = FS\n",
    "data_t.close()\n",
    "\n",
    "data_a = shelve.open('test_activity_anim/test_activity')\n",
    "data_a['vs'] = vs\n",
    "data_a['spikes'] = spikes\n",
    "data_a['v_rest'] = V_REST\n",
    "data_a['v_th'] = V_TH\n",
    "data_a['positions'] = positions\n",
    "data_a.close()"
   ]
  },
  {
   "cell_type": "markdown",
   "metadata": {},
   "source": [
    "### Build frames and gif"
   ]
  },
  {
   "cell_type": "code",
   "execution_count": 3,
   "metadata": {
    "collapsed": true
   },
   "outputs": [],
   "source": [
    "FPS = [30, 60, 120, 30]\n",
    "PLAYBACK_FPS = [30, 30, 30, 15]"
   ]
  },
  {
   "cell_type": "code",
   "execution_count": 4,
   "metadata": {},
   "outputs": [
    {
     "name": "stdout",
     "output_type": "stream",
     "text": [
      "Using timestamp file \"test_activity_anim/test_time\" and activity file \"test_activity_anim/test_activity\".\n",
      "Frames will be saved with prefix \"test_activity_anim/test_frames/frame\".\n",
      "Loading timestamps and network activity data...\n",
      "Data loaded.\n",
      "Downsampling data from 1000 Hz to 30 fps...\n",
      "Data downsampled.\n",
      "Generating and saving 60 frames...\n",
      "Frames saved.\n",
      "Loading source images...\n",
      "Source images loaded.\n",
      "Generating gif...\n",
      "Gif generated.\n",
      "Deleting originals...\n",
      "Originals deleted.\n",
      "Using timestamp file \"test_activity_anim/test_time\" and activity file \"test_activity_anim/test_activity\".\n",
      "Frames will be saved with prefix \"test_activity_anim/test_frames/frame\".\n",
      "Loading timestamps and network activity data...\n",
      "Data loaded.\n",
      "Downsampling data from 1000 Hz to 60 fps...\n",
      "Data downsampled.\n",
      "Generating and saving 120 frames...\n",
      "Frames saved.\n",
      "Loading source images...\n",
      "Source images loaded.\n",
      "Generating gif...\n",
      "Gif generated.\n",
      "Deleting originals...\n",
      "Originals deleted.\n",
      "Using timestamp file \"test_activity_anim/test_time\" and activity file \"test_activity_anim/test_activity\".\n",
      "Frames will be saved with prefix \"test_activity_anim/test_frames/frame\".\n",
      "Loading timestamps and network activity data...\n",
      "Data loaded.\n",
      "Downsampling data from 1000 Hz to 120 fps...\n",
      "Data downsampled.\n",
      "Generating and saving 240 frames...\n",
      "Frames saved.\n",
      "Loading source images...\n",
      "Source images loaded.\n",
      "Generating gif...\n",
      "Gif generated.\n",
      "Deleting originals...\n",
      "Originals deleted.\n",
      "Using timestamp file \"test_activity_anim/test_time\" and activity file \"test_activity_anim/test_activity\".\n",
      "Frames will be saved with prefix \"test_activity_anim/test_frames/frame\".\n",
      "Loading timestamps and network activity data...\n",
      "Data loaded.\n",
      "Downsampling data from 1000 Hz to 30 fps...\n",
      "Data downsampled.\n",
      "Generating and saving 60 frames...\n",
      "Frames saved.\n",
      "Loading source images...\n",
      "Source images loaded.\n",
      "Generating gif...\n",
      "Gif generated.\n",
      "Deleting originals...\n",
      "Originals deleted.\n"
     ]
    }
   ],
   "source": [
    "gifs = []\n",
    "\n",
    "for fps, playback_fps in zip(FPS, PLAYBACK_FPS):\n",
    "    save_file_gif = 'test_activity_anim/test_anim_{}_fps_{}Hz_playback'.format(\n",
    "        fps, playback_fps)\n",
    "\n",
    "    save_files = build_frames.network_activity(\n",
    "        save_prefix='test_activity_anim/test_frames/frame',\n",
    "        time_file='test_activity_anim/test_time',\n",
    "        activity_file='test_activity_anim/test_activity',\n",
    "        fps=fps,\n",
    "        frames_per_spike=5,\n",
    "        verbose=True)\n",
    "\n",
    "    gifs.append(create_gif(\n",
    "        save_files, save_file=save_file_gif,\n",
    "        playback_fps=playback_fps, delete_originals=True, verbose=True))"
   ]
  },
  {
   "cell_type": "markdown",
   "metadata": {},
   "source": [
    "### Display resulting example GIF"
   ]
  },
  {
   "cell_type": "code",
   "execution_count": 12,
   "metadata": {},
   "outputs": [
    {
     "name": "stdout",
     "output_type": "stream",
     "text": [
      "test_activity_anim/test_anim_30_fps_15Hz_playback.gif\n"
     ]
    },
    {
     "data": {
      "text/html": [
       "<img src=\"test_activity_anim/test_anim_30_fps_15Hz_playback.gif\" />"
      ],
      "text/plain": [
       "<IPython.core.display.HTML object>"
      ]
     },
     "execution_count": 12,
     "metadata": {},
     "output_type": "execute_result"
    }
   ],
   "source": [
    "print(gif)\n",
    "display.HTML('<img src=\"{}\" />'.format(gif))"
   ]
  }
 ],
 "metadata": {
  "kernelspec": {
   "display_name": "Python 3",
   "language": "python",
   "name": "python3"
  },
  "language_info": {
   "codemirror_mode": {
    "name": "ipython",
    "version": 3
   },
   "file_extension": ".py",
   "mimetype": "text/x-python",
   "name": "python",
   "nbconvert_exporter": "python",
   "pygments_lexer": "ipython3",
   "version": "3.6.1"
  }
 },
 "nbformat": 4,
 "nbformat_minor": 2
}
