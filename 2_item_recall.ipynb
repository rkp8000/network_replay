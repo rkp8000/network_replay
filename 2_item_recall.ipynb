{
 "cells": [
  {
   "cell_type": "code",
   "execution_count": 1,
   "metadata": {
    "collapsed": true
   },
   "outputs": [],
   "source": [
    "%reset -f\n",
    "%matplotlib inline\n",
    "from itertools import permutations\n",
    "import matplotlib.pyplot as plt\n",
    "import numpy as np\n",
    "\n",
    "from aux import Generic\n",
    "from ntwk import LIFNtwk\n",
    "from disp import print_red, raster, set_font_size\n",
    "\n",
    "import PARAMS as P_GLOBAL"
   ]
  },
  {
   "cell_type": "markdown",
   "metadata": {},
   "source": [
    "# PARAMETERS AND CROSS-SIMULATION SUBROUTINES"
   ]
  },
  {
   "cell_type": "markdown",
   "metadata": {},
   "source": [
    "## Parameters"
   ]
  },
  {
   "cell_type": "code",
   "execution_count": 2,
   "metadata": {
    "collapsed": true
   },
   "outputs": [],
   "source": [
    "P = Generic(\n",
    "    N=500,\n",
    "    W_A_OUT_OUT=P_GLOBAL.W_A_PC_PC,\n",
    ")"
   ]
  },
  {
   "cell_type": "markdown",
   "metadata": {},
   "source": [
    "## Network structure"
   ]
  },
  {
   "cell_type": "markdown",
   "metadata": {},
   "source": [
    "### Item assignment"
   ]
  },
  {
   "cell_type": "code",
   "execution_count": 3,
   "metadata": {
    "collapsed": true
   },
   "outputs": [],
   "source": [
    "def assign_items(n, q, q_star, test=False):\n",
    "    \"\"\"\n",
    "    Probabilistically assign item labels to n neurons.\n",
    "    Exactly 4 items are considered, with hard-coded \n",
    "    combination probabilities. Generalization to N items\n",
    "    is beyond the scope of this project.\n",
    "    \n",
    "    :param n: number of neurons\n",
    "    :param q: prob. of neuron being in any given item group\n",
    "    :param q_star: prob. of neuron being in any specific second\n",
    "        item group, given that it is in another first item group\n",
    "        \n",
    "    :return: n x 4 boolean array of item assignments\n",
    "    \"\"\"\n",
    "    \n",
    "    # specify all item combinations\n",
    "    item_combos = [\n",
    "        [],  # row 0\n",
    "        [0,], [1,], [2,], [3,],  # row 1\n",
    "        [0, 1], [0, 2], [0, 3], [1, 2], [1, 3], [2, 3],  # row 2\n",
    "        [0, 1, 2], [0, 1, 3], [0, 2, 3], [1, 2, 3],  # row 3\n",
    "        [0, 1, 2, 3],  # row 4\n",
    "    ]\n",
    "    \n",
    "    # compute probability of each combination\n",
    "    \n",
    "    ## p of row 1\n",
    "    a = q * ((1 - q_star)**3)\n",
    "    ## p of row 2\n",
    "    b = q * q_star * ((1 - q_star)**2)\n",
    "    ## p of row 3\n",
    "    c = q * (q_star**2) * (1 - q_star)\n",
    "    ## p of row 4\n",
    "    d = q * (q_star**3)\n",
    "    \n",
    "    ## validate probabilities\n",
    "    assert 4*a + 6*b + 4*c + d < 1\n",
    "    \n",
    "    ## full vector\n",
    "    p = [\n",
    "        1 - (4*a + 6*b + 4*c + d),  # row 0\n",
    "        a, a, a, a,  # row 1\n",
    "        b, b, b, b, b, b,  # row 2\n",
    "        c, c, c, c,  # row 3\n",
    "        d,  # row 4\n",
    "    ]\n",
    "    \n",
    "    # assign labels\n",
    "    labels = np.zeros((n, 4), bool)\n",
    "    \n",
    "    for i in range(n):\n",
    "        \n",
    "        # sample item assignment for i-th neuron\n",
    "        item_combo = np.random.choice(item_combos, p=p)\n",
    "        \n",
    "        # convert to boolean\n",
    "        labels[i, item_combo] = True\n",
    "    \n",
    "    if not test:\n",
    "        \n",
    "        return labels\n",
    "    \n",
    "    else:\n",
    "        \n",
    "        # estimate q\n",
    "        q_hat = labels.mean()\n",
    "        \n",
    "        # estimate q_star\n",
    "        q_star_hat = np.array([\n",
    "            labels[labels[:, i], :][:, j].mean()\n",
    "            for i, j in permutations(range(4), 2)\n",
    "        ])\n",
    "        \n",
    "        return Generic(\n",
    "            labels=labels, q_hat=q_hat, q_star_hat=q_star_hat)"
   ]
  },
  {
   "cell_type": "markdown",
   "metadata": {},
   "source": [
    "#### Test"
   ]
  },
  {
   "cell_type": "code",
   "execution_count": 4,
   "metadata": {},
   "outputs": [
    {
     "name": "stdout",
     "output_type": "stream",
     "text": [
      "\u001b[31m\n",
      ">> TEST_ASSIGN_ITEMS_NO_OVERLAP...\n",
      "\u001b[0m\n",
      "\u001b[31m    q = 0.2\u001b[0m\n",
      "\u001b[31m    q_hat = 0.1985\n",
      "\u001b[0m\n",
      "\u001b[31m    q* = 0.0\u001b[0m\n",
      "\u001b[31m    q*_hat = 0.0000\n",
      "\u001b[0m\n",
      "\u001b[31m    unique items per neuron ([0, 1]) = {0, 1}\n",
      "\u001b[0m\n",
      "\u001b[31m\n",
      ">> TEST_ASSIGN_ITEMS_COMPLETE_OVERLAP...\n",
      "\u001b[0m\n",
      "\u001b[31m    q = 0.2\u001b[0m\n",
      "\u001b[31m    q_hat = 0.2014\n",
      "\u001b[0m\n",
      "\u001b[31m    q* = 1.0\u001b[0m\n",
      "\u001b[31m    q*_hat = 1.0000\n",
      "\u001b[0m\n",
      "\u001b[31m    unique items per neuron ([0, 4]) = {0, 4}\n",
      "\u001b[0m\n",
      "\u001b[31m\n",
      ">> TEST_ASSIGN_ITEMS_PARTIAL_OVERLAP...\n",
      "\u001b[0m\n",
      "\u001b[31m    q = 0.2\u001b[0m\n",
      "\u001b[31m    q_hat = 0.2005\n",
      "\u001b[0m\n",
      "\u001b[31m    q* = 0.5\u001b[0m\n",
      "\u001b[31m    q*_hat = 0.5047\n",
      "\u001b[0m\n",
      "\u001b[31m    unique items per neuron ([0, 1, 2, 3, 4]) = {0, 1, 2, 3, 4}\n",
      "\u001b[0m\n"
     ]
    }
   ],
   "source": [
    "def test_assign_items_no_overlap():\n",
    "    print_red('\\n>> test_assign_items_no_overlap...\\n'.upper())\n",
    "    \n",
    "    n = 10000\n",
    "    q = 0.2\n",
    "    q_star = 0.0\n",
    "    \n",
    "    rslt = assign_items(n=n, q=q, q_star=q_star, test=True)\n",
    "    \n",
    "    # ensure correct item probability  \n",
    "    print_red('    q = {}'.format(q))\n",
    "    print_red('    q_hat = {0:.4f}\\n'.format(rslt.q_hat))\n",
    "\n",
    "    # ensure no overlap\n",
    "    print_red('    q* = {}'.format(q_star))\n",
    "    print_red('    q*_hat = {0:.4f}\\n'.format(rslt.q_star_hat.mean()))\n",
    "    \n",
    "    # ensure only 0 or 1 item per neuron\n",
    "    print_red('    unique items per neuron ([0, 1]) = {}\\n'.format(set(rslt.labels.sum(1))))\n",
    "    \n",
    "\n",
    "def test_assign_items_complete_overlap():\n",
    "    print_red('\\n>> test_assign_items_complete_overlap...\\n'.upper())\n",
    "    \n",
    "    n = 10000\n",
    "    q = 0.2\n",
    "    q_star = 1.0\n",
    "    \n",
    "    rslt = assign_items(n=n, q=q, q_star=q_star, test=True)\n",
    "    \n",
    "    # ensure correct item probability  \n",
    "    print_red('    q = {}'.format(q))\n",
    "    print_red('    q_hat = {0:.4f}\\n'.format(rslt.q_hat))\n",
    "\n",
    "    # ensure complete overlap\n",
    "    print_red('    q* = {}'.format(q_star))\n",
    "    print_red('    q*_hat = {0:.4f}\\n'.format(rslt.q_star_hat.mean()))\n",
    "    \n",
    "    # ensure only 0 or 4 items per neuron\n",
    "    print_red('    unique items per neuron ([0, 4]) = {}\\n'.format(set(rslt.labels.sum(1))))\n",
    "    \n",
    "\n",
    "def test_assign_items_partial_overlap():\n",
    "    print_red('\\n>> test_assign_items_partial_overlap...\\n'.upper())\n",
    "    \n",
    "    n = 10000\n",
    "    q = 0.2\n",
    "    q_star = 0.5\n",
    "    \n",
    "    rslt = assign_items(n=n, q=q, q_star=q_star, test=True)\n",
    "    \n",
    "    # ensure correct item probability  \n",
    "    print_red('    q = {}'.format(q))\n",
    "    print_red('    q_hat = {0:.4f}\\n'.format(rslt.q_hat))\n",
    "\n",
    "    # ensure correct partial overlap\n",
    "    print_red('    q* = {}'.format(q_star))\n",
    "    print_red('    q*_hat = {0:.4f}\\n'.format(rslt.q_star_hat.mean()))\n",
    "    \n",
    "    # ensure any number of items per neuron\n",
    "    print_red('    unique items per neuron ([0, 1, 2, 3, 4]) = {}\\n'.format(set(rslt.labels.sum(1))))\n",
    "            \n",
    "\n",
    "np.random.seed(0)\n",
    "\n",
    "test_assign_items_no_overlap()\n",
    "test_assign_items_complete_overlap()\n",
    "test_assign_items_partial_overlap()"
   ]
  },
  {
   "cell_type": "markdown",
   "metadata": {},
   "source": [
    "Tests passed if:\n",
    "1. Estimates (q_hat, q_star_hat) are near truth values.\n",
    "1. If unique items per neuron match parentheticals."
   ]
  },
  {
   "cell_type": "markdown",
   "metadata": {},
   "source": [
    "### Weight matrix"
   ]
  },
  {
   "cell_type": "code",
   "execution_count": 5,
   "metadata": {
    "collapsed": true
   },
   "outputs": [],
   "source": [
    "def make_w(labels, p_0, p_1, P, test=False):\n",
    "    \"\"\"Create weight matrix given neuron labeling.\"\"\"\n",
    "    \n",
    "    n = len(labels)\n",
    "    \n",
    "    # get all intra-item cxn possibilities\n",
    "    mask_intras = []\n",
    "    \n",
    "    for i in range(4):\n",
    "        \n",
    "        # get intra-cxns for item i\n",
    "        mask_intra_ = np.outer(labels[:, i], labels[:, i])\n",
    "        \n",
    "        # zero self-cxns\n",
    "        np.fill_diagonal(mask_intra_, 0)\n",
    "        \n",
    "        mask_intras.append(mask_intra_)\n",
    "    \n",
    "    # take union of intra-item cxn possibilities\n",
    "    mask_intra = np.logical_or.reduce(mask_intras)\n",
    "    n_intra = mask_intra.sum()\n",
    "    \n",
    "    # build cxn matrix\n",
    "    cxn = np.zeros((n, n), bool)\n",
    "    \n",
    "    # set intra-item cnxs\n",
    "    assert 0 <= p_1 <= 1\n",
    "    cxn[mask_intra] = np.random.binomial(1, p_1, n_intra)\n",
    "    \n",
    "    # set non-intra cxns\n",
    "    p_2 = ((n * (n - 1) * p_0) - (n_intra * p_1)) / ((n * (n - 1)) - n_intra)\n",
    "    \n",
    "    assert 0 <= p_2 <= 1\n",
    "    cxn[~mask_intra] = np.random.binomial(1, p_2, (~mask_intra).sum())\n",
    "    \n",
    "    # zero self-cxns\n",
    "    np.fill_diagonal(cxn, 0)\n",
    "    \n",
    "    # convert to weight matrix\n",
    "    w = cxn * P.W_A_OUT_OUT\n",
    "    \n",
    "    if not test:\n",
    "        \n",
    "        return w\n",
    "    \n",
    "    else:\n",
    "        \n",
    "        # estimate p_0\n",
    "        mask_non_self = ~np.eye(n, dtype=bool)\n",
    "        p_0_hat = (w > 0)[mask_non_self].mean()\n",
    "        \n",
    "        # estimate p_1\n",
    "        p_1_hat = np.array([(w > 0)[mask_intra].mean() for mask_intra in mask_intras])\n",
    "        \n",
    "        return Generic(w=w, p_0_hat=p_0_hat, p_1_hat=p_1_hat)"
   ]
  },
  {
   "cell_type": "markdown",
   "metadata": {},
   "source": [
    "#### Test"
   ]
  },
  {
   "cell_type": "code",
   "execution_count": 6,
   "metadata": {},
   "outputs": [
    {
     "name": "stdout",
     "output_type": "stream",
     "text": [
      "\u001b[31m\n",
      ">> TEST_MAKE_W...\n",
      "\u001b[0m\n",
      "\u001b[31m    p_0 = 0.1\u001b[0m\n",
      "\u001b[31m    p_0_hat = 0.1000\n",
      "\u001b[0m\n",
      "\u001b[31m    p_1 = 0\u001b[0m\n",
      "\u001b[31m    p_1_hat = 0.0000\n",
      "\u001b[0m\n",
      "\u001b[31m    p_0 = 0.1\u001b[0m\n",
      "\u001b[31m    p_0_hat = 0.1000\n",
      "\u001b[0m\n",
      "\u001b[31m    p_1 = 0.1\u001b[0m\n",
      "\u001b[31m    p_1_hat = 0.0999\n",
      "\u001b[0m\n",
      "\u001b[31m    p_0 = 0.1\u001b[0m\n",
      "\u001b[31m    p_0_hat = 0.1000\n",
      "\u001b[0m\n",
      "\u001b[31m    p_1 = 0.2\u001b[0m\n",
      "\u001b[31m    p_1_hat = 0.2000\n",
      "\u001b[0m\n",
      "\u001b[31m\n",
      ">> TEST_MAKE_W_PARTIAL_OVERLAP...\n",
      "\u001b[0m\n",
      "\u001b[31m    p_0 = 0.1\u001b[0m\n",
      "\u001b[31m    p_0_hat = 0.1000\n",
      "\u001b[0m\n",
      "\u001b[31m    p_1 = 0\u001b[0m\n",
      "\u001b[31m    p_1_hat = 0.0000\n",
      "\u001b[0m\n",
      "\u001b[31m    p_0 = 0.1\u001b[0m\n",
      "\u001b[31m    p_0_hat = 0.1000\n",
      "\u001b[0m\n",
      "\u001b[31m    p_1 = 0.1\u001b[0m\n",
      "\u001b[31m    p_1_hat = 0.0999\n",
      "\u001b[0m\n",
      "\u001b[31m    p_0 = 0.1\u001b[0m\n",
      "\u001b[31m    p_0_hat = 0.1000\n",
      "\u001b[0m\n",
      "\u001b[31m    p_1 = 0.2\u001b[0m\n",
      "\u001b[31m    p_1_hat = 0.1999\n",
      "\u001b[0m\n"
     ]
    }
   ],
   "source": [
    "def test_make_w_no_overlap():\n",
    "    print_red('\\n>> test_make_w...\\n'.upper())\n",
    "    \n",
    "    n = 10000\n",
    "    q = 0.2\n",
    "    q_star = 0\n",
    "    \n",
    "    p_0 = 0.1\n",
    "    p_1s = [0, 0.1, 0.2]\n",
    "    \n",
    "    labels = assign_items(n=n, q=q, q_star=q_star)\n",
    "    \n",
    "    for p_1 in p_1s:\n",
    "        \n",
    "        rslt = make_w(labels, p_0, p_1, P, test=True)\n",
    "        \n",
    "        print_red('    p_0 = {}'.format(p_0))\n",
    "        print_red('    p_0_hat = {0:.4f}\\n'.format(rslt.p_0_hat))\n",
    "        \n",
    "        print_red('    p_1 = {}'.format(p_1))\n",
    "        print_red('    p_1_hat = {0:.4f}\\n'.format(rslt.p_1_hat.mean()))\n",
    "        \n",
    "\n",
    "def test_make_w_partial_overlap():\n",
    "    print_red('\\n>> test_make_w_partial_overlap...\\n'.upper())\n",
    "    \n",
    "    n = 10000\n",
    "    q = 0.2\n",
    "    q_star = 0.5\n",
    "    \n",
    "    p_0 = 0.1\n",
    "    p_1s = [0, 0.1, 0.2]\n",
    "    \n",
    "    labels = assign_items(n=n, q=q, q_star=q_star)\n",
    "    \n",
    "    for p_1 in p_1s:\n",
    "        \n",
    "        rslt = make_w(labels, p_0, p_1, P, test=True)\n",
    "        \n",
    "        print_red('    p_0 = {}'.format(p_0))\n",
    "        print_red('    p_0_hat = {0:.4f}\\n'.format(rslt.p_0_hat))\n",
    "        \n",
    "        print_red('    p_1 = {}'.format(p_1))\n",
    "        print_red('    p_1_hat = {0:.4f}\\n'.format(rslt.p_1_hat.mean()))\n",
    "        \n",
    "\n",
    "test_make_w_no_overlap()\n",
    "test_make_w_partial_overlap()"
   ]
  },
  {
   "cell_type": "markdown",
   "metadata": {},
   "source": [
    "Tests passed if:\n",
    "1. All estimates (*_hat) approximate truth values."
   ]
  },
  {
   "cell_type": "markdown",
   "metadata": {},
   "source": [
    "### Top-level build"
   ]
  },
  {
   "cell_type": "code",
   "execution_count": null,
   "metadata": {
    "collapsed": true
   },
   "outputs": [],
   "source": [
    "def make_ntwk(n, q, q_star, p_0, p_1, P):\n",
    "    ntwk.order = ...\n",
    "    ntwk.labels = ...\n",
    "    return ntwk"
   ]
  },
  {
   "cell_type": "markdown",
   "metadata": {},
   "source": [
    "## Stimulation paradigm"
   ]
  },
  {
   "cell_type": "code",
   "execution_count": null,
   "metadata": {
    "collapsed": true
   },
   "outputs": [],
   "source": [
    "def make_spks_up(ntwk, items, P):\n",
    "    return spks_up"
   ]
  },
  {
   "cell_type": "markdown",
   "metadata": {},
   "source": [
    "## Recall accuracy"
   ]
  },
  {
   "cell_type": "code",
   "execution_count": null,
   "metadata": {
    "collapsed": true
   },
   "outputs": [],
   "source": [
    "def calc_acc(rsp, items, P):\n",
    "    return acc"
   ]
  },
  {
   "cell_type": "markdown",
   "metadata": {},
   "source": [
    "# SIMULATIONS"
   ]
  },
  {
   "cell_type": "markdown",
   "metadata": {},
   "source": [
    "## Examples"
   ]
  },
  {
   "cell_type": "markdown",
   "metadata": {},
   "source": [
    "### Simulation "
   ]
  },
  {
   "cell_type": "code",
   "execution_count": null,
   "metadata": {
    "collapsed": true
   },
   "outputs": [],
   "source": [
    "def xmpl(q_star, p_0, p_1, items):\n",
    "    \n",
    "    # build ntwk and run smln\n",
    "    ntwk = make_ntwk(n=N, q=Q, q_star=q_star, p_0=p_0, p_1=p_1, P=P)\n",
    "    spks_up = make_spks_up(ntwk, items, P)\n",
    "    rsp = ntwk.run(spks_up, P.DT)\n",
    "    acc = calc_acc(rsp, items, P)\n",
    "\n",
    "    # show raster and CTL->OUT weights\n",
    "    fig, axs = plt.subplots(2, 1, figsize=(15, 8), tight_layout=True)\n",
    "\n",
    "    ## raster\n",
    "    raster(axs[0], rsp.ts, rsp.spks, order=ntwk.order)\n",
    "\n",
    "    ## CTL->OUT weights\n",
    "    w_out_ctl_items = ...\n",
    "    w_out_ctl_all = ...\n",
    "\n",
    "    axs[1].plot(rsp.ts, w_out_ctl_all, color='k', lw=2)\n",
    "    axs[1].plot(rsp.ts, w_out_ctl_items, color='r', lw=2)\n",
    "    \n",
    "    axs[0].set_title('ACC = {0:.4f}'.format(acc))\n",
    "    for ax in axs:\n",
    "        set_font_size(ax, 16)\n",
    "        \n",
    "    return Generic(\n",
    "        ntwk=ntwk,\n",
    "        items=items,\n",
    "        spks_up=spks_up,\n",
    "        rsp=rsp,\n",
    "        acc=acc,\n",
    "        fig=fig,\n",
    "        ax=axs)"
   ]
  },
  {
   "cell_type": "markdown",
   "metadata": {},
   "source": [
    "### Single-item, no overlap"
   ]
  },
  {
   "cell_type": "code",
   "execution_count": null,
   "metadata": {
    "collapsed": true
   },
   "outputs": [],
   "source": [
    "xmpl(q_star=0, p_0=0.1, p_1=0.2, items=[1])"
   ]
  },
  {
   "cell_type": "markdown",
   "metadata": {},
   "source": [
    "### Single-item, modest overlap"
   ]
  },
  {
   "cell_type": "code",
   "execution_count": null,
   "metadata": {
    "collapsed": true
   },
   "outputs": [],
   "source": [
    "xmpl(q_star=0.2, p_0=0.1, p_1=0.2, items=[1])"
   ]
  },
  {
   "cell_type": "markdown",
   "metadata": {},
   "source": [
    "### Multi-item, no overlap"
   ]
  },
  {
   "cell_type": "code",
   "execution_count": null,
   "metadata": {
    "collapsed": true
   },
   "outputs": [],
   "source": [
    "xmpl(q_star=0, p_0=0.1, p_1=0.2, items=[1, 3])"
   ]
  },
  {
   "cell_type": "markdown",
   "metadata": {},
   "source": [
    "### Multi-item, modest overlap"
   ]
  },
  {
   "cell_type": "code",
   "execution_count": null,
   "metadata": {
    "collapsed": true
   },
   "outputs": [],
   "source": [
    "xmpl(q_star=0.2, p_0=0.1, p_1=0.2, items=[1, 3])"
   ]
  },
  {
   "cell_type": "markdown",
   "metadata": {},
   "source": [
    "## Parameter dependence"
   ]
  },
  {
   "cell_type": "markdown",
   "metadata": {},
   "source": [
    "### Simulation"
   ]
  },
  {
   "cell_type": "code",
   "execution_count": null,
   "metadata": {
    "collapsed": true
   },
   "outputs": [],
   "source": [
    "def param_variation(q_stars, p_0s, p_1s):\n",
    "    \n",
    "    return Generic(\n",
    "        ...\n",
    "    )"
   ]
  },
  {
   "cell_type": "markdown",
   "metadata": {},
   "source": [
    "### Varying interconnectivity (p_0) and overlap (q_star)"
   ]
  },
  {
   "cell_type": "code",
   "execution_count": null,
   "metadata": {
    "collapsed": true
   },
   "outputs": [],
   "source": []
  },
  {
   "cell_type": "markdown",
   "metadata": {},
   "source": [
    "### Varying intraconnectivity (p_1) and overlap (q_star)"
   ]
  },
  {
   "cell_type": "code",
   "execution_count": null,
   "metadata": {
    "collapsed": true
   },
   "outputs": [],
   "source": []
  }
 ],
 "metadata": {
  "kernelspec": {
   "display_name": "Python 3",
   "language": "python",
   "name": "python3"
  },
  "language_info": {
   "codemirror_mode": {
    "name": "ipython",
    "version": 3
   },
   "file_extension": ".py",
   "mimetype": "text/x-python",
   "name": "python",
   "nbconvert_exporter": "python",
   "pygments_lexer": "ipython3",
   "version": "3.6.3"
  }
 },
 "nbformat": 4,
 "nbformat_minor": 2
}
