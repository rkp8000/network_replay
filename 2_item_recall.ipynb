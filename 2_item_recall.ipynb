{
 "cells": [
  {
   "cell_type": "code",
   "execution_count": 1,
   "metadata": {
    "collapsed": true
   },
   "outputs": [],
   "source": [
    "%reset -f\n",
    "%matplotlib inline\n",
    "from itertools import permutations\n",
    "import matplotlib.pyplot as plt\n",
    "import numpy as np\n",
    "\n",
    "from aux import Generic\n",
    "from ntwk import LIFNtwk\n",
    "from disp import print_red, raster, set_font_size\n",
    "\n",
    "import PARAMS as P_GLOBAL"
   ]
  },
  {
   "cell_type": "markdown",
   "metadata": {},
   "source": [
    "# PARAMETERS AND CROSS-SIMULATION SUBROUTINES"
   ]
  },
  {
   "cell_type": "markdown",
   "metadata": {},
   "source": [
    "## Parameters"
   ]
  },
  {
   "cell_type": "code",
   "execution_count": 2,
   "metadata": {
    "collapsed": true
   },
   "outputs": [],
   "source": [
    "P = Generic(\n",
    "    N=500,\n",
    "    \n",
    "    T_M=P_GLOBAL.T_M_PC,\n",
    "    E_L=P_GLOBAL.E_L_PC,\n",
    "    V_TH=P_GLOBAL.V_TH_PC,\n",
    "    V_RESET=P_GLOBAL.V_RESET_PC,\n",
    "    \n",
    "    T_R=0.002,\n",
    "    \n",
    "    E_A=P_GLOBAL.E_A,\n",
    "    E_N=P_GLOBAL.E_N,\n",
    "    T_A=P_GLOBAL.T_A,\n",
    "    T_N=P_GLOBAL.T_N,\n",
    "    \n",
    "    W_A_OUT_OUT=P_GLOBAL.W_A_PC_PC,\n",
    "    W_A_OUT_IN=P_GLOBAL.W_A_PC_PL,\n",
    "    W_N_OUT_CTL_I=P_GLOBAL.W_N_PC_EC_I,\n",
    "    W_N_OUT_CTL_F=P_GLOBAL.W_N_PC_EC_F,\n",
    "    \n",
    "    T_W=P_GLOBAL.T_W,\n",
    "    T_C=P_GLOBAL.T_C,\n",
    "    C_S=P_GLOBAL.C_S,\n",
    "    B_C=P_GLOBAL.B_C,\n",
    "    \n",
    "    DT=P_GLOBAL.DT,\n",
    "    \n",
    "    T_STORE_0=1,\n",
    "    T_STORE_1=3,\n",
    "    \n",
    "    T_RECALL_0=5,\n",
    "    T_RECALL_1=7,\n",
    "    \n",
    "    T_END=8,\n",
    "    \n",
    "    FR_STORE=250,\n",
    "    FR_RECALL=60,\n",
    "    \n",
    "    Q=0.2,\n",
    ")"
   ]
  },
  {
   "cell_type": "markdown",
   "metadata": {},
   "source": [
    "## Network structure"
   ]
  },
  {
   "cell_type": "markdown",
   "metadata": {},
   "source": [
    "### Item assignment"
   ]
  },
  {
   "cell_type": "code",
   "execution_count": 3,
   "metadata": {
    "collapsed": true
   },
   "outputs": [],
   "source": [
    "def assign_items(n, q, q_star, test=False):\n",
    "    \"\"\"\n",
    "    Probabilistically assign item labels to n neurons.\n",
    "    Exactly 4 items are considered, with hard-coded \n",
    "    combination probabilities. Generalization to N items\n",
    "    is beyond the scope of this project.\n",
    "    \n",
    "    :param n: number of neurons\n",
    "    :param q: prob. of neuron being in any given item group\n",
    "    :param q_star: prob. of neuron being in any specific second\n",
    "        item group, given that it is in another first item group\n",
    "        \n",
    "    :return: n x 4 boolean array of item assignments\n",
    "    \"\"\"\n",
    "    \n",
    "    # specify all item combinations\n",
    "    item_combos = [\n",
    "        [],  # row 0\n",
    "        [0,], [1,], [2,], [3,],  # row 1\n",
    "        [0, 1], [0, 2], [0, 3], [1, 2], [1, 3], [2, 3],  # row 2\n",
    "        [0, 1, 2], [0, 1, 3], [0, 2, 3], [1, 2, 3],  # row 3\n",
    "        [0, 1, 2, 3],  # row 4\n",
    "    ]\n",
    "    \n",
    "    # compute probability of each combination\n",
    "    \n",
    "    ## p of row 1\n",
    "    a = q * ((1 - q_star)**3)\n",
    "    ## p of row 2\n",
    "    b = q * q_star * ((1 - q_star)**2)\n",
    "    ## p of row 3\n",
    "    c = q * (q_star**2) * (1 - q_star)\n",
    "    ## p of row 4\n",
    "    d = q * (q_star**3)\n",
    "    \n",
    "    ## validate probabilities\n",
    "    assert 4*a + 6*b + 4*c + d < 1\n",
    "    \n",
    "    ## full vector\n",
    "    p = [\n",
    "        1 - (4*a + 6*b + 4*c + d),  # row 0\n",
    "        a, a, a, a,  # row 1\n",
    "        b, b, b, b, b, b,  # row 2\n",
    "        c, c, c, c,  # row 3\n",
    "        d,  # row 4\n",
    "    ]\n",
    "    \n",
    "    # assign labels\n",
    "    labels = np.zeros((n, 4), bool)\n",
    "    \n",
    "    for i in range(n):\n",
    "        \n",
    "        # sample item assignment for i-th neuron\n",
    "        item_combo = np.random.choice(item_combos, p=p)\n",
    "        \n",
    "        # convert to boolean\n",
    "        labels[i, item_combo] = True\n",
    "    \n",
    "    if not test:\n",
    "        \n",
    "        return labels\n",
    "    \n",
    "    else:\n",
    "        \n",
    "        # estimate q\n",
    "        q_hat = labels.mean()\n",
    "        \n",
    "        # estimate q_star\n",
    "        q_star_hat = np.array([\n",
    "            labels[labels[:, i], :][:, j].mean()\n",
    "            for i, j in permutations(range(4), 2)\n",
    "        ])\n",
    "        \n",
    "        return Generic(\n",
    "            labels=labels, q_hat=q_hat, q_star_hat=q_star_hat)"
   ]
  },
  {
   "cell_type": "markdown",
   "metadata": {},
   "source": [
    "#### Test"
   ]
  },
  {
   "cell_type": "code",
   "execution_count": 4,
   "metadata": {},
   "outputs": [
    {
     "name": "stdout",
     "output_type": "stream",
     "text": [
      "\u001b[31m\n",
      ">> TEST_ASSIGN_ITEMS_NO_OVERLAP...\n",
      "\u001b[0m\n",
      "\u001b[31m    q = 0.2\u001b[0m\n",
      "\u001b[31m    q_hat = 0.1985\n",
      "\u001b[0m\n",
      "\u001b[31m    q* = 0.0\u001b[0m\n",
      "\u001b[31m    q*_hat = 0.0000\n",
      "\u001b[0m\n",
      "\u001b[31m    unique items per neuron ([0, 1]) = {0, 1}\n",
      "\u001b[0m\n",
      "\u001b[31m\n",
      ">> TEST_ASSIGN_ITEMS_COMPLETE_OVERLAP...\n",
      "\u001b[0m\n",
      "\u001b[31m    q = 0.2\u001b[0m\n",
      "\u001b[31m    q_hat = 0.2014\n",
      "\u001b[0m\n",
      "\u001b[31m    q* = 1.0\u001b[0m\n",
      "\u001b[31m    q*_hat = 1.0000\n",
      "\u001b[0m\n",
      "\u001b[31m    unique items per neuron ([0, 4]) = {0, 4}\n",
      "\u001b[0m\n",
      "\u001b[31m\n",
      ">> TEST_ASSIGN_ITEMS_PARTIAL_OVERLAP...\n",
      "\u001b[0m\n",
      "\u001b[31m    q = 0.2\u001b[0m\n",
      "\u001b[31m    q_hat = 0.2005\n",
      "\u001b[0m\n",
      "\u001b[31m    q* = 0.5\u001b[0m\n",
      "\u001b[31m    q*_hat = 0.5047\n",
      "\u001b[0m\n",
      "\u001b[31m    unique items per neuron ([0, 1, 2, 3, 4]) = {0, 1, 2, 3, 4}\n",
      "\u001b[0m\n"
     ]
    }
   ],
   "source": [
    "def test_assign_items_no_overlap():\n",
    "    print_red('\\n>> test_assign_items_no_overlap...\\n'.upper())\n",
    "    \n",
    "    n = 10000\n",
    "    q = 0.2\n",
    "    q_star = 0.0\n",
    "    \n",
    "    rslt = assign_items(n=n, q=q, q_star=q_star, test=True)\n",
    "    \n",
    "    # ensure correct item probability  \n",
    "    print_red('    q = {}'.format(q))\n",
    "    print_red('    q_hat = {0:.4f}\\n'.format(rslt.q_hat))\n",
    "\n",
    "    # ensure no overlap\n",
    "    print_red('    q* = {}'.format(q_star))\n",
    "    print_red('    q*_hat = {0:.4f}\\n'.format(rslt.q_star_hat.mean()))\n",
    "    \n",
    "    # ensure only 0 or 1 item per neuron\n",
    "    print_red('    unique items per neuron ([0, 1]) = {}\\n'.format(set(rslt.labels.sum(1))))\n",
    "    \n",
    "\n",
    "def test_assign_items_complete_overlap():\n",
    "    print_red('\\n>> test_assign_items_complete_overlap...\\n'.upper())\n",
    "    \n",
    "    n = 10000\n",
    "    q = 0.2\n",
    "    q_star = 1.0\n",
    "    \n",
    "    rslt = assign_items(n=n, q=q, q_star=q_star, test=True)\n",
    "    \n",
    "    # ensure correct item probability  \n",
    "    print_red('    q = {}'.format(q))\n",
    "    print_red('    q_hat = {0:.4f}\\n'.format(rslt.q_hat))\n",
    "\n",
    "    # ensure complete overlap\n",
    "    print_red('    q* = {}'.format(q_star))\n",
    "    print_red('    q*_hat = {0:.4f}\\n'.format(rslt.q_star_hat.mean()))\n",
    "    \n",
    "    # ensure only 0 or 4 items per neuron\n",
    "    print_red('    unique items per neuron ([0, 4]) = {}\\n'.format(set(rslt.labels.sum(1))))\n",
    "    \n",
    "\n",
    "def test_assign_items_partial_overlap():\n",
    "    print_red('\\n>> test_assign_items_partial_overlap...\\n'.upper())\n",
    "    \n",
    "    n = 10000\n",
    "    q = 0.2\n",
    "    q_star = 0.5\n",
    "    \n",
    "    rslt = assign_items(n=n, q=q, q_star=q_star, test=True)\n",
    "    \n",
    "    # ensure correct item probability  \n",
    "    print_red('    q = {}'.format(q))\n",
    "    print_red('    q_hat = {0:.4f}\\n'.format(rslt.q_hat))\n",
    "\n",
    "    # ensure correct partial overlap\n",
    "    print_red('    q* = {}'.format(q_star))\n",
    "    print_red('    q*_hat = {0:.4f}\\n'.format(rslt.q_star_hat.mean()))\n",
    "    \n",
    "    # ensure any number of items per neuron\n",
    "    print_red('    unique items per neuron ([0, 1, 2, 3, 4]) = {}\\n'.format(set(rslt.labels.sum(1))))\n",
    "            \n",
    "\n",
    "np.random.seed(0)\n",
    "\n",
    "test_assign_items_no_overlap()\n",
    "test_assign_items_complete_overlap()\n",
    "test_assign_items_partial_overlap()"
   ]
  },
  {
   "cell_type": "markdown",
   "metadata": {},
   "source": [
    "Tests passed if:\n",
    "1. Estimates (q_hat, q_star_hat) are near truth values.\n",
    "1. If unique items per neuron match parentheticals."
   ]
  },
  {
   "cell_type": "markdown",
   "metadata": {},
   "source": [
    "### Recurrent weight matrix"
   ]
  },
  {
   "cell_type": "code",
   "execution_count": 5,
   "metadata": {
    "collapsed": true
   },
   "outputs": [],
   "source": [
    "def make_w_rcr_a(labels, p_0, p_1, P, test=False):\n",
    "    \"\"\"Create recurrent AMPA weight matrix given neuron labeling.\"\"\"\n",
    "    \n",
    "    n = len(labels)\n",
    "    \n",
    "    # get all intra-item cxn possibilities\n",
    "    mask_intras = []\n",
    "    \n",
    "    for i in range(4):\n",
    "        \n",
    "        # get intra-cxns for item i\n",
    "        mask_intra_ = np.outer(labels[:, i], labels[:, i])\n",
    "        \n",
    "        # zero self-cxns\n",
    "        np.fill_diagonal(mask_intra_, 0)\n",
    "        \n",
    "        mask_intras.append(mask_intra_)\n",
    "    \n",
    "    # take union of intra-item cxn possibilities\n",
    "    mask_intra = np.logical_or.reduce(mask_intras)\n",
    "    n_intra = mask_intra.sum()\n",
    "    \n",
    "    # build cxn matrix\n",
    "    cxn = np.zeros((n, n), bool)\n",
    "    \n",
    "    # set intra-item cnxs\n",
    "    assert 0 <= p_1 <= 1\n",
    "    cxn[mask_intra] = np.random.binomial(1, p_1, n_intra)\n",
    "    \n",
    "    # set non-intra cxns\n",
    "    p_2 = ((n * (n - 1) * p_0) - (n_intra * p_1)) / ((n * (n - 1)) - n_intra)\n",
    "    \n",
    "    assert 0 <= p_2 <= 1\n",
    "    cxn[~mask_intra] = np.random.binomial(1, p_2, (~mask_intra).sum())\n",
    "    \n",
    "    # zero self-cxns\n",
    "    np.fill_diagonal(cxn, 0)\n",
    "    \n",
    "    # convert to weight matrix\n",
    "    w = cxn * P.W_A_OUT_OUT\n",
    "    \n",
    "    if not test:\n",
    "        \n",
    "        return w\n",
    "    \n",
    "    else:\n",
    "        \n",
    "        # estimate p_0\n",
    "        mask_non_self = ~np.eye(n, dtype=bool)\n",
    "        p_0_hat = (w > 0)[mask_non_self].mean()\n",
    "        \n",
    "        # estimate p_1\n",
    "        p_1_hat = np.array([(w > 0)[mask_intra].mean() for mask_intra in mask_intras])\n",
    "        \n",
    "        return Generic(w=w, p_0_hat=p_0_hat, p_1_hat=p_1_hat)"
   ]
  },
  {
   "cell_type": "markdown",
   "metadata": {},
   "source": [
    "#### Test"
   ]
  },
  {
   "cell_type": "code",
   "execution_count": 6,
   "metadata": {},
   "outputs": [
    {
     "name": "stdout",
     "output_type": "stream",
     "text": [
      "\u001b[31m\n",
      ">> TEST_MAKE_W_RCR_A_NO_OVERLAP...\n",
      "\u001b[0m\n",
      "\u001b[31m    p_0 = 0.1\u001b[0m\n",
      "\u001b[31m    p_0_hat = 0.1000\n",
      "\u001b[0m\n",
      "\u001b[31m    p_1 = 0\u001b[0m\n",
      "\u001b[31m    p_1_hat = 0.0000\n",
      "\u001b[0m\n",
      "\u001b[31m    p_0 = 0.1\u001b[0m\n",
      "\u001b[31m    p_0_hat = 0.1000\n",
      "\u001b[0m\n",
      "\u001b[31m    p_1 = 0.1\u001b[0m\n",
      "\u001b[31m    p_1_hat = 0.0999\n",
      "\u001b[0m\n",
      "\u001b[31m    p_0 = 0.1\u001b[0m\n",
      "\u001b[31m    p_0_hat = 0.1000\n",
      "\u001b[0m\n",
      "\u001b[31m    p_1 = 0.2\u001b[0m\n",
      "\u001b[31m    p_1_hat = 0.2000\n",
      "\u001b[0m\n",
      "\u001b[31m\n",
      ">> TEST_MAKE_W_RCR_A_PARTIAL_OVERLAP...\n",
      "\u001b[0m\n",
      "\u001b[31m    p_0 = 0.1\u001b[0m\n",
      "\u001b[31m    p_0_hat = 0.1000\n",
      "\u001b[0m\n",
      "\u001b[31m    p_1 = 0\u001b[0m\n",
      "\u001b[31m    p_1_hat = 0.0000\n",
      "\u001b[0m\n",
      "\u001b[31m    p_0 = 0.1\u001b[0m\n",
      "\u001b[31m    p_0_hat = 0.1000\n",
      "\u001b[0m\n",
      "\u001b[31m    p_1 = 0.1\u001b[0m\n",
      "\u001b[31m    p_1_hat = 0.0999\n",
      "\u001b[0m\n",
      "\u001b[31m    p_0 = 0.1\u001b[0m\n",
      "\u001b[31m    p_0_hat = 0.1000\n",
      "\u001b[0m\n",
      "\u001b[31m    p_1 = 0.2\u001b[0m\n",
      "\u001b[31m    p_1_hat = 0.1999\n",
      "\u001b[0m\n"
     ]
    }
   ],
   "source": [
    "def test_make_w_rcr_a_no_overlap(P):\n",
    "    print_red('\\n>> test_make_w_rcr_a_no_overlap...\\n'.upper())\n",
    "    \n",
    "    n = 10000\n",
    "    q = 0.2\n",
    "    q_star = 0\n",
    "    \n",
    "    p_0 = 0.1\n",
    "    p_1s = [0, 0.1, 0.2]\n",
    "    \n",
    "    labels = assign_items(n=n, q=q, q_star=q_star)\n",
    "    \n",
    "    for p_1 in p_1s:\n",
    "        \n",
    "        rslt = make_w_rcr_a(labels, p_0, p_1, P, test=True)\n",
    "        \n",
    "        print_red('    p_0 = {}'.format(p_0))\n",
    "        print_red('    p_0_hat = {0:.4f}\\n'.format(rslt.p_0_hat))\n",
    "        \n",
    "        print_red('    p_1 = {}'.format(p_1))\n",
    "        print_red('    p_1_hat = {0:.4f}\\n'.format(rslt.p_1_hat.mean()))\n",
    "        \n",
    "\n",
    "def test_make_w_rcr_a_partial_overlap(P):\n",
    "    print_red('\\n>> test_make_w_rcr_a_partial_overlap...\\n'.upper())\n",
    "    \n",
    "    n = 10000\n",
    "    q = 0.2\n",
    "    q_star = 0.5\n",
    "    \n",
    "    p_0 = 0.1\n",
    "    p_1s = [0, 0.1, 0.2]\n",
    "    \n",
    "    labels = assign_items(n=n, q=q, q_star=q_star)\n",
    "    \n",
    "    for p_1 in p_1s:\n",
    "        \n",
    "        rslt = make_w_rcr_a(labels, p_0, p_1, P, test=True)\n",
    "        \n",
    "        print_red('    p_0 = {}'.format(p_0))\n",
    "        print_red('    p_0_hat = {0:.4f}\\n'.format(rslt.p_0_hat))\n",
    "        \n",
    "        print_red('    p_1 = {}'.format(p_1))\n",
    "        print_red('    p_1_hat = {0:.4f}\\n'.format(rslt.p_1_hat.mean()))\n",
    "        \n",
    "\n",
    "test_make_w_rcr_a_no_overlap(P)\n",
    "test_make_w_rcr_a_partial_overlap(P)"
   ]
  },
  {
   "cell_type": "markdown",
   "metadata": {},
   "source": [
    "Tests passed if:\n",
    "1. All estimates (*_hat) approximate truth values."
   ]
  },
  {
   "cell_type": "markdown",
   "metadata": {},
   "source": [
    "### Upstream AMPA weights (from item inputs)"
   ]
  },
  {
   "cell_type": "code",
   "execution_count": 7,
   "metadata": {
    "collapsed": true
   },
   "outputs": [],
   "source": [
    "def make_w_up_a(labels, P):\n",
    "    \n",
    "    # IN (item inputs)\n",
    "    w_up_a_in = labels * P.W_A_OUT_IN\n",
    "    \n",
    "    # CTL (control channels)\n",
    "    n = len(labels)\n",
    "    w_up_a_ctl = np.zeros((n, n))\n",
    "    \n",
    "    w_up_a = np.concatenate([w_up_a_in, w_up_a_ctl], 1)\n",
    "    \n",
    "    return w_up_a"
   ]
  },
  {
   "cell_type": "markdown",
   "metadata": {},
   "source": [
    "### Upstream NMDA weights (from control inputs)"
   ]
  },
  {
   "cell_type": "code",
   "execution_count": 8,
   "metadata": {
    "collapsed": true
   },
   "outputs": [],
   "source": [
    "def make_w_up_n(labels, P):\n",
    "    \n",
    "    n = len(labels)\n",
    "    \n",
    "    # IN (item inputs)\n",
    "    w_up_n_in = np.zeros((n, labels.shape[1]))\n",
    "    \n",
    "    # CTL (control channels)\n",
    "    w_up_n_ctl = np.eye(n) * P.W_N_OUT_CTL_I\n",
    "    \n",
    "    w_up_n = np.concatenate([w_up_n_in, w_up_n_ctl], 1)\n",
    "    \n",
    "    return w_up_n"
   ]
  },
  {
   "cell_type": "markdown",
   "metadata": {},
   "source": [
    "### Top-level build"
   ]
  },
  {
   "cell_type": "code",
   "execution_count": 9,
   "metadata": {
    "collapsed": true
   },
   "outputs": [],
   "source": [
    "def make_ntwk(n, q, q_star, p_0, p_1, P):\n",
    "    \"\"\"Create LIFNtwk with plastic CTL->OUT synapses.\"\"\"\n",
    "\n",
    "    # assign items to nrns and sort into balanced groups\n",
    "    labels = [[] for _ in range(5)]\n",
    "    \n",
    "    for label in assign_items(n, q, q_star):\n",
    "        \n",
    "        items = label.nonzero()[0]\n",
    "        \n",
    "        if not items.size:\n",
    "            group = 0\n",
    "        else:\n",
    "            group = np.random.choice(items) + 1\n",
    "        \n",
    "        labels[group].append(label)\n",
    "    \n",
    "    labels = [np.array(labels_) for labels_ in labels]\n",
    "    labels = np.concatenate(labels, 0)\n",
    "    \n",
    "    # get recurrent w\n",
    "    w_rcr_a = make_w_rcr_a(labels, p_0, p_1, P)\n",
    "    w_rcr_n = np.zeros((n, n))\n",
    "    \n",
    "    ws_rcr = {'AMPA': w_rcr_a, 'NMDA': w_rcr_n}\n",
    "    \n",
    "    # get upstream w\n",
    "    w_up_a = make_w_up_a(labels, P)\n",
    "    w_up_n = make_w_up_n(labels, P)\n",
    "    \n",
    "    ws_up = {'AMPA': w_up_a, 'NMDA': w_up_n}\n",
    "    \n",
    "    # make plasticity masks\n",
    "    masks_plastic = {\n",
    "        'AMPA': np.zeros((n, n+4), bool),\n",
    "        'NMDA': np.concatenate([np.zeros((n, 4), bool), np.eye(n, dtype=bool)], 1)\n",
    "    }\n",
    "    \n",
    "    # set synaptic params\n",
    "    es_syn = {'AMPA': P.E_A, 'NMDA': P.E_N}\n",
    "    ts_syn = {'AMPA': P.T_A, 'NMDA': P.T_N}\n",
    "    \n",
    "    # set plasticity params\n",
    "    plasticity = {\n",
    "        'masks': masks_plastic,\n",
    "        'w_ec_ca3_maxs': {'AMPA': np.nan, 'NMDA': P.W_N_OUT_CTL_F},\n",
    "        'T_W': P.T_W,\n",
    "        'T_C': P.T_C,\n",
    "        'C_S': P.C_S,\n",
    "        'BETA_C': P.B_C,\n",
    "    }\n",
    "    \n",
    "    # make ntwk\n",
    "    ntwk = LIFNtwk(\n",
    "        t_m=np.repeat(P.T_M, n),\n",
    "        e_l=np.repeat(P.E_L, n),\n",
    "        v_th=np.repeat(P.V_TH, n),\n",
    "        v_reset=np.repeat(P.V_RESET, n),\n",
    "        t_r=np.repeat(P.T_R, n),\n",
    "        es_syn=es_syn,\n",
    "        ts_syn=ts_syn,\n",
    "        ws_rcr=ws_rcr,\n",
    "        ws_up=ws_up,\n",
    "        plasticity=plasticity)\n",
    "    \n",
    "    ntwk.labels = labels\n",
    "    \n",
    "    return ntwk"
   ]
  },
  {
   "cell_type": "markdown",
   "metadata": {},
   "source": [
    "## Stimulation paradigm"
   ]
  },
  {
   "cell_type": "code",
   "execution_count": 10,
   "metadata": {
    "collapsed": true
   },
   "outputs": [],
   "source": [
    "def make_spks_up(ntwk, items, P):\n",
    "    \"\"\"Create an input spike train to imprint and recall items.\"\"\"\n",
    "    \n",
    "    t = np.arange(0, P.T_END, P.DT)\n",
    "    \n",
    "    spks_up = np.zeros((len(t), 4 + ntwk.n))\n",
    "    \n",
    "    # item storage\n",
    "    mask_store = (P.T_STORE_0 <= t) & (t < P.T_STORE_1)\n",
    "    \n",
    "    for i in items:\n",
    "        spks_up[mask_store, i] = \\\n",
    "            np.random.poisson(P.DT * P.FR_STORE, size=mask_store.sum())\n",
    "            \n",
    "    # recall\n",
    "    mask_recall = (P.T_RECALL_0 <= t) & (t < P.T_RECALL_1)\n",
    "    spks_up[mask_recall, 4:] = \\\n",
    "        np.random.poisson(P.DT * P.FR_RECALL, size=(mask_recall.sum(), ntwk.n))\n",
    "    \n",
    "    return spks_up"
   ]
  },
  {
   "cell_type": "markdown",
   "metadata": {},
   "source": [
    "## Recall accuracy"
   ]
  },
  {
   "cell_type": "code",
   "execution_count": 11,
   "metadata": {
    "collapsed": true
   },
   "outputs": [],
   "source": [
    "def calc_acc(rsp, items, P):\n",
    "    acc = 3.14159\n",
    "    return acc"
   ]
  },
  {
   "cell_type": "markdown",
   "metadata": {},
   "source": [
    "# SIMULATIONS"
   ]
  },
  {
   "cell_type": "markdown",
   "metadata": {},
   "source": [
    "## Examples"
   ]
  },
  {
   "cell_type": "markdown",
   "metadata": {},
   "source": [
    "### Simulation "
   ]
  },
  {
   "cell_type": "code",
   "execution_count": 12,
   "metadata": {
    "collapsed": true
   },
   "outputs": [],
   "source": [
    "def xmpl(q_star, p_0, p_1, items, P):\n",
    "    \n",
    "    # build ntwk and run smln\n",
    "    ntwk = make_ntwk(n=P.N, q=P.Q, q_star=q_star, p_0=p_0, p_1=p_1, P=P)\n",
    "    spks_up = make_spks_up(ntwk, items, P)\n",
    "    rsp = ntwk.run(spks_up, P.DT, report_every=10)\n",
    "    rsp.labels = ntwk.labels\n",
    "    acc = calc_acc(rsp, items, P)\n",
    "\n",
    "    # show raster and CTL->OUT weights\n",
    "    fig, axs = plt.subplots(2, 1, figsize=(15, 8), tight_layout=True)\n",
    "\n",
    "    ## raster\n",
    "    raster(axs[0], rsp.ts, rsp.spks)\n",
    "    \n",
    "    axs[0].set_ylim(0, ntwk.n)\n",
    "\n",
    "    ## CTL->OUT weights\n",
    "    #w_out_ctl_items = ...\n",
    "    #w_out_ctl_all = ...\n",
    "\n",
    "    #axs[1].plot(rsp.ts, w_out_ctl_all, color='k', lw=2)\n",
    "    #axs[1].plot(rsp.ts, w_out_ctl_items, color='r', lw=2)\n",
    "    \n",
    "    axs[0].set_title('ACC = {0:.4f}'.format(acc))\n",
    "    \n",
    "    for ax in axs:\n",
    "        set_font_size(ax, 16)\n",
    "        \n",
    "    return Generic(\n",
    "        ntwk=ntwk,\n",
    "        items=items,\n",
    "        spks_up=spks_up,\n",
    "        rsp=rsp,\n",
    "        acc=acc,\n",
    "        fig=fig,\n",
    "        ax=axs)"
   ]
  },
  {
   "cell_type": "markdown",
   "metadata": {},
   "source": [
    "### Single-item, no overlap, no recurrence"
   ]
  },
  {
   "cell_type": "code",
   "execution_count": 13,
   "metadata": {},
   "outputs": [
    {
     "name": "stdout",
     "output_type": "stream",
     "text": [
      "2581/16000 steps completed after 10.000 s...\n",
      "5161/16000 steps completed after 20.001 s...\n",
      "7742/16000 steps completed after 30.004 s...\n",
      "10320/16000 steps completed after 40.006 s...\n",
      "12889/16000 steps completed after 50.008 s...\n",
      "15466/16000 steps completed after 60.010 s...\n"
     ]
    },
    {
     "data": {
      "text/plain": [
       "<aux.Generic at 0x60e414ac8>"
      ]
     },
     "execution_count": 13,
     "metadata": {},
     "output_type": "execute_result"
    },
    {
     "data": {
      "image/png": "[encoded data removed]",
      "text/plain": [
       "<matplotlib.figure.Figure at 0x6085496a0>"
      ]
     },
     "metadata": {},
     "output_type": "display_data"
    }
   ],
   "source": [
    "np.random.seed(0)\n",
    "\n",
    "xmpl(q_star=0, p_0=0, p_1=0, items=[1], P=P)"
   ]
  },
  {
   "cell_type": "markdown",
   "metadata": {},
   "source": [
    "### Single-item, no overlap, modest recurrence"
   ]
  },
  {
   "cell_type": "code",
   "execution_count": 14,
   "metadata": {},
   "outputs": [
    {
     "name": "stdout",
     "output_type": "stream",
     "text": [
      "2573/16000 steps completed after 10.003 s...\n",
      "5142/16000 steps completed after 20.004 s...\n",
      "7711/16000 steps completed after 30.006 s...\n",
      "10270/16000 steps completed after 40.008 s...\n",
      "12821/16000 steps completed after 50.008 s...\n",
      "15388/16000 steps completed after 60.010 s...\n"
     ]
    },
    {
     "data": {
      "text/plain": [
       "<aux.Generic at 0x625f9c978>"
      ]
     },
     "execution_count": 14,
     "metadata": {},
     "output_type": "execute_result"
    },
    {
     "data": {
      "image/png": "[encoded data removed]",
      "text/plain": [
       "<matplotlib.figure.Figure at 0x608549e48>"
      ]
     },
     "metadata": {},
     "output_type": "display_data"
    }
   ],
   "source": [
    "xmpl(q_star=0, p_0=0.04, p_1=0.2, items=[1], P=P)"
   ]
  },
  {
   "cell_type": "code",
   "execution_count": 15,
   "metadata": {},
   "outputs": [
    {
     "name": "stdout",
     "output_type": "stream",
     "text": [
      "2569/16000 steps completed after 10.001 s...\n",
      "5140/16000 steps completed after 20.003 s...\n",
      "7708/16000 steps completed after 30.005 s...\n",
      "10269/16000 steps completed after 40.008 s...\n",
      "12819/16000 steps completed after 50.009 s...\n",
      "15381/16000 steps completed after 60.011 s...\n"
     ]
    },
    {
     "data": {
      "text/plain": [
       "<aux.Generic at 0x62cec4ef0>"
      ]
     },
     "execution_count": 15,
     "metadata": {},
     "output_type": "execute_result"
    },
    {
     "data": {
      "image/png": "[encoded data removed]",
      "text/plain": [
       "<matplotlib.figure.Figure at 0x625fbc1d0>"
      ]
     },
     "metadata": {},
     "output_type": "display_data"
    }
   ],
   "source": [
    "xmpl(q_star=0, p_0=0.04, p_1=0.04, items=[1], P=P)"
   ]
  },
  {
   "cell_type": "code",
   "execution_count": 16,
   "metadata": {},
   "outputs": [
    {
     "name": "stdout",
     "output_type": "stream",
     "text": [
      "2555/16000 steps completed after 10.003 s...\n",
      "5121/16000 steps completed after 20.007 s...\n",
      "7686/16000 steps completed after 30.010 s...\n",
      "10227/16000 steps completed after 40.012 s...\n",
      "12785/16000 steps completed after 50.014 s...\n",
      "15344/16000 steps completed after 60.014 s...\n"
     ]
    },
    {
     "data": {
      "text/plain": [
       "<aux.Generic at 0x62d26acc0>"
      ]
     },
     "execution_count": 16,
     "metadata": {},
     "output_type": "execute_result"
    },
    {
     "data": {
      "image/png": "[encoded data removed]",
      "text/plain": [
       "<matplotlib.figure.Figure at 0x62cec0f28>"
      ]
     },
     "metadata": {},
     "output_type": "display_data"
    }
   ],
   "source": [
    "xmpl(q_star=0, p_0=0.04, p_1=0, items=[1], P=P)"
   ]
  },
  {
   "cell_type": "markdown",
   "metadata": {},
   "source": [
    "## Parameter dependence"
   ]
  },
  {
   "cell_type": "markdown",
   "metadata": {},
   "source": [
    "### Simulation"
   ]
  },
  {
   "cell_type": "code",
   "execution_count": null,
   "metadata": {
    "collapsed": true
   },
   "outputs": [],
   "source": [
    "def param_variation(q_stars, p_0s, p_1s):\n",
    "    \n",
    "    return Generic(\n",
    "        ...\n",
    "    )"
   ]
  }
 ],
 "metadata": {
  "kernelspec": {
   "display_name": "Python 3",
   "language": "python",
   "name": "python3"
  },
  "language_info": {
   "codemirror_mode": {
    "name": "ipython",
    "version": 3
   },
   "file_extension": ".py",
   "mimetype": "text/x-python",
   "name": "python",
   "nbconvert_exporter": "python",
   "pygments_lexer": "ipython3",
   "version": "3.6.3"
  }
 },
 "nbformat": 4,
 "nbformat_minor": 2
}
