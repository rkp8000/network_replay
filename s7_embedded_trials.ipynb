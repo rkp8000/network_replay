{
 "cells": [
  {
   "cell_type": "markdown",
   "metadata": {},
   "source": [
    "# Trial animation"
   ]
  },
  {
   "cell_type": "code",
   "execution_count": 1,
   "metadata": {
    "collapsed": true
   },
   "outputs": [],
   "source": [
    "import aux\n",
    "from search import ridge_viz\n",
    "\n",
    "from search import ridge_global as C\n",
    "import PARAMETERS as P\n",
    "\n",
    "pre = {\n",
    "    'w_n_pc_ec_vs_dist': aux.load(C.PATH_W_N_PC_EC_VS_DIST),\n",
    "    'v_g_n_vs_w_n_pc_ec_fr_ec': aux.load(C.PATH_V_G_N_VS_W_N_PC_EC_FR_EC)\n",
    "}"
   ]
  },
  {
   "cell_type": "code",
   "execution_count": 2,
   "metadata": {},
   "outputs": [
    {
     "name": "stdout",
     "output_type": "stream",
     "text": [
      "\n",
      "Running network simulations...\n",
      "Results: \n",
      "{'STABILITY': 1.0, 'ACTIVITY': 2.3459987762367733, 'SPEED': 9.4726427344375494}\n",
      "\n",
      "Saving response file...\n",
      "\n",
      "Building frames...\n",
      "\n",
      "Using activity file \"sims/ridge/smln_2_rand/ntwk-71035-1.npy\".\n",
      "Frames will be saved with prefix \"sims/ridge/smln_2_rand/frames-71035-1/f-\".\n",
      "Loading network activity...\n",
      "Downsampling data from 2000.0 to 1000 fps...\n",
      "Data downsampled.\n",
      "Data loaded.\n"
     ]
    },
    {
     "name": "stderr",
     "output_type": "stream",
     "text": [
      "/Users/rkp/anaconda3/envs/py3/lib/python3.6/site-packages/scipy/sparse/compressed.py:774: SparseEfficiencyWarning: Changing the sparsity structure of a csc_matrix is expensive. lil_matrix is more efficient.\n",
      "  SparseEfficiencyWarning)\n"
     ]
    },
    {
     "name": "stdout",
     "output_type": "stream",
     "text": [
      "Generating and saving 200 frames...\n",
      "13 frames completed after 305.416 s...\n",
      "25 frames completed after 605.758 s...\n",
      "37 frames completed after 905.787 s...\n",
      "50 frames completed after 1229.082 s...\n",
      "63 frames completed after 1551.847 s...\n",
      "76 frames completed after 1876.046 s...\n",
      "89 frames completed after 2199.794 s...\n",
      "102 frames completed after 2523.322 s...\n",
      "115 frames completed after 2846.417 s...\n",
      "128 frames completed after 3168.456 s...\n",
      "140 frames completed after 3469.758 s...\n",
      "153 frames completed after 3793.579 s...\n",
      "166 frames completed after 4117.437 s...\n",
      "179 frames completed after 4439.894 s...\n",
      "192 frames completed after 4761.991 s...\n",
      "All frames written to disk.\n",
      "\n",
      "Making animation...\n",
      "\n",
      "Loading source images...\n"
     ]
    },
    {
     "name": "stderr",
     "output_type": "stream",
     "text": [
      "WARNING:root:IMAGEIO FFMPEG_WRITER WARNING: input image is not divisible by macro_block_size=16, resizing from (360, 720) to (368, 720) to ensure video compatibility with most codecs and players. To prevent resizing, make your input image divisible by the macro_block_size or set the macro_block_size to None (risking incompatibility). You may also see a FFMPEG warning concerning speedloss due to data not being aligned.\n"
     ]
    },
    {
     "name": "stdout",
     "output_type": "stream",
     "text": [
      "Source images loaded.\n",
      "Generating movie and saving at \"sims/ridge/smln_2_rand/ntwk-71035-1.mp4\"...\n",
      "Movie generated.\n"
     ]
    }
   ],
   "source": [
    "TRIAL = 71035\n",
    "RUN = 1\n",
    "SAVE_DIR = 'sims/ridge/smln_2_rand'\n",
    "\n",
    "ridge_viz.animate(SAVE_DIR, TRIAL, RUN, pre, C, P, fig_size=(10, 5), positions='random', report_every=300)"
   ]
  },
  {
   "cell_type": "code",
   "execution_count": 3,
   "metadata": {},
   "outputs": [
    {
     "name": "stdout",
     "output_type": "stream",
     "text": [
      "\n",
      "Running network simulations...\n",
      "Results: \n",
      "{'STABILITY': 1.0, 'ACTIVITY': 2.3459987762367733, 'SPEED': 9.4726427344375494}\n",
      "\n",
      "Saving response file...\n",
      "\n",
      "Building frames...\n",
      "\n",
      "Using activity file \"sims/ridge/smln_2/ntwk-71035-1.npy\".\n",
      "Frames will be saved with prefix \"sims/ridge/smln_2/frames-71035-1/f-\".\n",
      "Loading network activity...\n",
      "Downsampling data from 2000.0 to 1000 fps...\n",
      "Data downsampled.\n",
      "Data loaded.\n"
     ]
    },
    {
     "name": "stderr",
     "output_type": "stream",
     "text": [
      "/Users/rkp/anaconda3/envs/py3/lib/python3.6/site-packages/scipy/sparse/compressed.py:774: SparseEfficiencyWarning: Changing the sparsity structure of a csc_matrix is expensive. lil_matrix is more efficient.\n",
      "  SparseEfficiencyWarning)\n"
     ]
    },
    {
     "name": "stdout",
     "output_type": "stream",
     "text": [
      "Generating and saving 200 frames...\n",
      "10 frames completed after 331.371 s...\n",
      "20 frames completed after 662.964 s...\n",
      "30 frames completed after 995.476 s...\n",
      "40 frames completed after 1326.810 s...\n",
      "50 frames completed after 1659.544 s...\n",
      "60 frames completed after 1991.150 s...\n",
      "70 frames completed after 2321.737 s...\n",
      "80 frames completed after 2653.738 s...\n",
      "90 frames completed after 2985.779 s...\n",
      "100 frames completed after 3317.411 s...\n",
      "110 frames completed after 3649.345 s...\n",
      "120 frames completed after 3980.096 s...\n",
      "130 frames completed after 4311.721 s...\n",
      "140 frames completed after 4643.441 s...\n",
      "150 frames completed after 4975.247 s...\n",
      "160 frames completed after 5306.421 s...\n",
      "170 frames completed after 5637.843 s...\n",
      "180 frames completed after 5969.059 s...\n",
      "190 frames completed after 6300.433 s...\n",
      "200 frames completed after 6632.192 s...\n",
      "All frames written to disk.\n",
      "\n",
      "Making animation...\n",
      "\n",
      "Loading source images...\n"
     ]
    },
    {
     "name": "stderr",
     "output_type": "stream",
     "text": [
      "WARNING:root:IMAGEIO FFMPEG_WRITER WARNING: input image is not divisible by macro_block_size=16, resizing from (504, 1080) to (512, 1088) to ensure video compatibility with most codecs and players. To prevent resizing, make your input image divisible by the macro_block_size or set the macro_block_size to None (risking incompatibility). You may also see a FFMPEG warning concerning speedloss due to data not being aligned.\n"
     ]
    },
    {
     "name": "stdout",
     "output_type": "stream",
     "text": [
      "Source images loaded.\n",
      "Generating movie and saving at \"sims/ridge/smln_2/ntwk-71035-1.mp4\"...\n",
      "Movie generated.\n"
     ]
    }
   ],
   "source": [
    "TRIAL = 71035\n",
    "RUN = 1\n",
    "SAVE_DIR = 'sims/ridge/smln_2'\n",
    "\n",
    "ridge_viz.animate(SAVE_DIR, TRIAL, RUN, pre, C, P, fig_size=(15, 7), report_every=300)"
   ]
  },
  {
   "cell_type": "code",
   "execution_count": 4,
   "metadata": {},
   "outputs": [
    {
     "name": "stdout",
     "output_type": "stream",
     "text": [
      "\n",
      "Running network simulations...\n",
      "Results: \n",
      "{'STABILITY': 1.0, 'ACTIVITY': 2.1642576536082871, 'SPEED': 8.1424226693360868}\n",
      "\n",
      "Saving response file...\n",
      "\n",
      "Building frames...\n",
      "\n",
      "Using activity file \"sims/ridge/smln_2/ntwk-107550-1.npy\".\n",
      "Frames will be saved with prefix \"sims/ridge/smln_2/frames-107550-1/f-\".\n",
      "Loading network activity...\n",
      "Downsampling data from 2000.0 to 1000 fps...\n",
      "Data downsampled.\n",
      "Data loaded.\n"
     ]
    },
    {
     "name": "stderr",
     "output_type": "stream",
     "text": [
      "/Users/rkp/anaconda3/envs/py3/lib/python3.6/site-packages/scipy/sparse/compressed.py:774: SparseEfficiencyWarning: Changing the sparsity structure of a csc_matrix is expensive. lil_matrix is more efficient.\n",
      "  SparseEfficiencyWarning)\n"
     ]
    },
    {
     "name": "stdout",
     "output_type": "stream",
     "text": [
      "Generating and saving 200 frames...\n",
      "6 frames completed after 350.152 s...\n",
      "12 frames completed after 700.263 s...\n",
      "18 frames completed after 1049.198 s...\n",
      "24 frames completed after 1398.963 s...\n",
      "30 frames completed after 1748.310 s...\n",
      "36 frames completed after 2096.990 s...\n",
      "42 frames completed after 2445.143 s...\n",
      "48 frames completed after 2793.950 s...\n",
      "54 frames completed after 3143.288 s...\n",
      "60 frames completed after 3492.990 s...\n",
      "66 frames completed after 3841.504 s...\n",
      "72 frames completed after 4190.637 s...\n",
      "78 frames completed after 4538.854 s...\n",
      "84 frames completed after 4887.871 s...\n",
      "90 frames completed after 5238.753 s...\n",
      "96 frames completed after 5586.893 s...\n",
      "102 frames completed after 5934.246 s...\n",
      "108 frames completed after 6281.854 s...\n",
      "114 frames completed after 6629.463 s...\n",
      "120 frames completed after 6977.253 s...\n",
      "126 frames completed after 7324.995 s...\n",
      "132 frames completed after 7673.378 s...\n",
      "138 frames completed after 8021.108 s...\n",
      "144 frames completed after 8368.971 s...\n",
      "150 frames completed after 8716.947 s...\n",
      "156 frames completed after 9065.419 s...\n",
      "162 frames completed after 9413.028 s...\n",
      "168 frames completed after 9760.832 s...\n",
      "174 frames completed after 10108.170 s...\n",
      "180 frames completed after 10455.512 s...\n",
      "186 frames completed after 10804.304 s...\n",
      "192 frames completed after 11152.575 s...\n",
      "198 frames completed after 11500.846 s...\n",
      "All frames written to disk.\n",
      "\n",
      "Making animation...\n",
      "\n",
      "Loading source images...\n"
     ]
    },
    {
     "name": "stderr",
     "output_type": "stream",
     "text": [
      "WARNING:root:IMAGEIO FFMPEG_WRITER WARNING: input image is not divisible by macro_block_size=16, resizing from (504, 1080) to (512, 1088) to ensure video compatibility with most codecs and players. To prevent resizing, make your input image divisible by the macro_block_size or set the macro_block_size to None (risking incompatibility). You may also see a FFMPEG warning concerning speedloss due to data not being aligned.\n"
     ]
    },
    {
     "name": "stdout",
     "output_type": "stream",
     "text": [
      "Source images loaded.\n",
      "Generating movie and saving at \"sims/ridge/smln_2/ntwk-107550-1.mp4\"...\n",
      "Movie generated.\n"
     ]
    }
   ],
   "source": [
    "TRIAL = 107550\n",
    "RUN = 1\n",
    "SAVE_DIR = 'sims/ridge/smln_2'\n",
    "\n",
    "ridge_viz.animate(SAVE_DIR, TRIAL, RUN, pre, C, P, fig_size=(15, 7), report_every=300)"
   ]
  },
  {
   "cell_type": "code",
   "execution_count": 5,
   "metadata": {},
   "outputs": [
    {
     "name": "stdout",
     "output_type": "stream",
     "text": [
      "\n",
      "Running network simulations...\n",
      "Results: \n",
      "{'STABILITY': 1.0, 'ACTIVITY': 2.1642576536082871, 'SPEED': 8.1424226693360868}\n",
      "\n",
      "Saving response file...\n",
      "\n",
      "Building frames...\n",
      "\n",
      "Using activity file \"sims/ridge/smln_2_rand/ntwk-107550-1.npy\".\n",
      "Frames will be saved with prefix \"sims/ridge/smln_2_rand/frames-107550-1/f-\".\n",
      "Loading network activity...\n",
      "Downsampling data from 2000.0 to 1000 fps...\n",
      "Data downsampled.\n",
      "Data loaded.\n"
     ]
    },
    {
     "name": "stderr",
     "output_type": "stream",
     "text": [
      "/Users/rkp/anaconda3/envs/py3/lib/python3.6/site-packages/scipy/sparse/compressed.py:774: SparseEfficiencyWarning: Changing the sparsity structure of a csc_matrix is expensive. lil_matrix is more efficient.\n",
      "  SparseEfficiencyWarning)\n"
     ]
    },
    {
     "name": "stdout",
     "output_type": "stream",
     "text": [
      "Generating and saving 200 frames...\n",
      "8 frames completed after 319.281 s...\n",
      "16 frames completed after 638.807 s...\n",
      "24 frames completed after 958.943 s...\n",
      "32 frames completed after 1279.268 s...\n",
      "40 frames completed after 1598.594 s...\n",
      "48 frames completed after 1918.283 s...\n",
      "56 frames completed after 2237.707 s...\n",
      "64 frames completed after 2557.483 s...\n",
      "72 frames completed after 2877.324 s...\n",
      "80 frames completed after 3196.719 s...\n",
      "88 frames completed after 3516.722 s...\n",
      "96 frames completed after 3836.337 s...\n",
      "104 frames completed after 4156.162 s...\n",
      "112 frames completed after 4476.584 s...\n",
      "120 frames completed after 4796.969 s...\n",
      "128 frames completed after 5117.077 s...\n",
      "136 frames completed after 5437.621 s...\n",
      "144 frames completed after 5757.858 s...\n",
      "152 frames completed after 6078.189 s...\n",
      "160 frames completed after 6399.477 s...\n",
      "168 frames completed after 6720.109 s...\n",
      "176 frames completed after 7040.552 s...\n",
      "184 frames completed after 7361.130 s...\n",
      "192 frames completed after 7681.708 s...\n",
      "200 frames completed after 8002.320 s...\n",
      "All frames written to disk.\n",
      "\n",
      "Making animation...\n",
      "\n",
      "Loading source images...\n"
     ]
    },
    {
     "name": "stderr",
     "output_type": "stream",
     "text": [
      "WARNING:root:IMAGEIO FFMPEG_WRITER WARNING: input image is not divisible by macro_block_size=16, resizing from (360, 720) to (368, 720) to ensure video compatibility with most codecs and players. To prevent resizing, make your input image divisible by the macro_block_size or set the macro_block_size to None (risking incompatibility). You may also see a FFMPEG warning concerning speedloss due to data not being aligned.\n"
     ]
    },
    {
     "name": "stdout",
     "output_type": "stream",
     "text": [
      "Source images loaded.\n",
      "Generating movie and saving at \"sims/ridge/smln_2_rand/ntwk-107550-1.mp4\"...\n",
      "Movie generated.\n"
     ]
    }
   ],
   "source": [
    "TRIAL = 107550\n",
    "RUN = 1\n",
    "SAVE_DIR = 'sims/ridge/smln_2_rand'\n",
    "\n",
    "ridge_viz.animate(SAVE_DIR, TRIAL, RUN, pre, C, P, fig_size=(10, 5), positions='random', report_every=300)"
   ]
  }
 ],
 "metadata": {
  "kernelspec": {
   "display_name": "Python 3",
   "language": "python",
   "name": "python3"
  },
  "language_info": {
   "codemirror_mode": {
    "name": "ipython",
    "version": 3
   },
   "file_extension": ".py",
   "mimetype": "text/x-python",
   "name": "python",
   "nbconvert_exporter": "python",
   "pygments_lexer": "ipython3",
   "version": "3.6.1"
  }
 },
 "nbformat": 4,
 "nbformat_minor": 2
}
