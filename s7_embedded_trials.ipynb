{
 "cells": [
  {
   "cell_type": "markdown",
   "metadata": {},
   "source": [
    "# Trial animation"
   ]
  },
  {
   "cell_type": "code",
   "execution_count": 1,
   "metadata": {
    "collapsed": true
   },
   "outputs": [],
   "source": [
    "import aux\n",
    "from search import embedded_viz\n",
    "\n",
    "from search import embedded_global as C\n",
    "import PARAMETERS as P\n",
    "\n",
    "pre = {\n",
    "    'w_n_pc_ec_vs_dist': aux.load(C.PATH_W_N_PC_EC_VS_DIST),\n",
    "    'v_g_n_vs_w_n_pc_ec_fr_ec': aux.load(C.PATH_V_G_N_VS_W_N_PC_EC_FR_EC)\n",
    "}"
   ]
  },
  {
   "cell_type": "code",
   "execution_count": null,
   "metadata": {},
   "outputs": [
    {
     "name": "stdout",
     "output_type": "stream",
     "text": [
      "\n",
      "Running network simulations...\n",
      "Results: \n",
      "{'STABILITY': 0.33333333333333331, 'ANGLE': -0.95381485539970889, 'ACTIVITY': 2.2546126758806517, 'SPEED': 8.748003857747209}\n",
      "\n",
      "Saving response file...\n",
      "\n",
      "Building frames...\n",
      "\n",
      "Using activity file \"sims/embedded/smln_1/ntwk-16515-0.npy\".\n",
      "Frames will be saved with prefix \"sims/embedded/smln_1/frames-16515-0/f-\".\n",
      "Loading network activity...\n",
      "Downsampling data from 2000.0 to 1000 fps...\n",
      "Data downsampled.\n",
      "Data loaded.\n"
     ]
    },
    {
     "name": "stderr",
     "output_type": "stream",
     "text": [
      "/Users/rkp/anaconda3/envs/py3/lib/python3.6/site-packages/scipy/sparse/compressed.py:774: SparseEfficiencyWarning: Changing the sparsity structure of a csc_matrix is expensive. lil_matrix is more efficient.\n",
      "  SparseEfficiencyWarning)\n"
     ]
    }
   ],
   "source": [
    "TRIAL = 16515\n",
    "RUN = 0\n",
    "SAVE_DIR = 'sims/embedded/smln_1'\n",
    "\n",
    "embedded_viz.animate(SAVE_DIR, TRIAL, RUN, pre, C, P, fig_size=(15, 10), report_every=600)"
   ]
  },
  {
   "cell_type": "code",
   "execution_count": null,
   "metadata": {
    "collapsed": true
   },
   "outputs": [],
   "source": [
    "TRIAL = 16517\n",
    "RUN = 0\n",
    "SAVE_DIR = 'sims/embedded/smln_1'\n",
    "\n",
    "embedded_viz.animate(SAVE_DIR, TRIAL, RUN, pre, C, P, fig_size=(15, 10), report_every=300)"
   ]
  },
  {
   "cell_type": "code",
   "execution_count": null,
   "metadata": {
    "collapsed": true
   },
   "outputs": [],
   "source": [
    "TRIAL = 16556\n",
    "RUN = 0\n",
    "SAVE_DIR = 'sims/embedded/smln_1'\n",
    "\n",
    "embedded_viz.animate(SAVE_DIR, TRIAL, RUN, pre, C, P, fig_size=(15, 10), report_every=600)"
   ]
  },
  {
   "cell_type": "code",
   "execution_count": null,
   "metadata": {
    "collapsed": true
   },
   "outputs": [],
   "source": [
    "TRIAL = 16556\n",
    "RUN = 1\n",
    "SAVE_DIR = 'sims/embedded/smln_1'\n",
    "\n",
    "embedded_viz.animate(SAVE_DIR, TRIAL, RUN, pre, C, P, fig_size=(15, 10), report_every=300)"
   ]
  },
  {
   "cell_type": "code",
   "execution_count": null,
   "metadata": {
    "collapsed": true
   },
   "outputs": [],
   "source": [
    "TRIAL = 16515\n",
    "RUN = 0\n",
    "SAVE_DIR = 'sims/embedded/smln_1_rand'\n",
    "\n",
    "embedded_viz.animate(SAVE_DIR, TRIAL, RUN, pre, C, P, fig_size=(10, 7), positions='random', report_every=600)"
   ]
  },
  {
   "cell_type": "code",
   "execution_count": null,
   "metadata": {
    "collapsed": true
   },
   "outputs": [],
   "source": [
    "TRIAL = 16517\n",
    "RUN = 0\n",
    "SAVE_DIR = 'sims/embedded/smln_1_rand'\n",
    "\n",
    "embedded_viz.animate(SAVE_DIR, TRIAL, RUN, pre, C, P, fig_size=(10, 7), positions='random', report_every=300)"
   ]
  },
  {
   "cell_type": "code",
   "execution_count": 4,
   "metadata": {},
   "outputs": [
    {
     "name": "stdout",
     "output_type": "stream",
     "text": [
      "\n",
      "Running network simulations...\n",
      "Results: \n",
      "{'STABILITY': 0.33333333333333331, 'ANGLE': 0.16035315907706041, 'ACTIVITY': 2.2071948339364775, 'SPEED': 8.7040956871546982}\n",
      "\n",
      "Saving response file...\n",
      "\n",
      "Building frames...\n",
      "\n",
      "Using activity file \"sims/embedded/smln_0/ntwk-14388-1.npy\".\n",
      "Frames will be saved with prefix \"sims/embedded/smln_0/frames-14388-1/f-\".\n",
      "Loading network activity...\n",
      "Downsampling data from 2000.0 to 1000 fps...\n",
      "Data downsampled.\n",
      "Data loaded.\n"
     ]
    },
    {
     "name": "stderr",
     "output_type": "stream",
     "text": [
      "/Users/rkp/anaconda3/envs/py3/lib/python3.6/site-packages/scipy/sparse/compressed.py:774: SparseEfficiencyWarning: Changing the sparsity structure of a csc_matrix is expensive. lil_matrix is more efficient.\n",
      "  SparseEfficiencyWarning)\n"
     ]
    },
    {
     "name": "stdout",
     "output_type": "stream",
     "text": [
      "Generating and saving 200 frames...\n",
      "7 frames completed after 336.168 s...\n",
      "14 frames completed after 671.791 s...\n",
      "21 frames completed after 1007.873 s...\n",
      "28 frames completed after 1315.655 s...\n",
      "35 frames completed after 1620.053 s...\n",
      "42 frames completed after 1941.497 s...\n",
      "48 frames completed after 2245.531 s...\n",
      "54 frames completed after 2545.981 s...\n",
      "61 frames completed after 2892.309 s...\n",
      "68 frames completed after 3228.847 s...\n",
      "74 frames completed after 3531.311 s...\n",
      "81 frames completed after 3866.730 s...\n",
      "88 frames completed after 4202.529 s...\n",
      "95 frames completed after 4538.324 s...\n",
      "102 frames completed after 4873.516 s...\n",
      "109 frames completed after 5209.622 s...\n",
      "116 frames completed after 5545.473 s...\n",
      "123 frames completed after 5881.424 s...\n",
      "130 frames completed after 6219.046 s...\n",
      "137 frames completed after 6556.373 s...\n",
      "144 frames completed after 6893.463 s...\n",
      "151 frames completed after 7230.707 s...\n",
      "158 frames completed after 7573.896 s...\n",
      "165 frames completed after 7920.339 s...\n",
      "172 frames completed after 8259.371 s...\n",
      "179 frames completed after 8607.294 s...\n",
      "186 frames completed after 8952.165 s...\n",
      "193 frames completed after 9291.461 s...\n",
      "200 frames completed after 9630.081 s...\n",
      "All frames written to disk.\n",
      "\n",
      "Making animation...\n",
      "\n",
      "Loading source images...\n"
     ]
    },
    {
     "name": "stderr",
     "output_type": "stream",
     "text": [
      "WARNING:root:IMAGEIO FFMPEG_WRITER WARNING: input image is not divisible by macro_block_size=16, resizing from (504, 1080) to (512, 1088) to ensure video compatibility with most codecs and players. To prevent resizing, make your input image divisible by the macro_block_size or set the macro_block_size to None (risking incompatibility). You may also see a FFMPEG warning concerning speedloss due to data not being aligned.\n"
     ]
    },
    {
     "name": "stdout",
     "output_type": "stream",
     "text": [
      "Source images loaded.\n",
      "Generating movie and saving at \"sims/embedded/smln_0/ntwk-14388-1.mp4\"...\n",
      "Movie generated.\n"
     ]
    }
   ],
   "source": [
    "TRIAL = 14388\n",
    "RUN = 1\n",
    "SAVE_DIR = 'sims/embedded/smln_0'\n",
    "\n",
    "embedded_viz.animate(SAVE_DIR, TRIAL, RUN, pre, C, P, fig_size=(15, 7), report_every=300)"
   ]
  },
  {
   "cell_type": "code",
   "execution_count": null,
   "metadata": {},
   "outputs": [
    {
     "name": "stdout",
     "output_type": "stream",
     "text": [
      "\n",
      "Running network simulations...\n",
      "Results: \n",
      "{'STABILITY': 0.33333333333333331, 'ANGLE': 0.16035315907706041, 'ACTIVITY': 2.2071948339364775, 'SPEED': 8.7040956871546982}\n",
      "\n",
      "Saving response file...\n",
      "\n",
      "Building frames...\n",
      "\n",
      "Using activity file \"sims/embedded/smln_0_rand/ntwk-14388-1.npy\".\n",
      "Frames will be saved with prefix \"sims/embedded/smln_0_rand/frames-14388-1/f-\".\n",
      "Loading network activity...\n",
      "Downsampling data from 2000.0 to 1000 fps...\n",
      "Data downsampled.\n",
      "Data loaded.\n"
     ]
    },
    {
     "name": "stderr",
     "output_type": "stream",
     "text": [
      "/Users/rkp/anaconda3/envs/py3/lib/python3.6/site-packages/scipy/sparse/compressed.py:774: SparseEfficiencyWarning: Changing the sparsity structure of a csc_matrix is expensive. lil_matrix is more efficient.\n",
      "  SparseEfficiencyWarning)\n"
     ]
    },
    {
     "name": "stdout",
     "output_type": "stream",
     "text": [
      "Generating and saving 200 frames...\n",
      "9 frames completed after 308.326 s...\n",
      "18 frames completed after 613.708 s...\n",
      "27 frames completed after 919.917 s...\n",
      "36 frames completed after 1226.287 s...\n",
      "45 frames completed after 1533.238 s...\n",
      "54 frames completed after 1839.184 s...\n",
      "63 frames completed after 2145.248 s...\n",
      "72 frames completed after 2451.266 s...\n",
      "81 frames completed after 2756.222 s...\n",
      "90 frames completed after 3061.734 s...\n",
      "99 frames completed after 3367.722 s...\n",
      "108 frames completed after 3672.882 s...\n",
      "117 frames completed after 3978.423 s...\n",
      "126 frames completed after 4284.470 s...\n",
      "135 frames completed after 4590.774 s...\n",
      "144 frames completed after 4896.942 s...\n",
      "153 frames completed after 5202.550 s...\n",
      "162 frames completed after 5520.225 s...\n",
      "171 frames completed after 5825.152 s...\n",
      "180 frames completed after 6130.423 s...\n",
      "189 frames completed after 6435.760 s...\n",
      "198 frames completed after 6740.834 s...\n",
      "All frames written to disk.\n",
      "\n",
      "Making animation...\n",
      "\n",
      "Loading source images...\n"
     ]
    },
    {
     "name": "stderr",
     "output_type": "stream",
     "text": [
      "WARNING:root:IMAGEIO FFMPEG_WRITER WARNING: input image is not divisible by macro_block_size=16, resizing from (360, 720) to (368, 720) to ensure video compatibility with most codecs and players. To prevent resizing, make your input image divisible by the macro_block_size or set the macro_block_size to None (risking incompatibility). You may also see a FFMPEG warning concerning speedloss due to data not being aligned.\n"
     ]
    },
    {
     "name": "stdout",
     "output_type": "stream",
     "text": [
      "Source images loaded.\n",
      "Generating movie and saving at \"sims/embedded/smln_0_rand/ntwk-14388-1.mp4\"...\n",
      "Movie generated.\n"
     ]
    }
   ],
   "source": [
    "TRIAL = 14388\n",
    "RUN = 1\n",
    "SAVE_DIR = 'sims/embedded/smln_0_rand'\n",
    "\n",
    "embedded_viz.animate(SAVE_DIR, TRIAL, RUN, pre, C, P, fig_size=(10, 5), positions='random', report_every=300)"
   ]
  }
 ],
 "metadata": {
  "kernelspec": {
   "display_name": "Python 3",
   "language": "python",
   "name": "python3"
  },
  "language_info": {
   "codemirror_mode": {
    "name": "ipython",
    "version": 3
   },
   "file_extension": ".py",
   "mimetype": "text/x-python",
   "name": "python",
   "nbconvert_exporter": "python",
   "pygments_lexer": "ipython3",
   "version": "3.6.1"
  }
 },
 "nbformat": 4,
 "nbformat_minor": 2
}
