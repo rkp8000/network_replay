{
 "cells": [
  {
   "cell_type": "markdown",
   "metadata": {},
   "source": [
    "# Trial animation"
   ]
  },
  {
   "cell_type": "code",
   "execution_count": 1,
   "metadata": {
    "collapsed": true
   },
   "outputs": [],
   "source": [
    "import aux\n",
    "from search import embedded_viz\n",
    "\n",
    "from search import embedded_global as C\n",
    "import PARAMETERS as P\n",
    "\n",
    "pre = {\n",
    "    'w_n_pc_ec_vs_dist': aux.load(C.PATH_W_N_PC_EC_VS_DIST),\n",
    "    'v_g_n_vs_w_n_pc_ec_fr_ec': aux.load(C.PATH_V_G_N_VS_W_N_PC_EC_FR_EC)\n",
    "}"
   ]
  },
  {
   "cell_type": "code",
   "execution_count": null,
   "metadata": {
    "collapsed": true
   },
   "outputs": [
    {
     "name": "stdout",
     "output_type": "stream",
     "text": [
      "\n",
      "Running network simulations...\n",
      "Results: \n",
      "{'STABILITY': 1.0, 'ANGLE': 0.26286692150994262, 'ACTIVITY': 2.7035641005745101, 'SPEED': 10.986904367137916}\n",
      "\n",
      "Saving response file...\n",
      "\n",
      "Building frames...\n",
      "\n",
      "Using activity file \"sims/embedded/smln_1/ntwk-16544-0.npy\".\n",
      "Frames will be saved with prefix \"sims/embedded/smln_1/frames-16544-0/f-\".\n",
      "Loading network activity...\n",
      "Downsampling data from 2000.0 to 1000 fps...\n",
      "Data downsampled.\n",
      "Data loaded.\n"
     ]
    },
    {
     "name": "stderr",
     "output_type": "stream",
     "text": [
      "/Users/rkp/anaconda3/envs/py3/lib/python3.6/site-packages/scipy/sparse/compressed.py:774: SparseEfficiencyWarning: Changing the sparsity structure of a csc_matrix is expensive. lil_matrix is more efficient.\n",
      "  SparseEfficiencyWarning)\n"
     ]
    },
    {
     "name": "stdout",
     "output_type": "stream",
     "text": [
      "Generating and saving 200 frames...\n",
      "2 frames completed after 614.272 s...\n",
      "4 frames completed after 1228.516 s...\n",
      "6 frames completed after 1842.739 s...\n",
      "8 frames completed after 2456.944 s...\n",
      "10 frames completed after 3071.556 s...\n",
      "12 frames completed after 3718.275 s...\n",
      "14 frames completed after 4392.096 s...\n",
      "16 frames completed after 5065.617 s...\n",
      "18 frames completed after 5738.876 s...\n",
      "20 frames completed after 6412.528 s...\n",
      "22 frames completed after 7086.170 s...\n",
      "24 frames completed after 7759.687 s...\n",
      "26 frames completed after 8433.741 s...\n",
      "28 frames completed after 9108.347 s...\n",
      "30 frames completed after 9782.372 s...\n",
      "32 frames completed after 10456.582 s...\n",
      "34 frames completed after 11130.681 s...\n",
      "36 frames completed after 11804.168 s...\n",
      "38 frames completed after 12477.449 s...\n",
      "40 frames completed after 13150.735 s...\n",
      "42 frames completed after 13823.993 s...\n",
      "44 frames completed after 14497.795 s...\n",
      "46 frames completed after 15171.721 s...\n",
      "48 frames completed after 15844.864 s...\n",
      "50 frames completed after 16518.838 s...\n",
      "52 frames completed after 17192.438 s...\n",
      "54 frames completed after 17865.915 s...\n",
      "56 frames completed after 18540.096 s...\n",
      "58 frames completed after 19214.027 s...\n",
      "60 frames completed after 19888.504 s...\n",
      "62 frames completed after 20562.167 s...\n",
      "64 frames completed after 21236.119 s...\n",
      "66 frames completed after 21909.998 s...\n",
      "68 frames completed after 22583.691 s...\n",
      "70 frames completed after 23257.413 s...\n",
      "72 frames completed after 23932.306 s...\n",
      "74 frames completed after 24606.389 s...\n",
      "76 frames completed after 25280.460 s...\n",
      "78 frames completed after 25953.724 s...\n",
      "80 frames completed after 26627.535 s...\n",
      "82 frames completed after 27301.763 s...\n",
      "84 frames completed after 27975.541 s...\n",
      "86 frames completed after 28649.419 s...\n",
      "88 frames completed after 29323.951 s...\n",
      "90 frames completed after 29997.856 s...\n",
      "92 frames completed after 30671.765 s...\n",
      "94 frames completed after 31346.392 s...\n",
      "96 frames completed after 32020.836 s...\n",
      "98 frames completed after 32694.998 s...\n",
      "100 frames completed after 33369.013 s...\n",
      "102 frames completed after 34043.323 s...\n",
      "104 frames completed after 34717.922 s...\n",
      "106 frames completed after 35392.017 s...\n",
      "108 frames completed after 36065.847 s...\n",
      "110 frames completed after 36739.411 s...\n",
      "112 frames completed after 37412.422 s...\n",
      "114 frames completed after 38086.341 s...\n",
      "116 frames completed after 38760.669 s...\n",
      "118 frames completed after 39434.682 s...\n",
      "120 frames completed after 40108.602 s...\n",
      "122 frames completed after 40782.620 s...\n",
      "124 frames completed after 41457.062 s...\n",
      "126 frames completed after 42131.283 s...\n",
      "128 frames completed after 42805.328 s...\n",
      "130 frames completed after 43479.362 s...\n",
      "132 frames completed after 44153.427 s...\n",
      "134 frames completed after 44827.527 s...\n",
      "136 frames completed after 45502.012 s...\n",
      "138 frames completed after 46176.020 s...\n",
      "140 frames completed after 46849.826 s...\n",
      "142 frames completed after 47524.221 s...\n",
      "144 frames completed after 48198.771 s...\n",
      "146 frames completed after 48873.147 s...\n",
      "148 frames completed after 49547.991 s...\n",
      "150 frames completed after 50221.951 s...\n",
      "152 frames completed after 50896.007 s...\n",
      "154 frames completed after 51570.215 s...\n",
      "156 frames completed after 52244.626 s...\n",
      "158 frames completed after 52918.778 s...\n",
      "160 frames completed after 53592.602 s...\n",
      "162 frames completed after 54266.857 s...\n",
      "164 frames completed after 54940.711 s...\n",
      "166 frames completed after 55615.319 s...\n",
      "168 frames completed after 56289.550 s...\n",
      "170 frames completed after 56964.142 s...\n",
      "172 frames completed after 57638.889 s...\n",
      "174 frames completed after 58313.033 s...\n",
      "176 frames completed after 58987.494 s...\n",
      "178 frames completed after 59663.041 s...\n",
      "180 frames completed after 60337.585 s...\n",
      "182 frames completed after 61011.987 s...\n",
      "184 frames completed after 61686.360 s...\n",
      "186 frames completed after 62360.803 s...\n",
      "188 frames completed after 63035.001 s...\n",
      "190 frames completed after 63710.071 s...\n",
      "192 frames completed after 64384.299 s...\n"
     ]
    }
   ],
   "source": [
    "TRIAL = 16544\n",
    "RUN = 0\n",
    "SAVE_DIR = 'sims/embedded/smln_1'\n",
    "\n",
    "embedded_viz.animate(SAVE_DIR, TRIAL, RUN, pre, C, P, fig_size=(15, 10), report_every=600)"
   ]
  },
  {
   "cell_type": "code",
   "execution_count": 3,
   "metadata": {
    "collapsed": true
   },
   "outputs": [
    {
     "name": "stdout",
     "output_type": "stream",
     "text": [
      "\n",
      "Running network simulations...\n",
      "Results: \n",
      "{'STABILITY': 1.0, 'ANGLE': 0.26286692150994262, 'ACTIVITY': 2.7035641005745101, 'SPEED': 10.986904367137916}\n",
      "\n",
      "Saving response file...\n",
      "\n",
      "Building frames...\n",
      "\n",
      "Using activity file \"sims/embedded/smln_1/ntwk-16544-1.npy\".\n",
      "Frames will be saved with prefix \"sims/embedded/smln_1/frames-16544-1/f-\".\n",
      "Loading network activity...\n",
      "Downsampling data from 2000.0 to 1000 fps...\n",
      "Data downsampled.\n",
      "Data loaded.\n"
     ]
    },
    {
     "name": "stderr",
     "output_type": "stream",
     "text": [
      "/Users/rkp/anaconda3/envs/py3/lib/python3.6/site-packages/scipy/sparse/compressed.py:774: SparseEfficiencyWarning: Changing the sparsity structure of a csc_matrix is expensive. lil_matrix is more efficient.\n",
      "  SparseEfficiencyWarning)\n"
     ]
    },
    {
     "name": "stdout",
     "output_type": "stream",
     "text": [
      "Generating and saving 200 frames...\n",
      "1 frames completed after 904.774 s...\n",
      "2 frames completed after 1740.644 s...\n",
      "3 frames completed after 2571.270 s...\n",
      "4 frames completed after 3340.141 s...\n",
      "5 frames completed after 4139.761 s...\n",
      "6 frames completed after 4892.809 s...\n",
      "7 frames completed after 5759.373 s...\n",
      "8 frames completed after 6654.380 s...\n",
      "9 frames completed after 7448.337 s...\n",
      "10 frames completed after 8292.535 s...\n",
      "11 frames completed after 9108.287 s...\n",
      "12 frames completed after 9935.124 s...\n",
      "15 frames completed after 10801.630 s...\n",
      "18 frames completed after 11667.474 s...\n",
      "21 frames completed after 12533.291 s...\n",
      "24 frames completed after 13397.295 s...\n",
      "27 frames completed after 14260.961 s...\n",
      "30 frames completed after 15095.775 s...\n",
      "33 frames completed after 15944.786 s...\n",
      "36 frames completed after 16793.346 s...\n",
      "39 frames completed after 17641.913 s...\n",
      "42 frames completed after 18490.409 s...\n",
      "45 frames completed after 19339.072 s...\n",
      "48 frames completed after 20187.529 s...\n",
      "51 frames completed after 21036.028 s...\n",
      "54 frames completed after 21884.497 s...\n",
      "57 frames completed after 22733.066 s...\n",
      "60 frames completed after 23581.566 s...\n",
      "63 frames completed after 24430.173 s...\n",
      "66 frames completed after 25278.656 s...\n",
      "69 frames completed after 26127.280 s...\n",
      "72 frames completed after 26975.792 s...\n",
      "75 frames completed after 27824.383 s...\n",
      "78 frames completed after 28672.888 s...\n",
      "81 frames completed after 29521.438 s...\n",
      "84 frames completed after 30369.968 s...\n",
      "87 frames completed after 31218.492 s...\n",
      "90 frames completed after 32067.007 s...\n",
      "93 frames completed after 32915.823 s...\n",
      "96 frames completed after 33764.451 s...\n",
      "99 frames completed after 34613.039 s...\n",
      "102 frames completed after 35461.609 s...\n",
      "105 frames completed after 36310.098 s...\n",
      "108 frames completed after 37158.652 s...\n",
      "111 frames completed after 38007.123 s...\n",
      "114 frames completed after 38855.637 s...\n",
      "117 frames completed after 39704.189 s...\n",
      "120 frames completed after 40552.798 s...\n",
      "123 frames completed after 41401.332 s...\n",
      "126 frames completed after 42249.808 s...\n",
      "129 frames completed after 43098.395 s...\n",
      "132 frames completed after 43946.909 s...\n",
      "135 frames completed after 44795.519 s...\n",
      "138 frames completed after 45644.046 s...\n",
      "141 frames completed after 46492.572 s...\n",
      "144 frames completed after 47341.098 s...\n",
      "147 frames completed after 48189.692 s...\n",
      "150 frames completed after 49038.295 s...\n",
      "153 frames completed after 49886.894 s...\n",
      "156 frames completed after 50735.499 s...\n",
      "159 frames completed after 51584.122 s...\n",
      "162 frames completed after 52432.764 s...\n",
      "165 frames completed after 53281.387 s...\n",
      "168 frames completed after 54129.929 s...\n",
      "171 frames completed after 54978.510 s...\n",
      "174 frames completed after 55827.095 s...\n",
      "177 frames completed after 56675.659 s...\n",
      "180 frames completed after 57524.298 s...\n",
      "183 frames completed after 58372.891 s...\n",
      "186 frames completed after 59221.537 s...\n",
      "189 frames completed after 60070.138 s...\n",
      "192 frames completed after 60918.765 s...\n",
      "195 frames completed after 61767.424 s...\n",
      "198 frames completed after 62616.175 s...\n",
      "All frames written to disk.\n",
      "\n",
      "Making animation...\n",
      "\n",
      "Loading source images...\n"
     ]
    },
    {
     "name": "stderr",
     "output_type": "stream",
     "text": [
      "WARNING:root:IMAGEIO FFMPEG_WRITER WARNING: input image is not divisible by macro_block_size=16, resizing from (720, 1080) to (720, 1088) to ensure video compatibility with most codecs and players. To prevent resizing, make your input image divisible by the macro_block_size or set the macro_block_size to None (risking incompatibility). You may also see a FFMPEG warning concerning speedloss due to data not being aligned.\n"
     ]
    },
    {
     "name": "stdout",
     "output_type": "stream",
     "text": [
      "Source images loaded.\n",
      "Generating movie and saving at \"sims/embedded/smln_1/ntwk-16544-1.mp4\"...\n",
      "Movie generated.\n"
     ]
    }
   ],
   "source": [
    "TRIAL = 16544\n",
    "RUN = 1\n",
    "SAVE_DIR = 'sims/embedded/smln_1'\n",
    "\n",
    "embedded_viz.animate(SAVE_DIR, TRIAL, RUN, pre, C, P, fig_size=(15, 10), report_every=600)"
   ]
  },
  {
   "cell_type": "code",
   "execution_count": 2,
   "metadata": {
    "collapsed": true
   },
   "outputs": [
    {
     "name": "stdout",
     "output_type": "stream",
     "text": [
      "\n",
      "Running network simulations...\n",
      "Results: \n",
      "{'STABILITY': 1.0, 'ANGLE': 0.26286692150994262, 'ACTIVITY': 2.7035641005745101, 'SPEED': 10.986904367137916}\n",
      "\n",
      "Saving response file...\n",
      "\n",
      "Building frames...\n",
      "\n",
      "Using activity file \"sims/embedded/smln_1/ntwk-16544-2.npy\".\n",
      "Frames will be saved with prefix \"sims/embedded/smln_1/frames-16544-2/f-\".\n",
      "Loading network activity...\n",
      "Downsampling data from 2000.0 to 1000 fps...\n",
      "Data downsampled.\n",
      "Data loaded.\n"
     ]
    },
    {
     "name": "stderr",
     "output_type": "stream",
     "text": [
      "/Users/rkp/anaconda3/envs/py3/lib/python3.6/site-packages/scipy/sparse/compressed.py:774: SparseEfficiencyWarning: Changing the sparsity structure of a csc_matrix is expensive. lil_matrix is more efficient.\n",
      "  SparseEfficiencyWarning)\n"
     ]
    },
    {
     "name": "stdout",
     "output_type": "stream",
     "text": [
      "Generating and saving 200 frames...\n",
      "64 frames completed after 608.686 s...\n",
      "66 frames completed after 1216.989 s...\n",
      "68 frames completed after 1825.343 s...\n",
      "70 frames completed after 2433.742 s...\n",
      "72 frames completed after 3042.053 s...\n",
      "74 frames completed after 3650.399 s...\n",
      "76 frames completed after 4258.722 s...\n",
      "78 frames completed after 4867.015 s...\n",
      "80 frames completed after 5475.344 s...\n",
      "82 frames completed after 6083.738 s...\n",
      "84 frames completed after 6692.007 s...\n",
      "86 frames completed after 7300.362 s...\n",
      "88 frames completed after 7908.715 s...\n",
      "90 frames completed after 8517.099 s...\n",
      "92 frames completed after 9125.434 s...\n",
      "94 frames completed after 9733.865 s...\n",
      "96 frames completed after 10342.210 s...\n",
      "98 frames completed after 10950.455 s...\n",
      "100 frames completed after 11558.665 s...\n",
      "102 frames completed after 12167.046 s...\n",
      "104 frames completed after 12775.446 s...\n",
      "106 frames completed after 13383.816 s...\n",
      "108 frames completed after 13992.130 s...\n",
      "110 frames completed after 14600.495 s...\n",
      "112 frames completed after 15208.809 s...\n",
      "114 frames completed after 15817.167 s...\n",
      "116 frames completed after 16425.478 s...\n",
      "118 frames completed after 17033.765 s...\n",
      "120 frames completed after 17642.058 s...\n",
      "122 frames completed after 18250.291 s...\n",
      "124 frames completed after 18858.596 s...\n",
      "126 frames completed after 19466.895 s...\n",
      "128 frames completed after 20075.170 s...\n",
      "130 frames completed after 20683.446 s...\n",
      "132 frames completed after 21291.679 s...\n",
      "134 frames completed after 21899.910 s...\n",
      "136 frames completed after 22508.157 s...\n",
      "138 frames completed after 23116.477 s...\n",
      "140 frames completed after 23724.732 s...\n",
      "142 frames completed after 24333.029 s...\n",
      "144 frames completed after 24941.215 s...\n",
      "146 frames completed after 25549.105 s...\n",
      "148 frames completed after 26157.019 s...\n",
      "150 frames completed after 26764.995 s...\n",
      "152 frames completed after 27372.881 s...\n",
      "154 frames completed after 27980.796 s...\n",
      "156 frames completed after 28588.635 s...\n",
      "158 frames completed after 29196.491 s...\n",
      "160 frames completed after 29804.401 s...\n",
      "162 frames completed after 30412.370 s...\n",
      "164 frames completed after 31020.232 s...\n",
      "166 frames completed after 31628.236 s...\n",
      "168 frames completed after 32236.093 s...\n",
      "170 frames completed after 32843.926 s...\n",
      "172 frames completed after 33451.885 s...\n",
      "174 frames completed after 34059.780 s...\n",
      "176 frames completed after 34667.681 s...\n",
      "178 frames completed after 35275.625 s...\n",
      "180 frames completed after 35883.447 s...\n",
      "182 frames completed after 36491.274 s...\n",
      "184 frames completed after 37099.136 s...\n",
      "186 frames completed after 37707.214 s...\n",
      "188 frames completed after 38315.180 s...\n",
      "190 frames completed after 38923.363 s...\n",
      "192 frames completed after 39531.685 s...\n",
      "194 frames completed after 40139.965 s...\n",
      "196 frames completed after 40748.019 s...\n",
      "198 frames completed after 41355.954 s...\n",
      "200 frames completed after 41963.865 s...\n",
      "All frames written to disk.\n",
      "\n",
      "Making animation...\n",
      "\n",
      "Loading source images...\n"
     ]
    },
    {
     "name": "stderr",
     "output_type": "stream",
     "text": [
      "WARNING:root:IMAGEIO FFMPEG_WRITER WARNING: input image is not divisible by macro_block_size=16, resizing from (720, 1080) to (720, 1088) to ensure video compatibility with most codecs and players. To prevent resizing, make your input image divisible by the macro_block_size or set the macro_block_size to None (risking incompatibility). You may also see a FFMPEG warning concerning speedloss due to data not being aligned.\n"
     ]
    },
    {
     "name": "stdout",
     "output_type": "stream",
     "text": [
      "Source images loaded.\n",
      "Generating movie and saving at \"sims/embedded/smln_1/ntwk-16544-2.mp4\"...\n",
      "Movie generated.\n"
     ]
    }
   ],
   "source": [
    "TRIAL = 16544\n",
    "RUN = 2\n",
    "SAVE_DIR = 'sims/embedded/smln_1'\n",
    "\n",
    "embedded_viz.animate(SAVE_DIR, TRIAL, RUN, pre, C, P, fig_size=(15, 10), report_every=600)"
   ]
  },
  {
   "cell_type": "code",
   "execution_count": null,
   "metadata": {
    "collapsed": true
   },
   "outputs": [
    {
     "name": "stdout",
     "output_type": "stream",
     "text": [
      "\n",
      "Running network simulations...\n",
      "Results: \n",
      "{'STABILITY': 0.33333333333333331, 'ANGLE': -0.95381485539970889, 'ACTIVITY': 2.2546126758806517, 'SPEED': 8.748003857747209}\n",
      "\n",
      "Saving response file...\n",
      "\n",
      "Building frames...\n",
      "\n",
      "Using activity file \"sims/embedded/smln_1/ntwk-16515-0.npy\".\n",
      "Frames will be saved with prefix \"sims/embedded/smln_1/frames-16515-0/f-\".\n",
      "Loading network activity...\n",
      "Downsampling data from 2000.0 to 1000 fps...\n",
      "Data downsampled.\n",
      "Data loaded.\n"
     ]
    },
    {
     "name": "stderr",
     "output_type": "stream",
     "text": [
      "/Users/rkp/anaconda3/envs/py3/lib/python3.6/site-packages/scipy/sparse/compressed.py:774: SparseEfficiencyWarning: Changing the sparsity structure of a csc_matrix is expensive. lil_matrix is more efficient.\n",
      "  SparseEfficiencyWarning)\n"
     ]
    },
    {
     "name": "stdout",
     "output_type": "stream",
     "text": [
      "Generating and saving 200 frames...\n",
      "3 frames completed after 697.980 s...\n",
      "6 frames completed after 1395.567 s...\n",
      "9 frames completed after 2093.158 s...\n",
      "12 frames completed after 2789.851 s...\n",
      "15 frames completed after 3487.242 s...\n",
      "18 frames completed after 4184.733 s...\n",
      "21 frames completed after 4883.444 s...\n",
      "24 frames completed after 5582.040 s...\n",
      "27 frames completed after 6280.044 s...\n",
      "30 frames completed after 6977.876 s...\n",
      "33 frames completed after 7675.278 s...\n",
      "36 frames completed after 8373.110 s...\n",
      "39 frames completed after 9070.244 s...\n",
      "42 frames completed after 9769.079 s...\n",
      "45 frames completed after 10465.768 s...\n",
      "48 frames completed after 11162.678 s...\n",
      "51 frames completed after 11859.596 s...\n",
      "54 frames completed after 12557.483 s...\n",
      "57 frames completed after 13256.040 s...\n",
      "60 frames completed after 13953.841 s...\n",
      "63 frames completed after 14652.178 s...\n",
      "66 frames completed after 15349.904 s...\n",
      "69 frames completed after 16048.670 s...\n",
      "72 frames completed after 16746.415 s...\n",
      "75 frames completed after 17446.394 s...\n",
      "78 frames completed after 18145.368 s...\n",
      "81 frames completed after 18842.621 s...\n",
      "84 frames completed after 19541.939 s...\n",
      "87 frames completed after 20241.269 s...\n",
      "90 frames completed after 20941.090 s...\n",
      "93 frames completed after 21639.098 s...\n",
      "96 frames completed after 22338.691 s...\n",
      "99 frames completed after 23039.768 s...\n",
      "102 frames completed after 23738.260 s...\n",
      "105 frames completed after 24436.264 s...\n",
      "108 frames completed after 25135.459 s...\n",
      "111 frames completed after 25834.098 s...\n",
      "114 frames completed after 26532.734 s...\n",
      "117 frames completed after 27231.285 s...\n",
      "120 frames completed after 27931.660 s...\n",
      "123 frames completed after 28631.469 s...\n",
      "126 frames completed after 29332.272 s...\n",
      "129 frames completed after 30033.700 s...\n",
      "132 frames completed after 30734.405 s...\n",
      "135 frames completed after 31435.749 s...\n",
      "138 frames completed after 32136.393 s...\n",
      "141 frames completed after 32838.307 s...\n",
      "144 frames completed after 33539.848 s...\n",
      "147 frames completed after 34239.724 s...\n",
      "150 frames completed after 34943.017 s...\n",
      "153 frames completed after 35642.986 s...\n",
      "156 frames completed after 36342.542 s...\n",
      "159 frames completed after 37043.444 s...\n",
      "162 frames completed after 37744.773 s...\n",
      "165 frames completed after 38445.638 s...\n",
      "168 frames completed after 39145.355 s...\n",
      "171 frames completed after 39845.519 s...\n",
      "174 frames completed after 40544.204 s...\n",
      "177 frames completed after 41242.688 s...\n",
      "180 frames completed after 41941.794 s...\n",
      "183 frames completed after 42642.755 s...\n",
      "186 frames completed after 43342.912 s...\n",
      "189 frames completed after 44043.321 s...\n",
      "192 frames completed after 44745.225 s...\n",
      "195 frames completed after 45446.248 s...\n",
      "198 frames completed after 46148.035 s...\n",
      "All frames written to disk.\n",
      "\n",
      "Making animation...\n",
      "\n",
      "Loading source images...\n"
     ]
    },
    {
     "name": "stderr",
     "output_type": "stream",
     "text": [
      "WARNING:root:IMAGEIO FFMPEG_WRITER WARNING: input image is not divisible by macro_block_size=16, resizing from (720, 1080) to (720, 1088) to ensure video compatibility with most codecs and players. To prevent resizing, make your input image divisible by the macro_block_size or set the macro_block_size to None (risking incompatibility). You may also see a FFMPEG warning concerning speedloss due to data not being aligned.\n"
     ]
    },
    {
     "name": "stdout",
     "output_type": "stream",
     "text": [
      "Source images loaded.\n",
      "Generating movie and saving at \"sims/embedded/smln_1/ntwk-16515-0.mp4\"...\n",
      "Movie generated.\n"
     ]
    }
   ],
   "source": [
    "TRIAL = 16515\n",
    "RUN = 0\n",
    "SAVE_DIR = 'sims/embedded/smln_1'\n",
    "\n",
    "embedded_viz.animate(SAVE_DIR, TRIAL, RUN, pre, C, P, fig_size=(15, 10), report_every=600)"
   ]
  },
  {
   "cell_type": "code",
   "execution_count": null,
   "metadata": {
    "collapsed": true
   },
   "outputs": [
    {
     "name": "stdout",
     "output_type": "stream",
     "text": [
      "\n",
      "Running network simulations...\n",
      "Results: \n",
      "{'STABILITY': 0.66666666666666663, 'ANGLE': 0.24754040548792955, 'ACTIVITY': 2.6291257054266279, 'SPEED': 10.883231571408379}\n",
      "\n",
      "Saving response file...\n",
      "\n",
      "Building frames...\n",
      "\n",
      "Using activity file \"sims/embedded/smln_1/ntwk-16517-0.npy\".\n",
      "Frames will be saved with prefix \"sims/embedded/smln_1/frames-16517-0/f-\".\n",
      "Loading network activity...\n",
      "Downsampling data from 2000.0 to 1000 fps...\n",
      "Data downsampled.\n",
      "Data loaded.\n"
     ]
    },
    {
     "name": "stderr",
     "output_type": "stream",
     "text": [
      "/Users/rkp/anaconda3/envs/py3/lib/python3.6/site-packages/scipy/sparse/compressed.py:774: SparseEfficiencyWarning: Changing the sparsity structure of a csc_matrix is expensive. lil_matrix is more efficient.\n",
      "  SparseEfficiencyWarning)\n"
     ]
    },
    {
     "name": "stdout",
     "output_type": "stream",
     "text": [
      "Generating and saving 200 frames...\n",
      "2 frames completed after 597.297 s...\n",
      "4 frames completed after 1195.653 s...\n",
      "6 frames completed after 1793.693 s...\n",
      "8 frames completed after 2392.336 s...\n",
      "10 frames completed after 2990.930 s...\n",
      "12 frames completed after 3588.690 s...\n",
      "14 frames completed after 4187.120 s...\n",
      "16 frames completed after 4785.778 s...\n",
      "18 frames completed after 5384.422 s...\n",
      "20 frames completed after 5983.391 s...\n",
      "22 frames completed after 6581.924 s...\n",
      "24 frames completed after 7179.955 s...\n",
      "26 frames completed after 7777.702 s...\n",
      "28 frames completed after 8376.221 s...\n",
      "30 frames completed after 8974.661 s...\n",
      "32 frames completed after 9572.490 s...\n",
      "34 frames completed after 10170.598 s...\n",
      "36 frames completed after 10770.165 s...\n",
      "38 frames completed after 11369.839 s...\n",
      "40 frames completed after 11969.253 s...\n",
      "41 frames completed after 12269.879 s...\n",
      "42 frames completed after 12570.527 s...\n",
      "43 frames completed after 12870.794 s...\n",
      "44 frames completed after 13171.020 s...\n",
      "46 frames completed after 13770.807 s...\n",
      "48 frames completed after 14371.096 s...\n",
      "49 frames completed after 14671.507 s...\n",
      "51 frames completed after 15270.857 s...\n",
      "53 frames completed after 15870.456 s...\n",
      "55 frames completed after 16469.878 s...\n",
      "57 frames completed after 17066.844 s...\n",
      "59 frames completed after 17663.697 s...\n",
      "61 frames completed after 18261.125 s...\n",
      "63 frames completed after 18857.433 s...\n",
      "65 frames completed after 19455.482 s...\n",
      "67 frames completed after 20052.915 s...\n",
      "69 frames completed after 20649.856 s...\n",
      "71 frames completed after 21247.653 s...\n",
      "72 frames completed after 21547.696 s...\n",
      "74 frames completed after 22146.107 s...\n",
      "76 frames completed after 22744.520 s...\n",
      "78 frames completed after 23343.538 s...\n",
      "79 frames completed after 23643.597 s...\n",
      "81 frames completed after 24242.388 s...\n",
      "83 frames completed after 24840.879 s...\n",
      "85 frames completed after 25439.588 s...\n",
      "86 frames completed after 25739.791 s...\n",
      "88 frames completed after 26338.883 s...\n",
      "90 frames completed after 26937.037 s...\n",
      "92 frames completed after 27534.748 s...\n",
      "94 frames completed after 28132.968 s...\n",
      "96 frames completed after 28730.887 s...\n",
      "98 frames completed after 29329.137 s...\n",
      "100 frames completed after 29928.734 s...\n",
      "101 frames completed after 30228.923 s...\n",
      "103 frames completed after 30828.588 s...\n",
      "104 frames completed after 31128.920 s...\n",
      "106 frames completed after 31729.192 s...\n",
      "108 frames completed after 32329.621 s...\n",
      "110 frames completed after 32928.748 s...\n",
      "112 frames completed after 33527.977 s...\n",
      "114 frames completed after 34127.344 s...\n",
      "116 frames completed after 34726.525 s...\n",
      "118 frames completed after 35325.602 s...\n",
      "119 frames completed after 35626.252 s...\n",
      "120 frames completed after 35926.587 s...\n",
      "121 frames completed after 36226.757 s...\n",
      "122 frames completed after 36527.103 s...\n",
      "123 frames completed after 36827.296 s...\n",
      "124 frames completed after 37127.321 s...\n",
      "125 frames completed after 37427.699 s...\n",
      "126 frames completed after 37728.069 s...\n",
      "127 frames completed after 38028.306 s...\n",
      "128 frames completed after 38329.032 s...\n",
      "129 frames completed after 38629.566 s...\n",
      "131 frames completed after 39229.050 s...\n",
      "132 frames completed after 39529.194 s...\n",
      "134 frames completed after 40127.931 s...\n",
      "136 frames completed after 40726.603 s...\n",
      "138 frames completed after 41325.692 s...\n",
      "140 frames completed after 41924.323 s...\n",
      "142 frames completed after 42522.966 s...\n",
      "144 frames completed after 43122.201 s...\n",
      "145 frames completed after 43422.319 s...\n",
      "146 frames completed after 43722.589 s...\n",
      "148 frames completed after 44322.609 s...\n",
      "150 frames completed after 44922.436 s...\n",
      "151 frames completed after 45222.971 s...\n",
      "152 frames completed after 45523.267 s...\n",
      "154 frames completed after 46122.975 s...\n",
      "156 frames completed after 46722.534 s...\n",
      "157 frames completed after 47022.912 s...\n",
      "158 frames completed after 47323.495 s...\n",
      "159 frames completed after 47623.749 s...\n",
      "160 frames completed after 47923.755 s...\n",
      "162 frames completed after 48522.824 s...\n",
      "164 frames completed after 49122.092 s...\n",
      "166 frames completed after 49720.260 s...\n",
      "168 frames completed after 50318.675 s...\n",
      "170 frames completed after 50917.730 s...\n",
      "171 frames completed after 51217.950 s...\n",
      "173 frames completed after 51817.257 s...\n",
      "175 frames completed after 52415.658 s...\n",
      "177 frames completed after 53014.061 s...\n",
      "179 frames completed after 53612.602 s...\n",
      "181 frames completed after 54211.695 s...\n",
      "183 frames completed after 54810.623 s...\n",
      "184 frames completed after 55110.720 s...\n",
      "186 frames completed after 55709.706 s...\n",
      "187 frames completed after 56010.106 s...\n",
      "189 frames completed after 56609.268 s...\n",
      "190 frames completed after 56909.367 s...\n",
      "192 frames completed after 57508.497 s...\n",
      "194 frames completed after 58107.533 s...\n",
      "196 frames completed after 58706.048 s...\n",
      "198 frames completed after 59304.889 s...\n",
      "200 frames completed after 59902.926 s...\n",
      "All frames written to disk.\n",
      "\n",
      "Making animation...\n",
      "\n",
      "Loading source images...\n"
     ]
    },
    {
     "name": "stderr",
     "output_type": "stream",
     "text": [
      "WARNING:root:IMAGEIO FFMPEG_WRITER WARNING: input image is not divisible by macro_block_size=16, resizing from (720, 1080) to (720, 1088) to ensure video compatibility with most codecs and players. To prevent resizing, make your input image divisible by the macro_block_size or set the macro_block_size to None (risking incompatibility). You may also see a FFMPEG warning concerning speedloss due to data not being aligned.\n"
     ]
    },
    {
     "name": "stdout",
     "output_type": "stream",
     "text": [
      "Source images loaded.\n",
      "Generating movie and saving at \"sims/embedded/smln_1/ntwk-16517-0.mp4\"...\n",
      "Movie generated.\n"
     ]
    }
   ],
   "source": [
    "TRIAL = 16517\n",
    "RUN = 0\n",
    "SAVE_DIR = 'sims/embedded/smln_1'\n",
    "\n",
    "embedded_viz.animate(SAVE_DIR, TRIAL, RUN, pre, C, P, fig_size=(15, 10), report_every=300)"
   ]
  },
  {
   "cell_type": "code",
   "execution_count": null,
   "metadata": {
    "collapsed": true
   },
   "outputs": [
    {
     "name": "stdout",
     "output_type": "stream",
     "text": [
      "\n",
      "Running network simulations...\n",
      "Results: \n",
      "{'STABILITY': 0.33333333333333331, 'ANGLE': -0.17447643915433575, 'ACTIVITY': 2.3326151778355309, 'SPEED': 9.2768437070404985}\n",
      "\n",
      "Saving response file...\n",
      "\n",
      "Building frames...\n",
      "\n",
      "Using activity file \"sims/embedded/smln_1/ntwk-16556-0.npy\".\n",
      "Frames will be saved with prefix \"sims/embedded/smln_1/frames-16556-0/f-\".\n",
      "Loading network activity...\n",
      "Downsampling data from 2000.0 to 1000 fps...\n",
      "Data downsampled.\n",
      "Data loaded.\n"
     ]
    },
    {
     "name": "stderr",
     "output_type": "stream",
     "text": [
      "/Users/rkp/anaconda3/envs/py3/lib/python3.6/site-packages/scipy/sparse/compressed.py:774: SparseEfficiencyWarning: Changing the sparsity structure of a csc_matrix is expensive. lil_matrix is more efficient.\n",
      "  SparseEfficiencyWarning)\n"
     ]
    },
    {
     "name": "stdout",
     "output_type": "stream",
     "text": [
      "Generating and saving 200 frames...\n",
      "3 frames completed after 628.432 s...\n",
      "6 frames completed after 1257.047 s...\n",
      "9 frames completed after 1885.147 s...\n",
      "12 frames completed after 2514.521 s...\n",
      "15 frames completed after 3144.963 s...\n",
      "18 frames completed after 3775.286 s...\n",
      "21 frames completed after 4405.317 s...\n",
      "24 frames completed after 5036.613 s...\n",
      "27 frames completed after 5667.536 s...\n",
      "30 frames completed after 6296.854 s...\n",
      "33 frames completed after 6926.584 s...\n",
      "36 frames completed after 7556.145 s...\n",
      "39 frames completed after 8185.242 s...\n",
      "42 frames completed after 8815.190 s...\n",
      "45 frames completed after 9444.416 s...\n",
      "48 frames completed after 10073.913 s...\n",
      "51 frames completed after 10703.444 s...\n",
      "54 frames completed after 11334.917 s...\n",
      "57 frames completed after 11966.136 s...\n",
      "60 frames completed after 12595.863 s...\n",
      "63 frames completed after 13225.519 s...\n",
      "66 frames completed after 13856.227 s...\n",
      "69 frames completed after 14486.030 s...\n",
      "72 frames completed after 15115.581 s...\n",
      "75 frames completed after 15744.617 s...\n",
      "78 frames completed after 16374.669 s...\n",
      "81 frames completed after 17003.346 s...\n",
      "84 frames completed after 17633.023 s...\n",
      "87 frames completed after 18263.299 s...\n",
      "90 frames completed after 18893.514 s...\n",
      "93 frames completed after 19523.067 s...\n",
      "96 frames completed after 20151.399 s...\n",
      "99 frames completed after 20779.926 s...\n",
      "102 frames completed after 21410.046 s...\n",
      "105 frames completed after 22038.652 s...\n",
      "108 frames completed after 22667.027 s...\n",
      "111 frames completed after 23295.572 s...\n",
      "114 frames completed after 23925.575 s...\n",
      "117 frames completed after 24553.571 s...\n",
      "120 frames completed after 25182.789 s...\n",
      "123 frames completed after 25811.923 s...\n",
      "126 frames completed after 26440.593 s...\n",
      "129 frames completed after 27070.049 s...\n",
      "132 frames completed after 27698.978 s...\n",
      "135 frames completed after 28328.644 s...\n",
      "138 frames completed after 28958.403 s...\n",
      "141 frames completed after 29587.470 s...\n",
      "144 frames completed after 30216.687 s...\n",
      "147 frames completed after 30846.230 s...\n",
      "150 frames completed after 31476.295 s...\n",
      "153 frames completed after 32105.139 s...\n",
      "156 frames completed after 32735.028 s...\n",
      "159 frames completed after 33364.481 s...\n",
      "162 frames completed after 33993.571 s...\n",
      "165 frames completed after 34621.594 s...\n",
      "168 frames completed after 35250.279 s...\n",
      "171 frames completed after 35879.377 s...\n",
      "174 frames completed after 36508.325 s...\n",
      "177 frames completed after 37137.452 s...\n",
      "180 frames completed after 37766.912 s...\n",
      "183 frames completed after 38395.639 s...\n",
      "186 frames completed after 39025.324 s...\n",
      "189 frames completed after 39655.564 s...\n",
      "192 frames completed after 40284.498 s...\n",
      "195 frames completed after 40913.934 s...\n",
      "198 frames completed after 41543.712 s...\n",
      "All frames written to disk.\n",
      "\n",
      "Making animation...\n",
      "\n",
      "Loading source images...\n"
     ]
    },
    {
     "name": "stderr",
     "output_type": "stream",
     "text": [
      "WARNING:root:IMAGEIO FFMPEG_WRITER WARNING: input image is not divisible by macro_block_size=16, resizing from (720, 1080) to (720, 1088) to ensure video compatibility with most codecs and players. To prevent resizing, make your input image divisible by the macro_block_size or set the macro_block_size to None (risking incompatibility). You may also see a FFMPEG warning concerning speedloss due to data not being aligned.\n"
     ]
    },
    {
     "name": "stdout",
     "output_type": "stream",
     "text": [
      "Source images loaded.\n",
      "Generating movie and saving at \"sims/embedded/smln_1/ntwk-16556-0.mp4\"...\n",
      "Movie generated.\n"
     ]
    }
   ],
   "source": [
    "TRIAL = 16556\n",
    "RUN = 0\n",
    "SAVE_DIR = 'sims/embedded/smln_1'\n",
    "\n",
    "embedded_viz.animate(SAVE_DIR, TRIAL, RUN, pre, C, P, fig_size=(15, 10), report_every=600)"
   ]
  },
  {
   "cell_type": "code",
   "execution_count": null,
   "metadata": {
    "collapsed": true
   },
   "outputs": [
    {
     "name": "stdout",
     "output_type": "stream",
     "text": [
      "\n",
      "Running network simulations...\n",
      "Results: \n",
      "{'STABILITY': 0.33333333333333331, 'ANGLE': -0.17447643915433575, 'ACTIVITY': 2.3326151778355309, 'SPEED': 9.2768437070404985}\n",
      "\n",
      "Saving response file...\n",
      "\n",
      "Building frames...\n",
      "\n",
      "Using activity file \"sims/embedded/smln_1/ntwk-16556-1.npy\".\n",
      "Frames will be saved with prefix \"sims/embedded/smln_1/frames-16556-1/f-\".\n",
      "Loading network activity...\n",
      "Downsampling data from 2000.0 to 1000 fps...\n",
      "Data downsampled.\n",
      "Data loaded.\n"
     ]
    },
    {
     "name": "stderr",
     "output_type": "stream",
     "text": [
      "/Users/rkp/anaconda3/envs/py3/lib/python3.6/site-packages/scipy/sparse/compressed.py:774: SparseEfficiencyWarning: Changing the sparsity structure of a csc_matrix is expensive. lil_matrix is more efficient.\n",
      "  SparseEfficiencyWarning)\n"
     ]
    },
    {
     "name": "stdout",
     "output_type": "stream",
     "text": [
      "Generating and saving 200 frames...\n",
      "2 frames completed after 426.972 s...\n",
      "4 frames completed after 854.011 s...\n",
      "6 frames completed after 1280.356 s...\n",
      "8 frames completed after 1706.754 s...\n",
      "10 frames completed after 2133.568 s...\n",
      "12 frames completed after 2559.904 s...\n",
      "14 frames completed after 2987.183 s...\n",
      "16 frames completed after 3413.522 s...\n",
      "18 frames completed after 3839.960 s...\n",
      "20 frames completed after 4268.104 s...\n",
      "22 frames completed after 4695.705 s...\n",
      "24 frames completed after 5123.429 s...\n",
      "26 frames completed after 5550.938 s...\n",
      "28 frames completed after 5977.745 s...\n",
      "30 frames completed after 6406.174 s...\n",
      "32 frames completed after 6833.970 s...\n",
      "34 frames completed after 7261.707 s...\n",
      "36 frames completed after 7690.164 s...\n",
      "38 frames completed after 8117.262 s...\n",
      "40 frames completed after 8544.021 s...\n",
      "42 frames completed after 8970.828 s...\n",
      "44 frames completed after 9397.723 s...\n",
      "46 frames completed after 9824.673 s...\n",
      "48 frames completed after 10252.332 s...\n",
      "50 frames completed after 10679.356 s...\n",
      "52 frames completed after 11106.011 s...\n",
      "54 frames completed after 11533.887 s...\n",
      "56 frames completed after 11961.198 s...\n",
      "58 frames completed after 12388.109 s...\n",
      "60 frames completed after 12814.243 s...\n",
      "62 frames completed after 13241.873 s...\n",
      "64 frames completed after 13668.538 s...\n",
      "66 frames completed after 14095.188 s...\n",
      "68 frames completed after 14521.655 s...\n",
      "70 frames completed after 14948.325 s...\n",
      "72 frames completed after 15375.747 s...\n",
      "74 frames completed after 15802.781 s...\n",
      "76 frames completed after 16230.124 s...\n",
      "78 frames completed after 16656.299 s...\n",
      "80 frames completed after 17083.266 s...\n",
      "82 frames completed after 17509.982 s...\n",
      "84 frames completed after 17937.239 s...\n",
      "86 frames completed after 18364.373 s...\n",
      "88 frames completed after 18791.915 s...\n",
      "90 frames completed after 19218.668 s...\n",
      "92 frames completed after 19645.542 s...\n",
      "94 frames completed after 20072.150 s...\n",
      "96 frames completed after 20497.689 s...\n",
      "98 frames completed after 20923.529 s...\n",
      "100 frames completed after 21350.025 s...\n",
      "102 frames completed after 21775.836 s...\n",
      "104 frames completed after 22202.172 s...\n",
      "106 frames completed after 22627.871 s...\n",
      "108 frames completed after 23053.708 s...\n",
      "110 frames completed after 23479.636 s...\n",
      "112 frames completed after 23907.322 s...\n",
      "114 frames completed after 24333.924 s...\n",
      "116 frames completed after 24760.254 s...\n",
      "118 frames completed after 25186.635 s...\n",
      "120 frames completed after 25613.965 s...\n",
      "122 frames completed after 26040.960 s...\n",
      "124 frames completed after 26468.016 s...\n",
      "126 frames completed after 26894.938 s...\n",
      "128 frames completed after 27322.743 s...\n",
      "130 frames completed after 27751.071 s...\n",
      "132 frames completed after 28177.977 s...\n",
      "134 frames completed after 28605.232 s...\n",
      "136 frames completed after 29032.539 s...\n",
      "138 frames completed after 29459.908 s...\n",
      "140 frames completed after 29887.064 s...\n",
      "142 frames completed after 30314.034 s...\n",
      "144 frames completed after 30741.126 s...\n",
      "146 frames completed after 31168.791 s...\n",
      "148 frames completed after 31596.471 s...\n",
      "150 frames completed after 32027.554 s...\n",
      "152 frames completed after 32455.623 s...\n",
      "154 frames completed after 32883.338 s...\n",
      "156 frames completed after 33310.558 s...\n",
      "158 frames completed after 33738.141 s...\n",
      "160 frames completed after 34140.557 s...\n",
      "162 frames completed after 34528.677 s...\n",
      "164 frames completed after 34916.807 s...\n",
      "166 frames completed after 35304.676 s...\n",
      "168 frames completed after 35692.104 s...\n",
      "170 frames completed after 36079.034 s...\n",
      "172 frames completed after 36465.740 s...\n",
      "174 frames completed after 36852.395 s...\n",
      "176 frames completed after 37239.080 s...\n",
      "178 frames completed after 37625.564 s...\n",
      "180 frames completed after 38012.065 s...\n",
      "182 frames completed after 38398.455 s...\n",
      "184 frames completed after 38784.833 s...\n",
      "186 frames completed after 39171.702 s...\n",
      "188 frames completed after 39558.232 s...\n",
      "190 frames completed after 39944.674 s...\n",
      "192 frames completed after 40331.308 s...\n",
      "194 frames completed after 40717.898 s...\n",
      "196 frames completed after 41104.459 s...\n",
      "198 frames completed after 41490.995 s...\n",
      "200 frames completed after 41877.653 s...\n",
      "All frames written to disk.\n",
      "\n",
      "Making animation...\n",
      "\n",
      "Loading source images...\n"
     ]
    },
    {
     "name": "stderr",
     "output_type": "stream",
     "text": [
      "WARNING:root:IMAGEIO FFMPEG_WRITER WARNING: input image is not divisible by macro_block_size=16, resizing from (720, 1080) to (720, 1088) to ensure video compatibility with most codecs and players. To prevent resizing, make your input image divisible by the macro_block_size or set the macro_block_size to None (risking incompatibility). You may also see a FFMPEG warning concerning speedloss due to data not being aligned.\n"
     ]
    },
    {
     "name": "stdout",
     "output_type": "stream",
     "text": [
      "Source images loaded.\n",
      "Generating movie and saving at \"sims/embedded/smln_1/ntwk-16556-1.mp4\"...\n",
      "Movie generated.\n"
     ]
    }
   ],
   "source": [
    "TRIAL = 16556\n",
    "RUN = 1\n",
    "SAVE_DIR = 'sims/embedded/smln_1'\n",
    "\n",
    "embedded_viz.animate(SAVE_DIR, TRIAL, RUN, pre, C, P, fig_size=(15, 10), report_every=300)"
   ]
  },
  {
   "cell_type": "code",
   "execution_count": null,
   "metadata": {
    "collapsed": true
   },
   "outputs": [
    {
     "name": "stdout",
     "output_type": "stream",
     "text": [
      "\n",
      "Running network simulations...\n",
      "Results: \n",
      "{'STABILITY': 0.33333333333333331, 'ANGLE': -0.95381485539970889, 'ACTIVITY': 2.2546126758806517, 'SPEED': 8.748003857747209}\n",
      "\n",
      "Saving response file...\n",
      "\n",
      "Building frames...\n",
      "\n",
      "Using activity file \"sims/embedded/smln_1_rand/ntwk-16515-0.npy\".\n",
      "Frames will be saved with prefix \"sims/embedded/smln_1_rand/frames-16515-0/f-\".\n",
      "Loading network activity...\n",
      "Downsampling data from 2000.0 to 1000 fps...\n",
      "Data downsampled.\n",
      "Data loaded.\n"
     ]
    },
    {
     "name": "stderr",
     "output_type": "stream",
     "text": [
      "/Users/rkp/anaconda3/envs/py3/lib/python3.6/site-packages/scipy/sparse/compressed.py:774: SparseEfficiencyWarning: Changing the sparsity structure of a csc_matrix is expensive. lil_matrix is more efficient.\n",
      "  SparseEfficiencyWarning)\n"
     ]
    },
    {
     "name": "stdout",
     "output_type": "stream",
     "text": [
      "Generating and saving 200 frames...\n",
      "5 frames completed after 608.831 s...\n",
      "10 frames completed after 1217.887 s...\n",
      "15 frames completed after 1827.982 s...\n",
      "20 frames completed after 2438.233 s...\n",
      "25 frames completed after 3046.126 s...\n",
      "30 frames completed after 3653.948 s...\n",
      "35 frames completed after 4262.211 s...\n",
      "40 frames completed after 4869.486 s...\n",
      "45 frames completed after 5479.216 s...\n",
      "50 frames completed after 6088.912 s...\n",
      "55 frames completed after 6698.732 s...\n",
      "60 frames completed after 7307.817 s...\n",
      "65 frames completed after 7917.642 s...\n",
      "70 frames completed after 8529.265 s...\n",
      "75 frames completed after 9141.247 s...\n",
      "80 frames completed after 9752.902 s...\n",
      "85 frames completed after 10363.503 s...\n",
      "90 frames completed after 10976.146 s...\n",
      "95 frames completed after 11589.538 s...\n",
      "100 frames completed after 12202.885 s...\n",
      "105 frames completed after 12817.135 s...\n",
      "110 frames completed after 13431.174 s...\n",
      "115 frames completed after 14044.191 s...\n",
      "120 frames completed after 14658.270 s...\n",
      "125 frames completed after 15271.960 s...\n",
      "130 frames completed after 15887.703 s...\n",
      "135 frames completed after 16502.454 s...\n",
      "140 frames completed after 17116.979 s...\n",
      "145 frames completed after 17733.038 s...\n",
      "150 frames completed after 18347.665 s...\n",
      "155 frames completed after 18961.427 s...\n",
      "160 frames completed after 19575.776 s...\n",
      "165 frames completed after 20189.274 s...\n",
      "170 frames completed after 20803.295 s...\n",
      "175 frames completed after 21416.375 s...\n",
      "180 frames completed after 22028.385 s...\n",
      "185 frames completed after 22638.671 s...\n",
      "190 frames completed after 23250.038 s...\n",
      "195 frames completed after 23861.781 s...\n",
      "200 frames completed after 24472.693 s...\n",
      "All frames written to disk.\n",
      "\n",
      "Making animation...\n",
      "\n",
      "Loading source images...\n"
     ]
    },
    {
     "name": "stderr",
     "output_type": "stream",
     "text": [
      "WARNING:root:IMAGEIO FFMPEG_WRITER WARNING: input image is not divisible by macro_block_size=16, resizing from (504, 720) to (512, 720) to ensure video compatibility with most codecs and players. To prevent resizing, make your input image divisible by the macro_block_size or set the macro_block_size to None (risking incompatibility). You may also see a FFMPEG warning concerning speedloss due to data not being aligned.\n"
     ]
    },
    {
     "name": "stdout",
     "output_type": "stream",
     "text": [
      "Source images loaded.\n",
      "Generating movie and saving at \"sims/embedded/smln_1_rand/ntwk-16515-0.mp4\"...\n",
      "Movie generated.\n"
     ]
    }
   ],
   "source": [
    "TRIAL = 16515\n",
    "RUN = 0\n",
    "SAVE_DIR = 'sims/embedded/smln_1_rand'\n",
    "\n",
    "embedded_viz.animate(SAVE_DIR, TRIAL, RUN, pre, C, P, fig_size=(10, 7), positions='random', report_every=600)"
   ]
  },
  {
   "cell_type": "code",
   "execution_count": null,
   "metadata": {
    "collapsed": true
   },
   "outputs": [
    {
     "name": "stdout",
     "output_type": "stream",
     "text": [
      "\n",
      "Running network simulations...\n",
      "Results: \n",
      "{'STABILITY': 0.66666666666666663, 'ANGLE': 0.24754040548792955, 'ACTIVITY': 2.6291257054266279, 'SPEED': 10.883231571408379}\n",
      "\n",
      "Saving response file...\n",
      "\n",
      "Building frames...\n",
      "\n",
      "Using activity file \"sims/embedded/smln_1_rand/ntwk-16517-0.npy\".\n",
      "Frames will be saved with prefix \"sims/embedded/smln_1_rand/frames-16517-0/f-\".\n",
      "Loading network activity...\n",
      "Downsampling data from 2000.0 to 1000 fps...\n",
      "Data downsampled.\n",
      "Data loaded.\n"
     ]
    },
    {
     "name": "stderr",
     "output_type": "stream",
     "text": [
      "/Users/rkp/anaconda3/envs/py3/lib/python3.6/site-packages/scipy/sparse/compressed.py:774: SparseEfficiencyWarning: Changing the sparsity structure of a csc_matrix is expensive. lil_matrix is more efficient.\n",
      "  SparseEfficiencyWarning)\n"
     ]
    },
    {
     "name": "stdout",
     "output_type": "stream",
     "text": [
      "Generating and saving 200 frames...\n",
      "3 frames completed after 421.519 s...\n",
      "6 frames completed after 842.848 s...\n",
      "9 frames completed after 1263.345 s...\n",
      "12 frames completed after 1683.533 s...\n",
      "15 frames completed after 2103.362 s...\n",
      "18 frames completed after 2523.260 s...\n",
      "21 frames completed after 2944.010 s...\n",
      "24 frames completed after 3364.699 s...\n",
      "27 frames completed after 3786.104 s...\n",
      "30 frames completed after 4208.149 s...\n",
      "33 frames completed after 4629.648 s...\n",
      "36 frames completed after 5050.593 s...\n",
      "39 frames completed after 5471.360 s...\n",
      "42 frames completed after 5892.649 s...\n",
      "45 frames completed after 6314.710 s...\n",
      "48 frames completed after 6735.862 s...\n",
      "51 frames completed after 7157.381 s...\n",
      "54 frames completed after 7578.404 s...\n",
      "57 frames completed after 7999.859 s...\n",
      "60 frames completed after 8420.268 s...\n",
      "63 frames completed after 8840.909 s...\n",
      "66 frames completed after 9261.206 s...\n",
      "69 frames completed after 9681.723 s...\n",
      "72 frames completed after 10103.356 s...\n",
      "75 frames completed after 10524.451 s...\n",
      "78 frames completed after 10944.242 s...\n",
      "81 frames completed after 11365.493 s...\n",
      "84 frames completed after 11786.102 s...\n",
      "87 frames completed after 12206.450 s...\n",
      "90 frames completed after 12627.115 s...\n",
      "93 frames completed after 13047.394 s...\n",
      "96 frames completed after 13468.058 s...\n",
      "99 frames completed after 13889.092 s...\n",
      "102 frames completed after 14308.968 s...\n",
      "105 frames completed after 14729.116 s...\n",
      "108 frames completed after 15148.827 s...\n",
      "111 frames completed after 15568.888 s...\n",
      "114 frames completed after 15989.254 s...\n",
      "117 frames completed after 16409.255 s...\n",
      "120 frames completed after 16829.031 s...\n",
      "123 frames completed after 17248.584 s...\n",
      "126 frames completed after 17669.489 s...\n",
      "129 frames completed after 18089.467 s...\n",
      "132 frames completed after 18509.492 s...\n",
      "135 frames completed after 18929.113 s...\n",
      "138 frames completed after 19348.692 s...\n",
      "141 frames completed after 19768.249 s...\n",
      "144 frames completed after 20187.340 s...\n",
      "147 frames completed after 20606.667 s...\n",
      "150 frames completed after 21026.191 s...\n",
      "153 frames completed after 21445.126 s...\n",
      "156 frames completed after 21864.346 s...\n",
      "159 frames completed after 22284.159 s...\n",
      "162 frames completed after 22704.417 s...\n",
      "165 frames completed after 23123.472 s...\n",
      "168 frames completed after 23543.230 s...\n",
      "171 frames completed after 23962.512 s...\n",
      "174 frames completed after 24383.057 s...\n",
      "177 frames completed after 24802.942 s...\n",
      "180 frames completed after 25223.180 s...\n",
      "183 frames completed after 25643.374 s...\n",
      "186 frames completed after 26063.993 s...\n",
      "189 frames completed after 26485.132 s...\n",
      "192 frames completed after 26905.239 s...\n",
      "195 frames completed after 27324.687 s...\n",
      "198 frames completed after 27744.420 s...\n",
      "All frames written to disk.\n",
      "\n",
      "Making animation...\n",
      "\n",
      "Loading source images...\n"
     ]
    },
    {
     "name": "stderr",
     "output_type": "stream",
     "text": [
      "WARNING:root:IMAGEIO FFMPEG_WRITER WARNING: input image is not divisible by macro_block_size=16, resizing from (504, 720) to (512, 720) to ensure video compatibility with most codecs and players. To prevent resizing, make your input image divisible by the macro_block_size or set the macro_block_size to None (risking incompatibility). You may also see a FFMPEG warning concerning speedloss due to data not being aligned.\n"
     ]
    },
    {
     "name": "stdout",
     "output_type": "stream",
     "text": [
      "Source images loaded.\n",
      "Generating movie and saving at \"sims/embedded/smln_1_rand/ntwk-16517-0.mp4\"...\n",
      "Movie generated.\n"
     ]
    }
   ],
   "source": [
    "TRIAL = 16517\n",
    "RUN = 0\n",
    "SAVE_DIR = 'sims/embedded/smln_1_rand'\n",
    "\n",
    "embedded_viz.animate(SAVE_DIR, TRIAL, RUN, pre, C, P, fig_size=(10, 7), positions='random', report_every=300)"
   ]
  },
  {
   "cell_type": "code",
   "execution_count": 4,
   "metadata": {
    "collapsed": true
   },
   "outputs": [
    {
     "name": "stdout",
     "output_type": "stream",
     "text": [
      "\n",
      "Running network simulations...\n",
      "Results: \n",
      "{'STABILITY': 0.33333333333333331, 'ANGLE': 0.16035315907706041, 'ACTIVITY': 2.2071948339364775, 'SPEED': 8.7040956871546982}\n",
      "\n",
      "Saving response file...\n",
      "\n",
      "Building frames...\n",
      "\n",
      "Using activity file \"sims/embedded/smln_0/ntwk-14388-1.npy\".\n",
      "Frames will be saved with prefix \"sims/embedded/smln_0/frames-14388-1/f-\".\n",
      "Loading network activity...\n",
      "Downsampling data from 2000.0 to 1000 fps...\n",
      "Data downsampled.\n",
      "Data loaded.\n"
     ]
    },
    {
     "name": "stderr",
     "output_type": "stream",
     "text": [
      "/Users/rkp/anaconda3/envs/py3/lib/python3.6/site-packages/scipy/sparse/compressed.py:774: SparseEfficiencyWarning: Changing the sparsity structure of a csc_matrix is expensive. lil_matrix is more efficient.\n",
      "  SparseEfficiencyWarning)\n"
     ]
    },
    {
     "name": "stdout",
     "output_type": "stream",
     "text": [
      "Generating and saving 200 frames...\n",
      "7 frames completed after 336.168 s...\n",
      "14 frames completed after 671.791 s...\n",
      "21 frames completed after 1007.873 s...\n",
      "28 frames completed after 1315.655 s...\n",
      "35 frames completed after 1620.053 s...\n",
      "42 frames completed after 1941.497 s...\n",
      "48 frames completed after 2245.531 s...\n",
      "54 frames completed after 2545.981 s...\n",
      "61 frames completed after 2892.309 s...\n",
      "68 frames completed after 3228.847 s...\n",
      "74 frames completed after 3531.311 s...\n",
      "81 frames completed after 3866.730 s...\n",
      "88 frames completed after 4202.529 s...\n",
      "95 frames completed after 4538.324 s...\n",
      "102 frames completed after 4873.516 s...\n",
      "109 frames completed after 5209.622 s...\n",
      "116 frames completed after 5545.473 s...\n",
      "123 frames completed after 5881.424 s...\n",
      "130 frames completed after 6219.046 s...\n",
      "137 frames completed after 6556.373 s...\n",
      "144 frames completed after 6893.463 s...\n",
      "151 frames completed after 7230.707 s...\n",
      "158 frames completed after 7573.896 s...\n",
      "165 frames completed after 7920.339 s...\n",
      "172 frames completed after 8259.371 s...\n",
      "179 frames completed after 8607.294 s...\n",
      "186 frames completed after 8952.165 s...\n",
      "193 frames completed after 9291.461 s...\n",
      "200 frames completed after 9630.081 s...\n",
      "All frames written to disk.\n",
      "\n",
      "Making animation...\n",
      "\n",
      "Loading source images...\n"
     ]
    },
    {
     "name": "stderr",
     "output_type": "stream",
     "text": [
      "WARNING:root:IMAGEIO FFMPEG_WRITER WARNING: input image is not divisible by macro_block_size=16, resizing from (504, 1080) to (512, 1088) to ensure video compatibility with most codecs and players. To prevent resizing, make your input image divisible by the macro_block_size or set the macro_block_size to None (risking incompatibility). You may also see a FFMPEG warning concerning speedloss due to data not being aligned.\n"
     ]
    },
    {
     "name": "stdout",
     "output_type": "stream",
     "text": [
      "Source images loaded.\n",
      "Generating movie and saving at \"sims/embedded/smln_0/ntwk-14388-1.mp4\"...\n",
      "Movie generated.\n"
     ]
    }
   ],
   "source": [
    "TRIAL = 14388\n",
    "RUN = 1\n",
    "SAVE_DIR = 'sims/embedded/smln_0'\n",
    "\n",
    "embedded_viz.animate(SAVE_DIR, TRIAL, RUN, pre, C, P, fig_size=(15, 7), report_every=300)"
   ]
  },
  {
   "cell_type": "code",
   "execution_count": null,
   "metadata": {
    "collapsed": true
   },
   "outputs": [
    {
     "name": "stdout",
     "output_type": "stream",
     "text": [
      "\n",
      "Running network simulations...\n",
      "Results: \n",
      "{'STABILITY': 0.33333333333333331, 'ANGLE': 0.16035315907706041, 'ACTIVITY': 2.2071948339364775, 'SPEED': 8.7040956871546982}\n",
      "\n",
      "Saving response file...\n",
      "\n",
      "Building frames...\n",
      "\n",
      "Using activity file \"sims/embedded/smln_0_rand/ntwk-14388-1.npy\".\n",
      "Frames will be saved with prefix \"sims/embedded/smln_0_rand/frames-14388-1/f-\".\n",
      "Loading network activity...\n",
      "Downsampling data from 2000.0 to 1000 fps...\n",
      "Data downsampled.\n",
      "Data loaded.\n"
     ]
    },
    {
     "name": "stderr",
     "output_type": "stream",
     "text": [
      "/Users/rkp/anaconda3/envs/py3/lib/python3.6/site-packages/scipy/sparse/compressed.py:774: SparseEfficiencyWarning: Changing the sparsity structure of a csc_matrix is expensive. lil_matrix is more efficient.\n",
      "  SparseEfficiencyWarning)\n"
     ]
    },
    {
     "name": "stdout",
     "output_type": "stream",
     "text": [
      "Generating and saving 200 frames...\n",
      "9 frames completed after 308.326 s...\n",
      "18 frames completed after 613.708 s...\n",
      "27 frames completed after 919.917 s...\n",
      "36 frames completed after 1226.287 s...\n",
      "45 frames completed after 1533.238 s...\n",
      "54 frames completed after 1839.184 s...\n",
      "63 frames completed after 2145.248 s...\n",
      "72 frames completed after 2451.266 s...\n",
      "81 frames completed after 2756.222 s...\n",
      "90 frames completed after 3061.734 s...\n",
      "99 frames completed after 3367.722 s...\n",
      "108 frames completed after 3672.882 s...\n",
      "117 frames completed after 3978.423 s...\n",
      "126 frames completed after 4284.470 s...\n",
      "135 frames completed after 4590.774 s...\n",
      "144 frames completed after 4896.942 s...\n",
      "153 frames completed after 5202.550 s...\n",
      "162 frames completed after 5520.225 s...\n",
      "171 frames completed after 5825.152 s...\n",
      "180 frames completed after 6130.423 s...\n",
      "189 frames completed after 6435.760 s...\n",
      "198 frames completed after 6740.834 s...\n",
      "All frames written to disk.\n",
      "\n",
      "Making animation...\n",
      "\n",
      "Loading source images...\n"
     ]
    },
    {
     "name": "stderr",
     "output_type": "stream",
     "text": [
      "WARNING:root:IMAGEIO FFMPEG_WRITER WARNING: input image is not divisible by macro_block_size=16, resizing from (360, 720) to (368, 720) to ensure video compatibility with most codecs and players. To prevent resizing, make your input image divisible by the macro_block_size or set the macro_block_size to None (risking incompatibility). You may also see a FFMPEG warning concerning speedloss due to data not being aligned.\n"
     ]
    },
    {
     "name": "stdout",
     "output_type": "stream",
     "text": [
      "Source images loaded.\n",
      "Generating movie and saving at \"sims/embedded/smln_0_rand/ntwk-14388-1.mp4\"...\n",
      "Movie generated.\n"
     ]
    }
   ],
   "source": [
    "TRIAL = 14388\n",
    "RUN = 1\n",
    "SAVE_DIR = 'sims/embedded/smln_0_rand'\n",
    "\n",
    "embedded_viz.animate(SAVE_DIR, TRIAL, RUN, pre, C, P, fig_size=(10, 5), positions='random', report_every=300)"
   ]
  }
 ],
 "metadata": {
  "kernelspec": {
   "display_name": "Python 3",
   "language": "python",
   "name": "python3"
  },
  "language_info": {
   "codemirror_mode": {
    "name": "ipython",
    "version": 3
   },
   "file_extension": ".py",
   "mimetype": "text/x-python",
   "name": "python",
   "nbconvert_exporter": "python",
   "pygments_lexer": "ipython3",
   "version": "3.6.1"
  }
 },
 "nbformat": 4,
 "nbformat_minor": 2
}
