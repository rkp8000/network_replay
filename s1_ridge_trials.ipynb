{
 "cells": [
  {
   "cell_type": "markdown",
   "metadata": {},
   "source": [
    "This notebook serves as a control panel for simulations of network activity propagating along a ridge of CA3 PCs receiving EC input through potentiated EC->PC synapses."
   ]
  },
  {
   "cell_type": "code",
   "execution_count": 2,
   "metadata": {
    "collapsed": true
   },
   "outputs": [],
   "source": [
    "from search import ridge\n",
    "\n",
    "import PARAMETERS as P"
   ]
  },
  {
   "cell_type": "code",
   "execution_count": null,
   "metadata": {
    "collapsed": true
   },
   "outputs": [],
   "source": [
    "# Precompute initial voltage/NMDA-conductance distribution for varying EC parameters"
   ]
  },
  {
   "cell_type": "markdown",
   "metadata": {},
   "source": [
    "# Searcher control panel"
   ]
  },
  {
   "cell_type": "code",
   "execution_count": null,
   "metadata": {
    "collapsed": true
   },
   "outputs": [],
   "source": [
    "ridge.launch_searchers('sim_0.random', ridge.obj, P, 1)"
   ]
  },
  {
   "cell_type": "code",
   "execution_count": null,
   "metadata": {
    "collapsed": true
   },
   "outputs": [],
   "source": [
    "ridge.launch_searchers('sim_0.biased', ridge.obj, P, 1)"
   ]
  },
  {
   "cell_type": "markdown",
   "metadata": {},
   "source": [
    "# Viewer"
   ]
  },
  {
   "cell_type": "code",
   "execution_count": 11,
   "metadata": {
    "collapsed": true
   },
   "outputs": [],
   "source": [
    "# list active searchers"
   ]
  },
  {
   "cell_type": "code",
   "execution_count": 12,
   "metadata": {
    "collapsed": true
   },
   "outputs": [],
   "source": [
    "# show example trial"
   ]
  },
  {
   "cell_type": "code",
   "execution_count": 13,
   "metadata": {
    "collapsed": true
   },
   "outputs": [],
   "source": [
    "# construct embedding"
   ]
  },
  {
   "cell_type": "markdown",
   "metadata": {},
   "source": [
    "# Tests"
   ]
  },
  {
   "cell_type": "code",
   "execution_count": 1,
   "metadata": {
    "collapsed": true
   },
   "outputs": [],
   "source": [
    "%reset -f\n",
    "%matplotlib inline\n",
    "import matplotlib.pyplot as plt\n",
    "import numpy as np\n",
    "\n",
    "from plot import set_font_size"
   ]
  },
  {
   "cell_type": "markdown",
   "metadata": {},
   "source": [
    "### Unit tests of auxiliary functions"
   ]
  },
  {
   "cell_type": "markdown",
   "metadata": {},
   "source": [
    "##### Parameter conversions"
   ]
  },
  {
   "cell_type": "code",
   "execution_count": 2,
   "metadata": {},
   "outputs": [
    {
     "name": "stdout",
     "output_type": "stream",
     "text": [
      "Tests completed successfully.\n"
     ]
    }
   ],
   "source": [
    "from search.ridge import make_param_conversions\n",
    "\n",
    "class Cfg(object):\n",
    "    \n",
    "    P_RANGES = [\n",
    "        ('y', [1, 2, 1]),\n",
    "        ('z', [1, 2, 3]),\n",
    "        ('w', [5]),\n",
    "    ]\n",
    "\n",
    "cfg = Cfg()\n",
    "\n",
    "p_to_x, x_to_p = make_param_conversions(cfg)\n",
    "\n",
    "p = {'y': 1.25, 'z': 1.25, 'w': 7}\n",
    "x_correct = np.array([-0.25, -0.75, 0])\n",
    "\n",
    "np.testing.assert_array_almost_equal(p_to_x(p), x_correct)\n",
    "\n",
    "x = np.array([-0.25, -0.75, 0])\n",
    "p_correct = {'y': 1.25, 'z': 1.25, 'w': 5}\n",
    "\n",
    "np.testing.assert_equal(x_to_p(x), p_correct)\n",
    "\n",
    "print('Tests completed successfully.')"
   ]
  },
  {
   "cell_type": "markdown",
   "metadata": {},
   "source": [
    "##### Out-of-bounds correction"
   ]
  },
  {
   "cell_type": "code",
   "execution_count": 3,
   "metadata": {},
   "outputs": [
    {
     "name": "stdout",
     "output_type": "stream",
     "text": [
      "Tests completed successfully.\n"
     ]
    }
   ],
   "source": [
    "from search.ridge import fix_x_if_out_of_bounds\n",
    "\n",
    "class Cfg(object):\n",
    "    \n",
    "    P_RANGES = [\n",
    "        ('y', [1, 2, 1]),\n",
    "        ('z', [10, 20, 3]),\n",
    "        ('w', [5]),\n",
    "    ]\n",
    "\n",
    "cfg = Cfg()\n",
    "\n",
    "xs_raw = np.array([\n",
    "    [-.25, 1.2, 0],\n",
    "    [.75, -.12, 0],\n",
    "    [.1, -1.7, 0],\n",
    "    [-.6, 1.8, 0],\n",
    "    [-.25, 1.2, 1],\n",
    "    [-.6, 1.8, -4],\n",
    "])\n",
    "\n",
    "xs_fixed_correct = np.array([\n",
    "    [-.25, 1.2, 0],\n",
    "    [.5, -.12, 0],\n",
    "    [.1, -1.5, 0],\n",
    "    [-.5, 1.5, 0],\n",
    "    [-.25, 1.2, 0],\n",
    "    [-.5, 1.5, 0],\n",
    "])\n",
    "\n",
    "xs_fixed = np.array([fix_x_if_out_of_bounds(cfg, x) for x in xs_raw])\n",
    "\n",
    "np.testing.assert_array_almost_equal(xs_fixed, xs_fixed_correct)\n",
    "\n",
    "print('Tests completed successfully.')"
   ]
  },
  {
   "cell_type": "markdown",
   "metadata": {},
   "source": [
    "##### Random parameter sampling"
   ]
  },
  {
   "cell_type": "code",
   "execution_count": 4,
   "metadata": {},
   "outputs": [
    {
     "data": {
      "image/png": "[encoded data removed]",
      "text/plain": [
       "<matplotlib.figure.Figure at 0x10cfa0e48>"
      ]
     },
     "metadata": {},
     "output_type": "display_data"
    }
   ],
   "source": [
    "from search.ridge import sample_x_rand\n",
    "\n",
    "class Cfg(object):\n",
    "    \n",
    "    P_RANGES = [\n",
    "        ('A', [1, 2, 4]),\n",
    "        ('B', [1, 2, 1]),\n",
    "    ]\n",
    "    SGM_RAND = 0.3\n",
    "    \n",
    "cfg = Cfg()\n",
    "\n",
    "xs = np.array([sample_x_rand(cfg) for _ in range(10000)])\n",
    "\n",
    "fig, axs = plt.subplots(2, 1, figsize=(12, 6), tight_layout=True)\n",
    "\n",
    "axs[0].scatter(xs[:, 0], xs[:, 1], s=5, c='k', lw=0)\n",
    "axs[1].hist2d(xs[:, 0], xs[:, 1], bins=(40, 10), cmap='hot')\n",
    "\n",
    "for ax in axs:\n",
    "    ax.set_xlim(-2.2, 2.2)\n",
    "    ax.set_ylim(-.7, .7)\n",
    "    ax.set_xlabel('x_A')\n",
    "    ax.set_ylabel('x_B')\n",
    "    set_font_size(ax, 16)"
   ]
  },
  {
   "cell_type": "markdown",
   "metadata": {},
   "source": [
    "Test passed if scatter and histogram are confined to rectangle (-2, 2, -.5, .5) and have roughly Gaussian shape, with distribution stretched to match rectangle dimensions."
   ]
  },
  {
   "cell_type": "markdown",
   "metadata": {},
   "source": [
    "##### Sampling from previous parameter sets\n",
    "\n",
    "Here we generate 50 result sets where the activity (k) is very close to k_targ, but the speed (s) is far from s_targ, and 50 result sets where s is very close to s_targ, but k is far from k_targ. If our code works correctly, sampling when activity is valued (B_PREV_K >> B_PREV_S) should yield samples from the first 50 (black hist below), and sampling when speed is valued (B_PREV_S >> B_PREV_K) should yield samples from the second 50 (blue hist below)."
   ]
  },
  {
   "cell_type": "code",
   "execution_count": 5,
   "metadata": {},
   "outputs": [
    {
     "data": {
      "image/png": "[encoded data removed]",
      "text/plain": [
       "<matplotlib.figure.Figure at 0x10bd640b8>"
      ]
     },
     "metadata": {},
     "output_type": "display_data"
    }
   ],
   "source": [
    "from search.ridge import _sample_x_prev\n",
    "\n",
    "class Cfg(object):\n",
    "    \n",
    "    K_TARG = 10\n",
    "    S_TARG = 20\n",
    "    \n",
    "    ETA_K = .5\n",
    "    ETA_S = .5\n",
    "    \n",
    "    A_PREV = 3\n",
    "    B_PREV_Y = 0\n",
    "    B_PREV_K = None\n",
    "    B_PREV_S = None\n",
    "    \n",
    "    @property\n",
    "    def B_PREV_SUM(self): return self.B_PREV_Y + self.B_PREV_K + self.B_PREV_S\n",
    "    \n",
    "# generate result set where half of points are close to K_TARG and half are close to S_TARG\n",
    "rslts = [\n",
    "    # samples near K_TARG\n",
    "    {\n",
    "        'PROPAGATION': 1,\n",
    "        'ACTIVITY': 10 + np.random.normal(0, .05),\n",
    "        'SPEED': 10 + np.random.normal(0, 0.05)\n",
    "    } for _ in range(50)\n",
    "] + [\n",
    "    # samples near S_TARG\n",
    "    {\n",
    "        'PROPAGATION': 1,\n",
    "        'ACTIVITY': 20 + np.random.normal(0, .05),\n",
    "        'SPEED': 20 + np.random.normal(0, 0.05)\n",
    "    } for _ in range(50)\n",
    "]\n",
    "\n",
    "# corresponding mock parameter set\n",
    "ps = range(len(rslts))\n",
    "\n",
    "# build two configs, one weighting k heavily, one weighting s heavily\n",
    "cfg_k = Cfg()\n",
    "cfg_k.B_PREV_K = 1\n",
    "cfg_k.B_PREV_S = 0\n",
    "\n",
    "cfg_s = Cfg()\n",
    "cfg_s.B_PREV_K = 0\n",
    "cfg_s.B_PREV_S = 1\n",
    "\n",
    "# take samples\n",
    "idxs_k = [_sample_x_prev(cfg_k, ps, rslts)[1] for _ in range(5000)]\n",
    "idxs_s = [_sample_x_prev(cfg_s, ps, rslts)[1] for _ in range(5000)]\n",
    "\n",
    "# plot distributions\n",
    "fig, ax = plt.subplots(1, 1, figsize=(7, 3), tight_layout=True)\n",
    "ax.hist(idxs_k, bins=np.linspace(-.5, 99.5, 11), color='k', lw=1, alpha=0.5)\n",
    "ax.hist(idxs_s, bins=np.linspace(-.5, 99.5, 11), color='b', lw=1, alpha=0.5)\n",
    "\n",
    "ax.legend(['activity', 'speed'], ncol=2)\n",
    "ax.set_xlim(-.5, 99.5)\n",
    "ax.set_ylim(0, 2000)\n",
    "ax.set_xlabel('idx')\n",
    "ax.set_ylabel('# samples')\n",
    "\n",
    "set_font_size(ax, 16)"
   ]
  },
  {
   "cell_type": "markdown",
   "metadata": {},
   "source": [
    "Test passed if gray hist is uniform and left of 50 (activity-weighted samples) and blue hist is uniform and right of 50 (speed-weighted samples), and if there is small dark blue strip on bottom (overlap from random sampling)."
   ]
  },
  {
   "cell_type": "markdown",
   "metadata": {},
   "source": [
    "##### Generating logical search steps\n",
    "\n",
    "To test this we generate 4 previous xs, distributed on the corners of the unit square. We then ensure that the derived optimal directions (phi_mean) end up in the correct quadrants when different result sets and config files are used."
   ]
  },
  {
   "cell_type": "code",
   "execution_count": 6,
   "metadata": {},
   "outputs": [
    {
     "name": "stdout",
     "output_type": "stream",
     "text": [
      "Tests completed successfully.\n"
     ]
    }
   ],
   "source": [
    "from search.ridge import compute_phi_mean\n",
    "\n",
    "class Cfg():\n",
    "    \n",
    "    L_PHI = 5\n",
    "    \n",
    "    K_TARG = 10\n",
    "    S_TARG = 20\n",
    "    \n",
    "    ETA_K = .5\n",
    "    ETA_S = .5\n",
    "    \n",
    "    A_PHI = 3\n",
    "    B_PHI_Y = 0\n",
    "    B_PHI_K = None\n",
    "    B_PHI_S = None\n",
    "    \n",
    "    @property\n",
    "    def B_PHI_SUM(self): return self.B_PHI_Y + self.B_PHI_K + self.B_PHI_S\n",
    "\n",
    "xs = np.array([[1, 1], [-1, 1], [-1, -1], [1, -1]])\n",
    "\n",
    "# activity-accurate on top, speed-accurate on bottom\n",
    "rslts = [\n",
    "    {'PROPAGATION': 1, 'ACTIVITY': 9.5, 'SPEED': 9.9},\n",
    "    {'PROPAGATION': 1, 'ACTIVITY': 10.1, 'SPEED': 10.2},\n",
    "    {'PROPAGATION': 1, 'ACTIVITY': 20.1, 'SPEED': 19.1},\n",
    "    {'PROPAGATION': 1, 'ACTIVITY': 19.9, 'SPEED': 20.2},\n",
    "]\n",
    "\n",
    "# cfg weighting activity-accuracy\n",
    "cfg_k = Cfg()\n",
    "cfg_k.B_PHI_K = 10\n",
    "cfg_k.B_PHI_S = 0\n",
    "\n",
    "phi_mean = compute_phi_mean(cfg_k, xs, rslts)\n",
    "sgns = np.sign(phi_mean)\n",
    "sgns_correct = np.array([-1, 1])\n",
    "\n",
    "np.testing.assert_almost_equal(Cfg.L_PHI, np.linalg.norm(phi_mean))\n",
    "np.testing.assert_array_equal(sgns, sgns_correct)\n",
    "\n",
    "# cfg weighting speed-accuracy\n",
    "cfg_s = Cfg()\n",
    "cfg_s.B_PHI_K = 0\n",
    "cfg_s.B_PHI_S = 10\n",
    "\n",
    "phi_mean = compute_phi_mean(cfg_s, xs, rslts)\n",
    "sgns = np.sign(phi_mean)\n",
    "sgns_correct = np.array([1, -1])\n",
    "\n",
    "np.testing.assert_almost_equal(Cfg.L_PHI, np.linalg.norm(phi_mean))\n",
    "np.testing.assert_array_equal(sgns, sgns_correct)\n",
    "\n",
    "# test that phi_mean is directly down when bottom two xs have equal speeds\n",
    "rslts = [\n",
    "    {'PROPAGATION': 1, 'ACTIVITY': 9.5, 'SPEED': 9.9},\n",
    "    {'PROPAGATION': 1, 'ACTIVITY': 10.1, 'SPEED': 10.2},\n",
    "    {'PROPAGATION': 1, 'ACTIVITY': 10.2, 'SPEED': 19.1},\n",
    "    {'PROPAGATION': 1, 'ACTIVITY': 10.1, 'SPEED': 19.1},\n",
    "]\n",
    "\n",
    "phi_mean = compute_phi_mean(cfg_s, xs, rslts)\n",
    "np.testing.assert_almost_equal(phi_mean[0], 0)\n",
    "np.testing.assert_almost_equal(phi_mean[1], -Cfg.L_PHI)\n",
    "\n",
    "print('Tests completed successfully.')"
   ]
  },
  {
   "cell_type": "markdown",
   "metadata": {},
   "source": [
    "### Unit tests of measurement functions"
   ]
  },
  {
   "cell_type": "markdown",
   "metadata": {},
   "source": [
    "### Integration test with mock objective function"
   ]
  },
  {
   "cell_type": "code",
   "execution_count": null,
   "metadata": {
    "collapsed": true
   },
   "outputs": [],
   "source": [
    "def test_obj(p, seed):\n",
    "    \"\"\"Test objective function.\"\"\"\n",
    "    return {'PROPAGATION': 0, 'ACTIVITY': None, 'SPEED': None}"
   ]
  },
  {
   "cell_type": "code",
   "execution_count": null,
   "metadata": {
    "collapsed": true
   },
   "outputs": [],
   "source": [
    "ridge.search('test.random', ridge.obj, P)"
   ]
  }
 ],
 "metadata": {
  "kernelspec": {
   "display_name": "Python 3",
   "language": "python",
   "name": "python3"
  },
  "language_info": {
   "codemirror_mode": {
    "name": "ipython",
    "version": 3
   },
   "file_extension": ".py",
   "mimetype": "text/x-python",
   "name": "python",
   "nbconvert_exporter": "python",
   "pygments_lexer": "ipython3",
   "version": "3.6.1"
  }
 },
 "nbformat": 4,
 "nbformat_minor": 2
}
