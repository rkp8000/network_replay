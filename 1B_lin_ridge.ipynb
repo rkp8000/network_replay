{
 "cells": [
  {
   "cell_type": "markdown",
   "metadata": {},
   "source": [
    "# Full linear ridge simulations"
   ]
  },
  {
   "cell_type": "code",
   "execution_count": null,
   "metadata": {
    "collapsed": true
   },
   "outputs": [],
   "source": [
    "%matplotlib inline\n",
    "import matplotlib.pyplot as plt\n",
    "\n",
    "import aux\n",
    "from db.d_models import LinRidgeTrial as T\n",
    "from lin_ridge.viz import select_trials\n",
    "from search import full\n",
    "from search import full_global as C\n",
    "\n",
    "import PARAMETERS as P\n",
    "\n",
    "\n",
    "N_REPEATS = 3\n",
    "FIG_SIZE = (15, N_REPEATS * 5)"
   ]
  },
  {
   "cell_type": "code",
   "execution_count": null,
   "metadata": {
    "collapsed": true
   },
   "outputs": [],
   "source": [
    "# load pre-computed files\n",
    "pre = {\n",
    "    'w_n_pc_ec_vs_dist': aux.load(C.PATH_W_N_PC_EC_VS_DIST),\n",
    "    'v_g_n_vs_w_n_pc_ec_fr_ec': aux.load(C.PATH_V_G_N_VS_W_N_PC_EC_FR_EC)\n",
    "}"
   ]
  },
  {
   "cell_type": "markdown",
   "metadata": {},
   "source": [
    "Select replay-only trials we want to run full smlns for."
   ]
  },
  {
   "cell_type": "code",
   "execution_count": null,
   "metadata": {
    "collapsed": true
   },
   "outputs": [],
   "source": [
    "trials = select_trials(smln_id=1, filt=[T.stability > 0.5, speed < 10], lmt=2)\n",
    "trials"
   ]
  },
  {
   "cell_type": "markdown",
   "metadata": {},
   "source": [
    "Run full smlns."
   ]
  },
  {
   "cell_type": "code",
   "execution_count": null,
   "metadata": {
    "collapsed": true
   },
   "outputs": [],
   "source": [
    "commit = input(\n",
    "    'Please commit relevant files and enter commit id (or \"q\" to quit): ')\n",
    "\n",
    "if commit.lower() == 'q':\n",
    "    raise KeyboardInterrupt('Execution halted by user.')\n",
    "\n",
    "for trial_id in trials['id']:\n",
    "    \n",
    "    print('Trial {}:'.format(trial_id))\n",
    "    \n",
    "    fig, axs = plt.subplots(1, N_REPEATS, figsize=FIG_SIZE, tight_layout=True)\n",
    "    \n",
    "    for ctr, ax in enumerate(axs):\n",
    "        print('    repeat {}...'.format(ctr+1))\n",
    "        \n",
    "        seed = np.random.randint(0, C.MAX_SEED)\n",
    "        rsp, p = full.run_smln(trial_id, T, pre, C, P, save=True, seed=seed, commit=commit)\n",
    "        \n",
    "        # make raster plot\n",
    "        ax = raster(ax, rsp.ts, rsp.spks, rsp.pfcs, rsp.cell_types, rsp.p, C)\n",
    "        \n",
    "        ax.set_title('Trial {}: Repeat {}'.format(trial_id, ctr+1))"
   ]
  }
 ],
 "metadata": {
  "kernelspec": {
   "display_name": "Python 3",
   "language": "python",
   "name": "python3"
  },
  "language_info": {
   "codemirror_mode": {
    "name": "ipython",
    "version": 3
   },
   "file_extension": ".py",
   "mimetype": "text/x-python",
   "name": "python",
   "nbconvert_exporter": "python",
   "pygments_lexer": "ipython3",
   "version": "3.6.3"
  }
 },
 "nbformat": 4,
 "nbformat_minor": 2
}
