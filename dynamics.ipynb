{
 "cells": [
  {
   "cell_type": "markdown",
   "metadata": {},
   "source": [
    "# Membrane potential\n",
    "\n",
    "We use leaky integrate-and-fire neurons with conductance-based synapses (see Section 13.6.2 of Gerstner, Kistler, Naud, and Paninski (http://neuronaldynamics.epfl.ch/index.html)).\n",
    "\n",
    "The $i$-th neuron's membrane voltage $V^i(t)$ is given by:\n",
    "\n",
    "$\\tau_m\\cfrac{dV^i}{dt} = -(V^i - E_L) - g^i_E(t)(V^i - E_E) - g^i_I(t)(V^i - E_I) + g^i_{AHP}(t)(V^i - E_{AHP})$\n",
    "\n",
    "where $\\tau_m$ is the membrane time constant, $E_L$ is the leak conductance, $g^i_E$ and $E_E$ the excitatory conductance and reversal potential, respectively, $g^i_I$ and $E_I$ the inhibitory conductance and reversal potential, and $g^i_{AHP}$ and $E_{AHP}$ the afterhyperpolarization (K+) conductance and reversal potential, with conductances defined relative to the leak conductance.\n",
    "\n",
    "When the voltage of neuron $i$ crosses the threshold $V_{th}^i$ it spikes and is reset to $V_r^i$ for $\\tau_{rp}^i$ seconds."
   ]
  },
  {
   "cell_type": "markdown",
   "metadata": {},
   "source": [
    "## Associated model params\n",
    "\n",
    "$\\tau_m^{PC}$\n",
    "\n",
    "$E_L^{PC}$\n",
    "\n",
    "$V_{th}^{PC}$\n",
    "\n",
    "$V_r^{PC}$\n",
    "\n",
    "$\\tau_{rp}^{PC}$\n",
    "\n",
    "\n",
    "$\\tau_m^{INH}$\n",
    "\n",
    "$E_L^{INH}$\n",
    "\n",
    "$V_{th}^{INH}$\n",
    "\n",
    "$V_r^{INH}$\n",
    "\n",
    "$\\tau_{rp}^{INH}$\n",
    "\n",
    "\n",
    "$E_E$\n",
    "\n",
    "$E_I$\n",
    "\n",
    "$E_{AHP}$"
   ]
  },
  {
   "cell_type": "markdown",
   "metadata": {},
   "source": [
    "# Synaptic conductances\n",
    "\n",
    "The synaptic conductances for the $i$-th cell are given by:\n",
    "\n",
    "$g^i_{SYN}(t) = \\sum\\limits_j w_{ij} \\sum\\limits_{k(j)} h_{SYN}(t - t^{k(j)})$\n",
    "\n",
    "where $g^i_{SYN} \\in \\{g^i_A, g^i_N, g^i_G\\}$, $j$ indexes upstream neurons, $w_{ij}$ is the synaptic strength from neuron $j$ onto neuron $i$, $k(j)$ is the $k$-th spike time of upstream neuron $j$, and $h_{SYN}(t)$ is the synaptic activation function for synapse type $SYN$ (in this case a one-sided exponential with time constant $\\tau_{SYN}$). These conductances are relative to the leak conductance and have no units.\n",
    "\n",
    "In short, the synaptic conductance of neuron $i$ caused by neuron $j$'s spike train is a convolution of neuron $j$'s spike train (where each spike is a delta function) with synaptic activation function $h(t)$ (e.g., a 1-sided decaying exponential), scaled by the synaptic weight $w_{ij}$."
   ]
  },
  {
   "cell_type": "markdown",
   "metadata": {},
   "source": [
    "## Associated model params\n",
    "\n",
    "$\\tau_E$\n",
    "\n",
    "$\\tau_I$"
   ]
  },
  {
   "cell_type": "markdown",
   "metadata": {},
   "source": [
    "# Afterhyperpolarization\n",
    "\n",
    "The afterhyperpolarization condutance is given by:\n",
    "\n",
    "$g^i_{AHP}(t) = w_{AHP}\\sum\\limits_{k(i)}h_{AHP}(t - t^{k(i)})$\n",
    "\n",
    "where $k(i)$ indexes the $i$th neuron's $k$th spike and $h_{AHP}$ is also a one-sided exponential with time constant $\\tau_{AHP}$."
   ]
  },
  {
   "cell_type": "markdown",
   "metadata": {},
   "source": [
    "## Associated model param\n",
    "$\\tau_{AHP}$"
   ]
  },
  {
   "cell_type": "markdown",
   "metadata": {},
   "source": [
    "# Place-tuning\n",
    "\n",
    "Each CA3 cell is associated with a specific place field, defined by a center $\\mathbf{x}_i$ and a width $\\lambda^{PL}$. When the rat is inside the cell's place field, the rate $r^{PL}_i$ of a specific set of synaptic inputs to the cell increases, as given by\n",
    "\n",
    "$r^{PL}_i(\\mathbf{x}) = r^{PL}_{max} \\exp\\left[-\\cfrac{\\|\\mathbf{x} - \\mathbf{x}_i\\|^2}{2(\\lambda^{PL})^2}\\right].$\n",
    "\n",
    "The actual synaptic input train is sampled from a Poisson process parameterized by this time-varying rate function.\n",
    "\n",
    "Each cell's place field center is sampled from a uniform distribution over the environment accessible to the rat."
   ]
  },
  {
   "cell_type": "markdown",
   "metadata": {},
   "source": [
    "## Associated model parameters\n",
    "\n",
    "$\\lambda^{PL}$\n",
    "\n",
    "$r_{max}^{PL}$\n",
    "\n",
    "$\\bar{w}_E^{PC, PL}$\n",
    "\n",
    "$\\sigma_E^{PC, PL}$\n",
    "\n",
    "$s_{th}$\n",
    "\n",
    "$s_s$\n",
    "\n",
    "$s_o$"
   ]
  },
  {
   "cell_type": "markdown",
   "metadata": {},
   "source": [
    "# STATE --> PC connectivity"
   ]
  },
  {
   "cell_type": "markdown",
   "metadata": {},
   "source": [
    "All state --> PC connectivity is purely excitatory."
   ]
  },
  {
   "cell_type": "markdown",
   "metadata": {},
   "source": [
    "## Associated model params"
   ]
  },
  {
   "cell_type": "markdown",
   "metadata": {},
   "source": [
    "$\\bar{w}_{E,init}^{PC, ST}$\n",
    "\n",
    "$\\sigma_{E,init}^{PC, ST}$"
   ]
  },
  {
   "cell_type": "markdown",
   "metadata": {},
   "source": [
    "# EC->CA3-PC activity-dependent plasticity\n",
    "\n",
    "Hyun (2013, 2015) showed that a 10 Hz spike train in a CA3 PC lasting 1-2 s, elicited either by direct current injection or activation of upstream mossy fibers, was sufficient to almost double the size of EC->CA3 EPSPs.\n",
    "\n",
    "We model this activity-dependent synaptic weight change in the $i$-th neuron by introducing an auxiliary synaptic variable $c_i$ that effectively counts spikes over a short window of time:\n",
    "\n",
    "$c_i(t) = \\sum\\limits_{k(i)} \\alpha(t - t^{k(i)})$\n",
    "\n",
    "where $t^{k(i)}$ is the $i$-th neuron's $k$-th spike time, and $\\alpha$ is a one-sided exponential with timescale $\\tau_c$.\n",
    "\n",
    "The $c_i$-dependent change in $w_E^{PC,ST}$, which we abbreviate to $w_i$ here, is given by:\n",
    "\n",
    "$\\tau_w\\cfrac{dw_i}{dt} = z(c_i)(a_pw_{i,init} - w_i)$\n",
    "\n",
    "where $w_{i, init}$ is the initial weight from STATE to neuron $i$, $a_p$ is the plasticity amplification factor, governing the maximum value $w_i$ can reach, and with $z(c)$ defined as a sigmoidal nonlinearity centered at $c^*$ and with a slope of $\\beta$, i.e.,\n",
    "\n",
    "$z(c) = \\cfrac{1}{1 + \\exp[-(c - c^*)/\\beta]}.$\n",
    "\n",
    "In other words, when rapid spiking causes $c_i$ to exceed a threshold $c^*$, $w_i$ increases towards $w_{max}$ with a timescale $\\tau_c$."
   ]
  },
  {
   "cell_type": "markdown",
   "metadata": {},
   "source": [
    "## Associated model params\n",
    "\n",
    "$\\tau_c$\n",
    "\n",
    "$\\tau_w$\n",
    "\n",
    "$a_p$\n",
    "\n",
    "$c^*$\n",
    "\n",
    "$\\beta$"
   ]
  },
  {
   "cell_type": "markdown",
   "metadata": {},
   "source": [
    "# PC->PC connectivity"
   ]
  },
  {
   "cell_type": "markdown",
   "metadata": {},
   "source": [
    "We model recurrent connectivity among CA3 PCs by assuming that cells with similar place-tuning have a higher probability of connecting. Specifically, the probability of a candidate targ PC receiving a connection from a src PC at a distance $d$ away is given by:\n",
    "\n",
    "$P(d) = \\min(1, Z^{PC, PC}\\exp[-d/\\lambda^{PC, PC}])$\n",
    "\n",
    "with $\\lambda^{PC, PC} > 0$."
   ]
  },
  {
   "cell_type": "markdown",
   "metadata": {},
   "source": [
    "## Associated model params\n",
    "\n",
    "$N_{PC}$\n",
    "\n",
    "$\\lambda^{PC, PC}$\n",
    "\n",
    "$Z^{PC, PC}$\n",
    "\n",
    "$\\bar{w}_E^{PC, PC}$\n",
    "\n",
    "$\\sigma_E^{PC, PC}$"
   ]
  },
  {
   "cell_type": "markdown",
   "metadata": {},
   "source": [
    "# PC->INH connectivity\n",
    "\n",
    "PCs send excitatory projections to INH neurons with similar place fields, according to:\n",
    "\n",
    "$P(d) = \\min(1, Z^{INH, PC}\\exp[-d/\\lambda^{INH, PC}])$."
   ]
  },
  {
   "cell_type": "markdown",
   "metadata": {},
   "source": [
    "## Associated model params\n",
    "\n",
    "$N_{INH}$\n",
    "\n",
    "$\\lambda^{INH, PC}$\n",
    "\n",
    "$Z^{INH, PC}$\n",
    "\n",
    "$\\bar{w}_E^{INH, PC}$\n",
    "\n",
    "$\\sigma_E^{INH, PC}$"
   ]
  },
  {
   "cell_type": "markdown",
   "metadata": {},
   "source": [
    "# INH->PC connectivity\n",
    "\n",
    "INHs send inhibitory projections back to PCs in the surround, but not center of their own place fields, according to:\n",
    "\n",
    "$P(d) = \\max(0, \\min(1, Z_s^{PC, INH}\\exp[-d/\\lambda_s^{PC, INH}] - Z_c^{PC, INH}\\exp[-d/\\lambda_c^{PC, INH}]))$"
   ]
  },
  {
   "cell_type": "markdown",
   "metadata": {},
   "source": [
    "## Associated model params\n",
    "\n",
    "$\\lambda_s^{PC, INH}$\n",
    "\n",
    "$Z_s^{PC, INH}$\n",
    "\n",
    "$\\lambda_c^{PC, INH}$\n",
    "\n",
    "$Z_c^{PC, INH}$\n",
    "\n",
    "$\\bar{w}_I^{PC, INH}$\n",
    "\n",
    "$\\sigma_I^{PC, INH}$"
   ]
  },
  {
   "cell_type": "markdown",
   "metadata": {},
   "source": [
    "# Replay trigger"
   ]
  },
  {
   "cell_type": "markdown",
   "metadata": {},
   "source": [
    "To trigger replay we inject a square current pulse into a set of PCs near the simulated animal's final location. In particular, we stimulate all PCs within a radius $r_{tr}$ of latent location $(x_{tr}, y_{tr})$."
   ]
  },
  {
   "cell_type": "markdown",
   "metadata": {},
   "source": [
    "## Associated model params\n",
    "\n",
    "$\\Delta T_{tr}$\n",
    "\n",
    "$a_{tr}$\n",
    "\n",
    "$x_{tr}$\n",
    "\n",
    "$y_{tr}$\n",
    "\n",
    "$r_{tr}$"
   ]
  }
 ],
 "metadata": {
  "kernelspec": {
   "display_name": "Python 3",
   "language": "python",
   "name": "python3"
  },
  "language_info": {
   "codemirror_mode": {
    "name": "ipython",
    "version": 3
   },
   "file_extension": ".py",
   "mimetype": "text/x-python",
   "name": "python",
   "nbconvert_exporter": "python",
   "pygments_lexer": "ipython3",
   "version": "3.5.2"
  }
 },
 "nbformat": 4,
 "nbformat_minor": 2
}
