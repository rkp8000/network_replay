{
 "cells": [
  {
   "cell_type": "markdown",
   "metadata": {},
   "source": [
    "# Membrane potential\n",
    "\n",
    "We use leaky integrate-and-fire neurons with conductance-based synapses (see Section 13.6.2 of Gerstner, Kistler, Naud, and Paninski (http://neuronaldynamics.epfl.ch/index.html)).\n",
    "\n",
    "The $i$-th neuron's membrane voltage $V^i(t)$ is given by:\n",
    "\n",
    "$\\tau_m\\cfrac{dV^i}{dt} = -(V^i - E_L) - g^i_E(t)(V^i - E_E) - g^i_I(t)(V^i - E_I) + g^i_{AHP}(t)(V^i - E_{AHP})$\n",
    "\n",
    "where $\\tau_m$ is the membrane time constant, $E_L$ is the leak conductance, $g^i_E$ and $E_E$ the excitatory conductance and reversal potential, respectively, $g^i_I$ and $E_I$ the inhibitory conductance and reversal potential, and $g^i_{AHP}$ and $E_{AHP}$ the afterhyperpolarization (K+) conductance and reversal potential, with conductances defined relative to the leak conductance.\n",
    "\n",
    "When the voltage of neuron $i$ crosses the threshold $V_{th}^i$ it spikes and is reset to $V_r^i$ for $\\tau_{rp}^i$ seconds."
   ]
  },
  {
   "cell_type": "markdown",
   "metadata": {},
   "source": [
    "## Associated model params\n",
    "\n",
    "$\\tau_m^{PC}$ (T_M_PC): PC membrane time constant (F)\n",
    "\n",
    "$E_L^{PC}$ (E_L_PC): PC membrane leak potential (F)\n",
    "\n",
    "$V_{th}^{PC}$ (V_TH_PC): PC spike threshold (F)\n",
    "\n",
    "$V_r^{PC}$ (V_R_PC): PC reset potential (F)\n",
    "\n",
    "$\\tau_{rp}^{PC}$ (T_RP_PC): PC refractory period (Z)\n",
    "\n",
    "$E_{ahp}^{PC}$ (E_AHP_PC): PC afterhyperpolarization reversal potential (F)\n",
    "\n",
    "\n",
    "$\\tau_m^{INH}$ (T_M_INH): INH membrane time constant (F)\n",
    "\n",
    "$E_L^{INH}$ (E_L_INH): INH membrane leak potential (F)\n",
    "\n",
    "$V_{th}^{INH}$ (V_TH_INH): INH spike threshold (F)\n",
    "\n",
    "$V_r^{INH}$ (V_R_INH): INH reset potential (F)\n",
    "\n",
    "$\\tau_{rp}^{INH}$ (T_RP_INH): INH refractory period (F)\n",
    "\n",
    "$E_E$ (E_E): EXC synaptic reversal potential (F)\n",
    "\n",
    "$E_I$ (E_I): INH synaptic reversal potential (F)"
   ]
  },
  {
   "cell_type": "markdown",
   "metadata": {},
   "source": [
    "# Synaptic conductances\n",
    "\n",
    "The synaptic conductances for the $i$-th cell are given by:\n",
    "\n",
    "$g^i_{SYN}(t) = \\sum\\limits_j w_{ij} \\sum\\limits_{k(j)} h_{SYN}(t - t^{k(j)})$\n",
    "\n",
    "where $g^i_{SYN} \\in \\{g^i_A, g^i_N, g^i_G\\}$, $j$ indexes upstream neurons, $w_{ij}$ is the synaptic strength from neuron $j$ onto neuron $i$, $k(j)$ is the $k$-th spike time of upstream neuron $j$, and $h_{SYN}(t)$ is the synaptic activation function for synapse type $SYN$ (in this case a one-sided exponential with time constant $\\tau_{SYN}$). These conductances are relative to the leak conductance and have no units.\n",
    "\n",
    "In short, the synaptic conductance of neuron $i$ caused by neuron $j$'s spike train is a convolution of neuron $j$'s spike train (where each spike is a delta function) with synaptic activation function $h(t)$ (e.g., a 1-sided decaying exponential), scaled by the synaptic weight $w_{ij}$."
   ]
  },
  {
   "cell_type": "markdown",
   "metadata": {},
   "source": [
    "## Associated model params\n",
    "\n",
    "$\\tau_E$ (T_E): EXC synaptic decay time constant (F)\n",
    "\n",
    "$\\tau_I$ (T_I): INH synaptic decay time constant (F)"
   ]
  },
  {
   "cell_type": "markdown",
   "metadata": {},
   "source": [
    "# Afterhyperpolarization\n",
    "\n",
    "The afterhyperpolarization condutance is given by:\n",
    "\n",
    "$g^i_{AHP}(t) = w_{AHP}\\sum\\limits_{k(i)}h_{AHP}(t - t^{k(i)})$\n",
    "\n",
    "where $k(i)$ indexes the $i$th neuron's $k$th spike and $h_{AHP}$ is also a one-sided exponential with time constant $\\tau_{AHP}$."
   ]
  },
  {
   "cell_type": "markdown",
   "metadata": {},
   "source": [
    "## Associated model params\n",
    "\n",
    "$\\tau_{AHP}^{PC}$ (T_AHP_PC): PC afterhyperpolarization decay time constant (F)\n",
    "\n",
    "$w_{AHP}^{PC}$ (W_AHP_PC): PC afterhyperpolarization weight (F)"
   ]
  },
  {
   "cell_type": "markdown",
   "metadata": {},
   "source": [
    "# Place-tuning\n",
    "\n",
    "Each CA3 cell is associated with a specific place field, defined by a center $\\mathbf{x}_i$ and a width $\\lambda^{PL}$. When the rat is inside the cell's place field, the rate $r^{PL}_i$ of a specific set of synaptic inputs to the cell increases, as given by\n",
    "\n",
    "$r^{PL}_i(\\mathbf{x}) = r^{PL}_{max} \\exp\\left[-\\cfrac{\\|\\mathbf{x} - \\mathbf{x}_i\\|^2}{2(\\lambda^{PL})^2}\\right]f(s)$\n",
    "\n",
    "where $f(s)$ represents the speed-dependent modulation and is given by \n",
    "\n",
    "$\\cfrac{1}{1 + \\exp(-(s - s_{th})/\\beta_s)}$\n",
    "\n",
    "with $s_{th}$ being the \"threshold\" speed, and $\\beta_s$ representing the steepness factor.\n",
    "\n",
    "The actual synaptic input train is sampled from a Poisson process parameterized by the time-varying rate $r^{PL}_i(\\mathbf{x})$.\n",
    "\n",
    "Each cell's place field center is sampled from a uniform distribution over the environment accessible to the rat."
   ]
  },
  {
   "cell_type": "markdown",
   "metadata": {},
   "source": [
    "## Associated model parameters\n",
    "\n",
    "$\\lambda^{PL}$ (L_PL): place-tuning length scale (Z)\n",
    "\n",
    "$r_{max}^{PL}$ (R_MAX): place-tuning max input rate (Z)\n",
    "\n",
    "$\\bar{w}_E^{PC, PL}$ (W_E_PC_PL): mean EXC PL->PC synaptic weight (V)\n",
    "\n",
    "$\\sigma_E^{PC, PL}$ (S_E_PC_PL): std EXC PL->PC synaptic weight (Z)\n",
    "\n",
    "$s_{th}$ (S_TH): threshold for speed modulation (Z)\n",
    "\n",
    "$\\beta_s$ (B_S): steepness factor for speed modulation (Z)"
   ]
  },
  {
   "cell_type": "markdown",
   "metadata": {},
   "source": [
    "# STATE --> PC connectivity"
   ]
  },
  {
   "cell_type": "markdown",
   "metadata": {},
   "source": [
    "All state --> PC connectivity is purely excitatory."
   ]
  },
  {
   "cell_type": "markdown",
   "metadata": {},
   "source": [
    "## Associated model params"
   ]
  },
  {
   "cell_type": "markdown",
   "metadata": {},
   "source": [
    "$\\bar{w}_{E,init}^{PC, ST}$ (W_E_INIT_PC_ST): mean initial EXC synaptic weight to PC from its associated ST input (V)\n",
    "\n",
    "$\\sigma_{E,init}^{PC, ST}$ (S_E_INIT_PC_ST): std initial EXC synaptic weight to PC from its associated ST input (Z)"
   ]
  },
  {
   "cell_type": "markdown",
   "metadata": {},
   "source": [
    "# STATE --> PC inputs"
   ]
  },
  {
   "cell_type": "markdown",
   "metadata": {},
   "source": [
    "PCs receive poisson spiking inputs from corresponding upstream STATE neurons. These occur at one rate during the sensory/traj epoch and at another rate during the replay epoch."
   ]
  },
  {
   "cell_type": "markdown",
   "metadata": {},
   "source": [
    "## Associated model params\n",
    "\n",
    "$r_{trj}^{PC,ST}$ (R_TRJ_PC_ST): ST-->PC input spk rate during traj/sensory epoch\n",
    "\n",
    "$r_{rpl}^{PC,ST}$ (R_RPL_PC_ST): ST-->PC input spk rate during replay epoch"
   ]
  },
  {
   "cell_type": "markdown",
   "metadata": {},
   "source": [
    "# STATE --> PC activity-dependent plasticity\n",
    "\n",
    "Hyun (2013, 2015) showed that a 10 Hz spike train in a CA3 PC lasting 1-2 s, elicited either by direct current injection or activation of upstream mossy fibers, was sufficient to almost double the size of EC->CA3 EPSPs.\n",
    "\n",
    "We model this activity-dependent synaptic weight change in the $i$-th neuron by introducing an auxiliary synaptic variable $c_i$ that effectively counts spikes over a short window of time:\n",
    "\n",
    "$c_i(t) = \\sum\\limits_{k(i)} \\alpha(t - t^{k(i)})$\n",
    "\n",
    "where $t^{k(i)}$ is the $i$-th neuron's $k$-th spike time, and $\\alpha$ is a one-sided exponential with timescale $\\tau_c$.\n",
    "\n",
    "The $c_i$-dependent change in $w_E^{PC,ST}$, which we abbreviate to $w_i$ here, is given by:\n",
    "\n",
    "$\\tau_w\\cfrac{dw_i}{dt} = z(c_i)(a_pw_{i,init} - w_i)$\n",
    "\n",
    "where $w_{i, init}$ is the initial weight from STATE to neuron $i$, $a_p$ is the plasticity amplification factor, governing the maximum value $w_i$ can reach, and with $z(c)$ defined as a sigmoidal nonlinearity centered at $c^*$ and with a slope of $\\beta_c$, i.e.,\n",
    "\n",
    "$z(c) = \\cfrac{1}{1 + \\exp[-(c - c^*)/\\beta_c]}.$\n",
    "\n",
    "In other words, when rapid spiking causes $c_i$ to exceed a threshold $c^*$, $w_i$ increases towards $w_{max}$ with a timescale $\\tau_c$."
   ]
  },
  {
   "cell_type": "markdown",
   "metadata": {},
   "source": [
    "## Associated model params\n",
    "\n",
    "$\\tau_c$ (T_C): spike-counter decay time constant (F)\n",
    "\n",
    "$\\tau_w$ (T_W): ST-->PC weight change time constant (F)\n",
    "\n",
    "$a_p$ (A_P): max amplification factor for ST-->PC EXC weight change (Z)\n",
    "\n",
    "$c^*$ (C_S): spike-count threshold to trigger weight change (F)\n",
    "\n",
    "$\\beta_c$ (B_C): spike-count steepness factor (F)"
   ]
  },
  {
   "cell_type": "markdown",
   "metadata": {},
   "source": [
    "# PC->PC connectivity"
   ]
  },
  {
   "cell_type": "markdown",
   "metadata": {},
   "source": [
    "We model recurrent connectivity among CA3 PCs by assuming that cells with similar place-tuning have a higher probability of connecting. Specifically, the probability of a candidate targ PC receiving a connection from a src PC at a distance $d$ away is given by:\n",
    "\n",
    "$P(d) = \\min(1, Z^{PC, PC}\\exp[-d/\\lambda^{PC, PC}])$\n",
    "\n",
    "with $\\lambda^{PC, PC} > 0$."
   ]
  },
  {
   "cell_type": "markdown",
   "metadata": {},
   "source": [
    "## Associated model params\n",
    "\n",
    "$N_{PC}$ (N_PC): num PCs in ntwk (Z)\n",
    "\n",
    "$\\lambda^{PC, PC}$ (L_PC_PC): PC-->PC connectivity length scale (V)\n",
    "\n",
    "$Z^{PC, PC}$ (Z_PC_PC): PC-->PC connectivity normalization factor (V)\n",
    "\n",
    "$\\bar{w}_E^{PC, PC}$ (W_E_PC_PC): mean PC-->PC synaptic weight (V)\n",
    "\n",
    "$\\sigma_E^{PC, PC}$ (S_E_PC_PC): std PC-->PC synaptic weight (Z)"
   ]
  },
  {
   "cell_type": "markdown",
   "metadata": {},
   "source": [
    "# PC->INH connectivity\n",
    "\n",
    "PCs send excitatory projections to INH neurons with similar place fields, according to:\n",
    "\n",
    "$P(d) = \\min(1, Z^{INH, PC}\\exp[-d/\\lambda^{INH, PC}])$."
   ]
  },
  {
   "cell_type": "markdown",
   "metadata": {},
   "source": [
    "## Associated model params\n",
    "\n",
    "$N_{INH}$ (N_INH): num INHs in ntwk (Z)\n",
    "\n",
    "$Z^{INH, PC}$ (Z_INH_PC): PC-->INH connectivity normalization factor (Z)\n",
    "\n",
    "$\\lambda^{INH, PC}$ (L_INH_PC): PC-->INH connectivity length scale (Z)\n",
    "\n",
    "$\\bar{w}_E^{INH, PC}$ (W_E_INH_PC): mean PC-->INH synaptic weight (Z)\n",
    "\n",
    "$\\sigma_E^{INH, PC}$ (S_E_INH_PC): std PC-->INH synaptic weight (Z)"
   ]
  },
  {
   "cell_type": "markdown",
   "metadata": {},
   "source": [
    "# INH->PC connectivity\n",
    "\n",
    "INHs send inhibitory projections back to PCs in the surround, but not center of their own place fields, according to:\n",
    "\n",
    "$P(d) = clip(Z_s^{PC, INH}\\exp[-d/\\lambda_s^{PC, INH}] - Z_c^{PC, INH}\\exp[-d/\\lambda_c^{PC, INH}], 0, 1)$"
   ]
  },
  {
   "cell_type": "markdown",
   "metadata": {},
   "source": [
    "## Associated model params\n",
    "\n",
    "$\\lambda_c^{PC, INH}$ (L_C_PC_INH): INH --> PC connectivity length scale for center (Z)\n",
    "\n",
    "$Z_c^{PC, INH}$ (Z_C_PC_INH): INH --> PC connectivity normalization factor for center (Z)\n",
    "\n",
    "$\\lambda_s^{PC, INH}$ (L_S_PC_INH): INH --> PC connectivity length scale for surround (Z)\n",
    "\n",
    "$Z_s^{PC, INH}$ (Z_S_PC_INH): INH --> PC connectivity normalization factor for surround (Z)\n",
    "\n",
    "$\\bar{w}_I^{PC, INH}$ (W_I_PC_INH): mean INH --> PC INH synaptic weight (Z)\n",
    "\n",
    "$\\sigma_I^{PC, INH}$ (S_I_PC_INH): std INH --> PC INH synaptic weight (Z)"
   ]
  },
  {
   "cell_type": "markdown",
   "metadata": {},
   "source": [
    "# Replay trigger"
   ]
  },
  {
   "cell_type": "markdown",
   "metadata": {},
   "source": [
    "To trigger replay we inject a square current pulse into a set of PCs near the simulated animal's final location. In particular, we stimulate all PCs within a radius $r_{tr}$ of latent location $(x_{tr}, y_{tr})$."
   ]
  },
  {
   "cell_type": "markdown",
   "metadata": {},
   "source": [
    "## Associated model params\n",
    "\n",
    "$\\Delta T_{tr}$ (D_T_TR): replay trigger duration (Z)\n",
    "\n",
    "$a_{tr}$ (A_TR): replay trigger amplitude (Z)\n",
    "\n",
    "$x_{tr}$ (X_TR): replay trigger x-center (Z)\n",
    "\n",
    "$y_{tr}$ (Y_TR): replay trigger y-center (Z)\n",
    "\n",
    "$r_{tr}$ (R_TR): replay trigger radius (V)"
   ]
  },
  {
   "cell_type": "markdown",
   "metadata": {},
   "source": [
    "# Final ST->PC weight approximation\n",
    "\n",
    "For computational efficiency some simulations involve approximating the ST->PC weight distribution expected to result from a trajectory through space.\n",
    "\n",
    "Specifically, we assume each ST->PC weight is scaled by a factor $f$ that depends on the PC's distance $d$ to the trajectory. For a given neuron:\n",
    "\n",
    "$f = (1-g) + a_pg$\n",
    "\n",
    "$g = (1 - |d/l_a|^k)_+$\n",
    "\n",
    "Here $l_a$ refers to the RADIUS of the approximation, and $k$ to the PITCH (or steepness) of the approximation.\n",
    "\n",
    "The resulting approximation is a ridge of increased ST->PC weights that follows the original trajectory."
   ]
  }
 ],
 "metadata": {
  "kernelspec": {
   "display_name": "Python 3",
   "language": "python",
   "name": "python3"
  },
  "language_info": {
   "codemirror_mode": {
    "name": "ipython",
    "version": 3
   },
   "file_extension": ".py",
   "mimetype": "text/x-python",
   "name": "python",
   "nbconvert_exporter": "python",
   "pygments_lexer": "ipython3",
   "version": "3.5.2"
  }
 },
 "nbformat": 4,
 "nbformat_minor": 2
}
