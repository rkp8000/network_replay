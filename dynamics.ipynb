{
 "cells": [
  {
   "cell_type": "markdown",
   "metadata": {},
   "source": [
    "# Membrane potential\n",
    "\n",
    "We use leaky integrate-and-fire neurons with conductance-based synapses (see Section 13.6.2 of Gerstner, Kistler, Naud, and Paninski (http://neuronaldynamics.epfl.ch/index.html)).\n",
    "\n",
    "The $i$-th neuron's membrane voltage $V_i(t)$ is given by:\n",
    "\n",
    "$\\tau_m\\cfrac{dV_i}{dt} = -(V_i - E_L) - g^i_A(t)(V_i - E_A) - g^i_{N}(t)(V_i - E_N) - g^i_G(t)(V_i - E_G) + I_{ext}(t)$\n",
    "\n",
    "where $\\tau_m$ is the membrane time constant, $E_L$ is the leak conductance, $g^i_A$ and $E_A$ the AMPA conductance and reversal potential, respectively, etc., with conductances defined relative to the leak conductance. $I_{ext}$ is any external current injected directly into the neuron."
   ]
  },
  {
   "cell_type": "markdown",
   "metadata": {},
   "source": [
    "# Synaptic conductances\n",
    "\n",
    "The synaptic conductances for the $i$-th cell are given by:\n",
    "\n",
    "$g^i_{SYN} = \\sum\\limits_j w_{ij} \\sum\\limits_{k(j)} h_{SYN}(t - t^{k(j)})$\n",
    "\n",
    "where $g^i_{SYN} \\in \\{g^i_A, g^i_N, g^i_G\\}$, $j$ indexes upstream neurons, $w_{ij}$ is the synaptic strength from neuron $j$ onto neuron $i$, $k(j)$ is the $k$-th spike time of upstream neuron $j$, and $h_{SYN}(t)$ is the synaptic activation function for synapse type $SYN$ (in this case a one-sided exponential). These conductances are relative to the leak conductance and have no units.\n",
    "\n",
    "In short, the synaptic conductance of neuron $i$ caused by neuron $j$'s spike train is a convolution of neuron $j$'s spike train (where each spike is a delta function) with synaptic activation function $h(t)$ (e.g., a 1-sided decaying exponential), scaled by the synaptic weight $w_{ij}$."
   ]
  },
  {
   "cell_type": "markdown",
   "metadata": {},
   "source": [
    "# Trajectory\n",
    "\n",
    "The rat's trajectory through the box is generated using a correlated random walk whose 2D velocity obeys the following dynamics:\n",
    "\n",
    "$\\tau_{trj}\\cfrac{d\\mathbf{v}}{dt} = -\\mathbf{v} + s_{trj}\\sqrt{\\cfrac{2\\tau_{trj}}{dt}}\\boldsymbol{\\eta}.$\n",
    "\n",
    "The resulting trajectory $\\mathbf{x}(t) = \\int_0^t \\mathbf{v} dt$ is confined within a specified box, elastically reflecting when the trajectory contacts any of the walls."
   ]
  },
  {
   "cell_type": "markdown",
   "metadata": {},
   "source": [
    "# Place-tuning\n",
    "\n",
    "Each CA3 cell is associated with a specific place field, defined by a center $\\mathbf{x}_i$ and a width $\\lambda^{PL}$. When the rat is inside the cell's place field, the rate $r^{PL}_i$ of a specific set of synaptic inputs to the cell increases, as given by\n",
    "\n",
    "$r^{PL}_i(\\mathbf{x}) = r^{PL}_{max} \\exp\\left[-\\cfrac{\\|\\mathbf{x} - \\mathbf{x}_i\\|^2}{2(\\lambda^{PL})^2}\\right].$\n",
    "\n",
    "The actual synaptic input train is sampled from a Poisson process parameterized by this time-varying rate function.\n",
    "\n",
    "Each cell's place field center is sampled from a uniform distribution over the environment accessible to the rat."
   ]
  },
  {
   "cell_type": "markdown",
   "metadata": {},
   "source": [
    "# EC->CA3-PC activity-dependent plasticity\n",
    "\n",
    "Hyun (2013, 2015) showed that a 10 Hz spike train in a CA3 PC lasting 1-2 s, elicited either by direct current injection or activation of upstream mossy fibers, was sufficient to almost double the size of EC->CA3 EPSPs.\n",
    "\n",
    "We model this activity-dependent synaptic weight change in the $i$-th neuron by introducing an auxiliary synaptic variable $c_i$ that effectively counts spikes over a short window of time:\n",
    "\n",
    "$c_i(t) = \\sum\\limits_{k(i)} \\alpha(t - t^{k(i)})$\n",
    "\n",
    "where $t^{k(i)}$ is the $i$-th neuron's $k$-th spike time, and $\\alpha$ is a one-sided exponential with timescale $\\tau_c$.\n",
    "\n",
    "The $c_i$-dependent change in $w_{A,i}^{PC,EC}$, which we abbreviate to $w_i$ here, is given by:\n",
    "\n",
    "$\\tau_w\\cfrac{dw_i}{dt} = z(c_i)(w_{max} - w_i)$\n",
    "\n",
    "with $z(c)$ defined as a sigmoidal nonlinearity centered at $c^*$ and with a slope of $\\beta$, i.e.,\n",
    "\n",
    "$z(c) = \\cfrac{1}{1 + \\exp[-(c - c^*)/\\beta]}.$\n",
    "\n",
    "In other words, when rapid spiking causes $c_i$ to exceed a threshold $c^*$, $w_i$ increases towards $w_{max}$ with a timescale $\\tau_c$."
   ]
  },
  {
   "cell_type": "markdown",
   "metadata": {},
   "source": [
    "# Recurrent CA3 PC-PC connectivity"
   ]
  },
  {
   "cell_type": "markdown",
   "metadata": {},
   "source": [
    "We model recurrent connectivity among CA3 PCs by assuming that cells with similar place-tuning have a higher probability of connecting. Specifically, the probability of a candidate targ PC receiving a connection from a src PC at a distance $d$ away is given by:\n",
    "\n",
    "$P(d) = \\min(1, Z_{PC}\\exp[-d/\\lambda_{PC}])$\n",
    "\n",
    "with $\\lambda_{PC} > 0$."
   ]
  }
 ],
 "metadata": {
  "kernelspec": {
   "display_name": "Python 3",
   "language": "python",
   "name": "python3"
  },
  "language_info": {
   "codemirror_mode": {
    "name": "ipython",
    "version": 3
   },
   "file_extension": ".py",
   "mimetype": "text/x-python",
   "name": "python",
   "nbconvert_exporter": "python",
   "pygments_lexer": "ipython3",
   "version": "3.6.1"
  }
 },
 "nbformat": 4,
 "nbformat_minor": 2
}
