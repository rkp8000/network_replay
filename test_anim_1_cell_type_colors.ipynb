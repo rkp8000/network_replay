{
 "cells": [
  {
   "cell_type": "code",
   "execution_count": 6,
   "metadata": {},
   "outputs": [
    {
     "name": "stdout",
     "output_type": "stream",
     "text": [
      "Uncolored frames saved with prefix \"test_anim/cell_types/ntwk/frame_black\".\n",
      "Colored frames saved with prefix \"test_anim/cell_types/ntwk/frame_colored\".\n"
     ]
    }
   ],
   "source": [
    "%reset -f\n",
    "import numpy as np\n",
    "\n",
    "from aux import save_time_file\n",
    "from anim import build_frames\n",
    "from ntwk import NtwkResponse\n",
    "\n",
    "TIME_FILE = 'test_anim/cell_types/time.npy'\n",
    "NTWK_FILE = 'test_anim/cell_types/ntwk.npy'\n",
    "FRAME_PREFIX = 'test_anim/cell_types/ntwk/frame'\n",
    "\n",
    "ts = np.arange(10) * (1/30)\n",
    "vs = -0.068*np.ones((10, 5))\n",
    "spks = np.zeros(vs.shape, dtype=bool)\n",
    "gs = {'AMPA': np.zeros(vs.shape)}\n",
    "ws_rcr = np.zeros((5, 5))\n",
    "ws_up = np.zeros((5, 2))\n",
    "v_rest = -0.068\n",
    "v_th = -0.036\n",
    "cell_types = ['EX', 'EX', 'INH', 'INH', 'EX']\n",
    "place_field_centers = np.array([range(5), range(5)])\n",
    "\n",
    "resp = NtwkResponse(\n",
    "    vs=vs, spks=spks, gs=gs, ws_rcr=ws_rcr, ws_up=ws_up,\n",
    "    v_rest=v_rest, v_th=v_th, cell_types=cell_types, place_field_centers=place_field_centers)\n",
    "\n",
    "save_time_file(TIME_FILE, ts)\n",
    "resp.save(NTWK_FILE)\n",
    "\n",
    "frames_black = build_frames.ntwk_activity(\n",
    "    save_prefix=FRAME_PREFIX + '_black',\n",
    "    time_file=TIME_FILE,\n",
    "    ntwk_file=NTWK_FILE,\n",
    "    resting_size=500)\n",
    "\n",
    "frames_colored = build_frames.ntwk_activity(\n",
    "    save_prefix=FRAME_PREFIX + '_colored',\n",
    "    time_file=TIME_FILE,\n",
    "    ntwk_file=NTWK_FILE,\n",
    "    resting_size=500,\n",
    "    default_color={'EX': (0, 0, 0), 'INH': (0, 0, 1)})\n",
    "\n",
    "print('Uncolored frames saved with prefix \"{}\".'.format(FRAME_PREFIX + '_black'))\n",
    "print('Colored frames saved with prefix \"{}\".'.format(FRAME_PREFIX + '_colored'))"
   ]
  }
 ],
 "metadata": {
  "kernelspec": {
   "display_name": "Python 3",
   "language": "python",
   "name": "python3"
  },
  "language_info": {
   "codemirror_mode": {
    "name": "ipython",
    "version": 3
   },
   "file_extension": ".py",
   "mimetype": "text/x-python",
   "name": "python",
   "nbconvert_exporter": "python",
   "pygments_lexer": "ipython3",
   "version": "3.6.1"
  }
 },
 "nbformat": 4,
 "nbformat_minor": 2
}
