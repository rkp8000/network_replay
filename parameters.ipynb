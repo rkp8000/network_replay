{
 "cells": [
  {
   "cell_type": "markdown",
   "metadata": {},
   "source": [
    "# PARAMETER DEFINITIONS AND VALUES"
   ]
  },
  {
   "cell_type": "markdown",
   "metadata": {},
   "source": [
    "### Place-tuning and trajectory generation\n",
    "\n",
    "| symbol | variable | meaning | value | units | rationale |\n",
    "|:-------|:---------|:--------|------:|:------|:----------|\n",
    "|$\\lambda^{PL}$|`L_PL`|place field radius|20|cm|calculated for circular place-field with 1275cm^2 area as measured in Mizuseki et al., (2012)|\n",
    "|$r^{PL}_{max}$|`R_MAX_PL`|maximum place-tuned synaptic input rate onto CA3 cells|?|Hz|calculated to yield ~20 Hz max firing rate when rat is at place field center (as measured by Mizuseki et al., (2012) Fig 4)|\n",
    "|$BOX_{l}$|`BOX_L`|left box bound|-1|m|open-field dimensions used in Mizuseki et al., (2012)|\n",
    "|$BOX_{r}$|`BOX_R`|right box bound|1|m|open-field dimensions used in Mizuseki et al., (2012)|\n",
    "|$BOX_{b}$|`BOX_B`|bottom box bound|-0.5|m|open-field dimensions used in Mizuseki et al., (2012)|\n",
    "|$BOX_{t}$|`BOX_T`|top box bound|0.5|m|open-field dimensions used in Mizuseki et al., (2012)|\n",
    "|$s_{trj}$|`S_TRJ`|trajectory average speed|20|cm/s|chosen so that it takes ~2s for rat to cross place field|\n",
    "|$\\tau_{trj}$|`T_TRJ`|trajectory correlation time|1|s|seems like right order of magnitude|\n",
    "|$x_0$|`X_0`|initial $x$ position|?|m||\n",
    "|$y_0$|`Y_0`|initial $y$ position|?|m||\n",
    "|$v^x_0$|`VX_0`|initial $x$ velocity|?|m/s||\n",
    "|$v^y_0$|`VY_0`|initial $y$ velocity|?|m/s||"
   ]
  },
  {
   "cell_type": "markdown",
   "metadata": {},
   "source": [
    "### Network architecture\n",
    "\n",
    "| symbol | variable | meaning | value | units | rationale |\n",
    "|:-------|:---------|:--------|------:|:------|:----------|\n",
    "|$N_{CA3}$|`N_CA3`|number of neurons in CA3 ntwk|1000|-||\n",
    "|$N_{EC}$|`N_EC`|number of EC neurons upstream of CA3|1000|-||\n",
    "|$p_A^{CA3-CA3}$|`P_A_CA3_CA3`|AMPA cxn prob for CA3-CA3 recurrent cxns|1|%||\n",
    "|$p_N^{CA3-CA3}$|`P_N_CA3_CA3`|NMDA cxn prob for CA3-CA3 recurrent cxns|1|%||\n",
    "|$p_A^{EC-CA3}$|`P_A_EC_CA3`|AMPA cxn prob for EC->CA3 cxns|1|%||\n",
    "|$p_N^{EC-CA3}$|`P_N_EC_CA3`|NMDA cxn prob for EC->CA3 cxns|1|%||\n",
    "|$w_A^{CA3-CA3}$|`W_A_CA3_CA3`|AMPA cxn weight for CA3-CA3 recurrent cxns|0|-||\n",
    "|$w_N^{CA3-CA3}$|`W_N_CA3_CA3`|NMDA cxn weight for CA3-CA3 recurrent cxns|0|-||\n",
    "|$w_A^{EC-CA3,i}$|`W_A_EC_CA3_I`|initial AMPA cxn weight for EC->CA3 cxns|?|-|chosen to yield the ~ 2 mV EC-CA3 (perforant path) EPSPs measured in Hyun et al., 2015 Fig 1Ab|\n",
    "|$w_A^{EC-CA3,f}$|`W_A_EC_CA3_F`|final AMPA cxn weight for EC->CA3 cxns|?|-|chosen to yield the ~ 4 mV EC-CA3 (perforant path) EPSPs measured in Hyun et al., 2015 Fig 1Ab|\n",
    "|$w_N^{EC-CA3}$|`W_N_EC_CA3`|NMDA cxn weight for EC->CA3 cxns|0|-||\n",
    "|$w_A^{PL-CA3}$|`W_A_PL_CA3`|AMPA cxn weight for place-tuned neurons onto CA3|0.017|-|chosen to yield the ~ 4 mV MF-CA3 EPSPs measured in Hyun et al., 2015 Fig 1Ab (though note that we are ignoring the strong short-term facilitation typically seen at these synapses, since our primary goal is only to provide place-tuned input to the CA3 PCS)|\n",
    "|$w_N^{PL-CA3}$|`W_N_PL_CA3`|NMDA cxn weight for place-tuned neurons onto CA3|0|-||"
   ]
  },
  {
   "cell_type": "markdown",
   "metadata": {},
   "source": [
    "### Membrane potential dynamics\n",
    "\n",
    "| symbol | variable | meaning | value | units | rationale |\n",
    "|:-------|:---------|:--------|------:|:------|:----------|\n",
    "|$v_{rest}$|`V_REST`|single-unit resting potential|-68|mV|directly measured in Guzman et al., (2016)|\n",
    "|$v_{th}$|`V_TH`|single-unit firing threshold|-36|mV|directly measured in Guzman et al., (2016)|\n",
    "|$v_{reset}$|`V_RESET`|reset potential|-68|mV|same as resting|\n",
    "|$\\tau_m$|`T_M`|membrane time constant|50|ms|directly measured in Kowalski 2015|\n",
    "|$\\tau_r$|`T_R`|refractory period|2|ms|typical absolute refractory period value|"
   ]
  },
  {
   "cell_type": "markdown",
   "metadata": {},
   "source": [
    "### Synaptic conductance dynamics\n",
    "\n",
    "| symbol | variable | meaning | value | units | rationale |\n",
    "|:-------|:---------|:--------|------:|:------|:----------|\n",
    "|$E_{leak}$|`E_LEAK`|leak reversal potential|-68|mV|same as resting|\n",
    "|$E_{AMPA}$|`E_AMPA`|AMPA reversal potential|0|mV|taken from Huang 2015|\n",
    "|$E_{NMDA}$|`E_NMDA`|NMDA reversal potential|0|mV|taken from Huang 2015|\n",
    "|$E_{GABA}$|`E_GABA`|GABA reversal potential|-80|mV|taken from Huang 2015|\n",
    "|$\\tau_{AMPA}$|`T_AMPA`|AMPA conductance decay time|2|ms|taken from Huang 2015|\n",
    "|$\\tau_{NMDA}$|`T_NMDA`|NMDA conductance decay time|?|ms||\n",
    "|$\\tau_{GABA}$|`T_GABA`|GABA conductance decay time|?|ms||"
   ]
  },
  {
   "cell_type": "markdown",
   "metadata": {},
   "source": [
    "### EC-CA3 plasticity\n",
    "\n",
    "| symbol | variable | meaning | value | units | rationale |\n",
    "|:-------|:---------|:--------|------:|:------|:----------|\n",
    "|$\\tau_w$|`T_W`|timescale of activity-dependent EC-CA3 cxn weight increase|1|s|determined in [parameters_aux.ipynb](parameters_aux.ipynb)|\n",
    "|$\\tau_c$|`T_C`|decay timescale of CA3 spike-counter variable|2|s|determined in [parameters_aux.ipynb](parameters_aux.ipynb)|\n",
    "|$c^*$|`C_S`|spike-counter threshold|5|-|determined in [parameters_aux.ipynb](parameters_aux.ipynb)|\n",
    "|$\\beta_c$|`BETA_C`|spike-counter nonlinearity slope|0.2|-|determined in [parameters_aux.ipynb](parameters_aux.ipynb)|"
   ]
  },
  {
   "cell_type": "markdown",
   "metadata": {},
   "source": [
    "### Simulation\n",
    "\n",
    "| symbol | variable | meaning | value | units | rationale |\n",
    "|:-------|:---------|:--------|------:|:------|:----------|\n",
    "|$T^{TRJ}_{START}$|`T_TRJ_START`|start time of trajectory|1|s||\n",
    "|$T^{TRJ}_{END}$|`T_TRJ_END`|end time of trajectory|11|s||\n",
    "|$\\Delta T$|`DT`|numerical integration time step|0.5|ms||"
   ]
  },
  {
   "cell_type": "markdown",
   "metadata": {},
   "source": [
    "# PARAMETER VALUES IN PARAMETERS.py"
   ]
  },
  {
   "cell_type": "code",
   "execution_count": 6,
   "metadata": {},
   "outputs": [
    {
     "name": "stdout",
     "output_type": "stream",
     "text": [
      "V_REST = -0.07\n",
      "V_TH = -0.36\n",
      "V_RESET = -0.07\n"
     ]
    }
   ],
   "source": [
    "with open('PARAMETERS.py', 'rb') as f:\n",
    "    lines = f.readlines()\n",
    "    \n",
    "for line in lines:\n",
    "    print(line.strip().decode('utf-8'))"
   ]
  }
 ],
 "metadata": {
  "kernelspec": {
   "display_name": "Python 3",
   "language": "python",
   "name": "python3"
  },
  "language_info": {
   "codemirror_mode": {
    "name": "ipython",
    "version": 3
   },
   "file_extension": ".py",
   "mimetype": "text/x-python",
   "name": "python",
   "nbconvert_exporter": "python",
   "pygments_lexer": "ipython3",
   "version": "3.6.1"
  }
 },
 "nbformat": 4,
 "nbformat_minor": 2
}
