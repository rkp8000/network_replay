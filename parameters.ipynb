{
 "cells": [
  {
   "cell_type": "markdown",
   "metadata": {},
   "source": [
    "## PARAMETER DEFINITIONS AND VALUES"
   ]
  },
  {
   "cell_type": "markdown",
   "metadata": {},
   "source": [
    "### Some naming conventions\n",
    "\n",
    "We use $v$ for membrane potentials and $E$ for reversal potentials.\n",
    "\n",
    "We consider four cell types:\n",
    "\n",
    "* PC: CA3 pyramidal cell\n",
    "* INH: CA3 inhibitory cell\n",
    "* PL: place-tuned cells upstream of CA3 (presumably in DG)\n",
    "* EC: layer-II entorhinal cells upstream of CA3\n",
    "\n",
    "In the mathematical symbols, cell types are always specified in superscripts.\n",
    "\n",
    "We abbreviate synapse types to one letter:\n",
    "\n",
    "* A: AMPA\n",
    "* N: NMDA\n",
    "* G: GABA\n",
    "\n",
    "We also abbreviate \"leak\" to \"L\".\n",
    "\n",
    "Connectivity parameters are always named with the target before the source, e.g.:\n",
    "\n",
    "* $W_A^{INH,PC}$ and `W_A_INH_PC` are the symbol and variable, respectively, for the AMPA connection strength from CA3 pyramidal cells onto CA3 inhibitory interneurons.\n",
    "\n",
    "Variable names are symbols written by the main symbol name, followed by subscripts, followed by superscripts. Greek letters are replaced by the most logical latin equivalent."
   ]
  },
  {
   "cell_type": "markdown",
   "metadata": {},
   "source": [
    "### Place-tuning and trajectory generation\n",
    "\n",
    "| symbol | variable | meaning | value | units | rationale |\n",
    "|:-------|:---------|:--------|------:|:------|:----------|\n",
    "|$\\lambda^{PL}$|`L_PL`|place field radius|20|cm|calculated for circular place-field with 1275cm^2 area as measured in Mizuseki et al., (2012)|\n",
    "|$r^{PL}_{max}$|`R_MAX_PL`|maximum place-tuned synaptic input rate onto CA3 cells|350|Hz|calculated to yield ~20 Hz max firing rate when rat is at place field center (as measured by Mizuseki et al., (2012) Fig 4)|\n",
    "|$BOX_{l}$|`BOX_L`|left box bound|-1|m|open-field dimensions used in Mizuseki et al., (2012)|\n",
    "|$BOX_{r}$|`BOX_R`|right box bound|1|m|open-field dimensions used in Mizuseki et al., (2012)|\n",
    "|$BOX_{b}$|`BOX_B`|bottom box bound|-0.5|m|open-field dimensions used in Mizuseki et al., (2012)|\n",
    "|$BOX_{t}$|`BOX_T`|top box bound|0.5|m|open-field dimensions used in Mizuseki et al., (2012)|\n",
    "|$s_{traj}$|`S_TRAJ`|standard deviation of velocity fluctuations in trajectory generation|20|cm/s|approximate mean of rat running velocity distributions in McNaughton, Barnes, and O'Keefe (1984)|\n",
    "|$\\tau_{traj}$|`T_TRAJ`|trajectory correlation time|1|s|seems like right order of magnitude|"
   ]
  },
  {
   "cell_type": "markdown",
   "metadata": {},
   "source": [
    "### Network architecture\n",
    "\n",
    "| symbol | variable | meaning | value | units | rationale |\n",
    "|:-------|:---------|:--------|------:|:------|:----------|\n",
    "|$N^{PC}$|`N_PC`|number of neurons in CA3 ntwk|1000|-||\n",
    "|$N^{EC}$|`N_EC`|number of EC neurons upstream of CA3|1000|-||\n",
    "|$p_A^{PC,PC}$|`P_A_PC_PC`|AMPA cxn prob for CA3-CA3 recurrent cxns|1|%||\n",
    "|$p_N^{PC,PC}$|`P_N_PC_PC`|NMDA cxn prob for CA3-CA3 recurrent cxns|1|%||\n",
    "|$p_A^{PC,EC}$|`P_A_PC_PC`|AMPA cxn prob for EC->CA3 cxns|1|%||\n",
    "|$p_N^{PC,EC}$|`P_N_PC_PC`|NMDA cxn prob for EC->CA3 cxns|1|%||\n",
    "|$w_A^{PC,PC}$|`W_A_PC_PC`|AMPA cxn weight for CA3-CA3 recurrent cxns|0.0085|-|chosen to yield ~ 2 mV PC-PC EPSPs, as measured in Mishra 2015|\n",
    "|$w_N^{PC,PC}$|`W_N_PC_PC`|NMDA cxn weight for CA3-CA3 recurrent cxns|0|-||\n",
    "|$w_A^{PC,EC}$|`W_A_PC_EC`|AMPA cxn weight for EC->CA3 cxns|0|-||\n",
    "|$w_N^{PC,EC,i}$|`W_N_PC_EC_I`|initial AMPA cxn weight for EC->CA3 cxns|0.00065|-|chosen to yield the ~ 2 mV EC-CA3 (perforant path) EPSPs measured in Hyun et al., 2015 Fig 1Ab|\n",
    "|$w_N^{PC,EC,f}$|`W_N_EC_PC_F`|final AMPA cxn weight for EC->CA3 cxns|0.000135|-|chosen to yield the ~ 4 mV EC-CA3 (perforant path) EPSPs measured in Hyun et al., 2015 Fig 1Ab|\n",
    "|$w_A^{PC,PL}$|`W_A_PC_PL`|AMPA cxn weight for place-tuned neurons onto CA3|0.017|-|chosen to yield the ~ 4 mV MF-CA3 EPSPs measured in Hyun et al., 2015 Fig 1Ab (though note that we are ignoring the strong short-term facilitation typically seen at these synapses, since our primary goal is only to provide place-tuned input to the CA3 PCS)|\n",
    "|$w_N^{PC,PL}$|`W_N_PC_PL`|NMDA cxn weight for place-tuned neurons onto CA3 PCs|0|-||\n",
    "|$w_G^{PC,INH}$|`W_G_PC_INH`|GABA cxn weight for INH cells onto CA3 PCs|0.024|-|chosen to yield -2 mV IPSP as measured in Miles 1990|"
   ]
  },
  {
   "cell_type": "markdown",
   "metadata": {},
   "source": [
    "### Membrane potential dynamics\n",
    "\n",
    "| symbol | variable | meaning | value | units | rationale |\n",
    "|:-------|:---------|:--------|------:|:------|:----------|\n",
    "|$\\tau_m^{PC}$|`T_M_PC`|CA3 PC membrane time constant|50|ms|directly measured in Kowalski 2015|\n",
    "|$v_{rest}^{PC}$|`V_REST_PC`|CA3 PC resting potential|-68|mV|directly measured in Guzman et al., (2016)|\n",
    "|$v_{th}^{PC}$|`V_TH_PC`|CA3 PC spk threshold|-36|mV|directly measured in Guzman et al., (2016)|\n",
    "|$v_{reset}^{PC}$|`V_RESET_PC`|CA3 PC reset potential|-68|mV|same as resting|\n",
    "|$\\tau_m^{INH}$|`T_M_INH`|CA3 inh. cell membrane time constant|9|ms|directly measured in Miles 1990|\n",
    "|$v_{rest}^{INH}$|`V_REST_INH`|CA3 inh. cell resting potential|-58|mV|see NeuroElectro site|\n",
    "|$v_{th}^{INH}$|`V_TH_INH`|CA3 inh. cell spk threshold|-36|mV|directly measured in Guzman et al., (2016)|\n",
    "|$v_{reset}^{INH}$|`V_RESET_INH`|CA3 inh. cell reset potential|-58|mV|same as resting|\n",
    "|$\\tau_r$|`T_R`|refractory period for all cell types|2|ms|typical absolute refractory period value|"
   ]
  },
  {
   "cell_type": "markdown",
   "metadata": {},
   "source": [
    "### Synaptic conductance dynamics\n",
    "\n",
    "| symbol | variable | meaning | value | units | rationale |\n",
    "|:-------|:---------|:--------|------:|:------|:----------|\n",
    "|$E_L^{PC}$|`E_L_PC`|leak reversal potential for CA3 PCs|-68|mV|same as resting|\n",
    "|$E_L^{INH}$|`E_L_INH`|leak reversal potential for CA3 inh. cells|-58|mV|same as resting|\n",
    "|$E_A$|`E_A`|AMPA reversal potential|0|mV|taken from Huang 2015|\n",
    "|$E_N$|`E_N`|NMDA reversal potential|0|mV|taken from Huang 2015|\n",
    "|$E_G$|`E_G`|GABA reversal potential|-80|mV|taken from Huang 2015|\n",
    "|$\\tau_A$|`T_A`|AMPA conductance decay time|2|ms|taken from Huang 2015|\n",
    "|$\\tau_N$|`T_N`|NMDA conductance decay time|80|ms|taken from Huang 2015|\n",
    "|$\\tau_G$|`T_G`|GABA conductance decay time|5|ms|taken from Huang 2015|"
   ]
  },
  {
   "cell_type": "markdown",
   "metadata": {},
   "source": [
    "### EC-CA3 plasticity\n",
    "\n",
    "| symbol | variable | meaning | value | units | rationale |\n",
    "|:-------|:---------|:--------|------:|:------|:----------|\n",
    "|$\\tau_w$|`T_W`|timescale of activity-dependent EC-CA3 cxn weight increase|1|s|determined in [parameters_aux.ipynb](parameters_aux.ipynb)|\n",
    "|$\\tau_c$|`T_C`|decay timescale of CA3 spike-counter variable|1.5|s|determined in [parameters_aux.ipynb](parameters_aux.ipynb)|\n",
    "|$c^*$|`C_S`|spike-counter threshold|5|-|determined in [parameters_aux.ipynb](parameters_aux.ipynb)|\n",
    "|$\\beta_c$|`B_C`|spike-counter nonlinearity slope|0.2|-|determined in [parameters_aux.ipynb](parameters_aux.ipynb)|"
   ]
  },
  {
   "cell_type": "markdown",
   "metadata": {},
   "source": [
    "### Simulation\n",
    "\n",
    "| symbol | variable | meaning | value | units | rationale |\n",
    "|:-------|:---------|:--------|------:|:------|:----------|\n",
    "|$\\Delta t$|`DT`|numerical integration timescale|0.5|ms|smaller than typical action potential timescale|"
   ]
  },
  {
   "cell_type": "markdown",
   "metadata": {},
   "source": [
    "# PARAMETER VALUES IN PARAMETERS.py"
   ]
  },
  {
   "cell_type": "code",
   "execution_count": 1,
   "metadata": {},
   "outputs": [
    {
     "name": "stdout",
     "output_type": "stream",
     "text": [
      "# PLACE-TUNING AND TRAJECTORY GENERATION\n",
      "\n",
      "L_PL = 0.2  # (m)\n",
      "R_MAX_PL = 350  # (Hz)\n",
      "\n",
      "BOX_L = -1  # (m)\n",
      "BOX_R = 1  # (m)\n",
      "BOX_B = -0.5  # (m)\n",
      "BOX_T = 0.5  # (m)\n",
      "\n",
      "S_TRAJ = 0.2  # (m/s)\n",
      "T_TRAJ = 1  # (s)\n",
      "\n",
      "X_0 = -0.9  # (m)\n",
      "Y_0 = -0.4  # (m)\n",
      "VX_0 = 0.45  # (m/s)\n",
      "VY_0 = 0.45  # (m/s)\n",
      "\n",
      "# NETWORK ARCHITECTURE\n",
      "\n",
      "N_PC = 1000\n",
      "N_EC = 1000\n",
      "\n",
      "P_A_PC_PC = 0.01\n",
      "P_N_PC_PC = 0.01\n",
      "\n",
      "P_A_PC_EC = 0.01\n",
      "P_N_PC_EC = 0.01\n",
      "\n",
      "W_A_PC_PC = 0.0085\n",
      "W_N_PC_PC = 0\n",
      "\n",
      "W_A_PC_EC = 0\n",
      "\n",
      "W_N_PC_EC_I = 0.00065\n",
      "W_N_PC_EC_F = 0.00135\n",
      "\n",
      "W_A_PC_PL = 0.017\n",
      "W_N_PC_PL = 0\n",
      "\n",
      "W_G_PC_INH = 0.024\n",
      "\n",
      "W_A_INH_PC = 0.013\n",
      "\n",
      "# MEMBRANE POTENTIAL DYNAMICS\n",
      "\n",
      "T_M_PC = 0.05  # (s)\n",
      "V_REST_PC = -0.068  # (V)\n",
      "V_TH_PC = -0.036  # (V)\n",
      "V_RESET_PC = -0.068  # (V)\n",
      "\n",
      "T_M_INH = 0.009  # (s)\n",
      "V_REST_INH = -0.058  # (V)\n",
      "V_TH_INH = -0.036  # (V)\n",
      "V_RESET_INH = -0.058  # (V)\n",
      "\n",
      "T_R = 0.002  # (s)\n",
      "\n",
      "# SYNAPTIC CONDUCTANCE DYNAMICS\n",
      "\n",
      "E_L_PC = -0.068  # (V)\n",
      "E_L_INH = -0.058  # (V)\n",
      "\n",
      "E_A = 0  # (V)\n",
      "E_N = 0  # (V)\n",
      "E_G = -0.08  # (V)\n",
      "\n",
      "T_A = 0.002  # (s)\n",
      "T_N = 0.08  # (s)\n",
      "T_G = 0.005  # (s)\n",
      "\n",
      "# EC-CA3 PLASTICITY\n",
      "T_W = 1  # (s)\n",
      "T_C = 1.5  # (s)\n",
      "C_S = 5\n",
      "B_C = 0.2\n",
      "\n",
      "# SIMULATION\n",
      "\n",
      "DT = 0.0005  # (s)\n"
     ]
    }
   ],
   "source": [
    "with open('PARAMETERS.py', 'rb') as f:\n",
    "    lines = f.readlines()\n",
    "    \n",
    "for line in lines:\n",
    "    print(line.strip().decode('utf-8'))"
   ]
  }
 ],
 "metadata": {
  "kernelspec": {
   "display_name": "Python 3",
   "language": "python",
   "name": "python3"
  },
  "language_info": {
   "codemirror_mode": {
    "name": "ipython",
    "version": 3
   },
   "file_extension": ".py",
   "mimetype": "text/x-python",
   "name": "python",
   "nbconvert_exporter": "python",
   "pygments_lexer": "ipython3",
   "version": "3.6.1"
  }
 },
 "nbformat": 4,
 "nbformat_minor": 2
}
