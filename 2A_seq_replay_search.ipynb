{
 "cells": [
  {
   "cell_type": "markdown",
   "metadata": {},
   "source": [
    "# Param search results"
   ]
  },
  {
   "cell_type": "code",
   "execution_count": null,
   "metadata": {},
   "outputs": [],
   "source": [
    "%reset -f\n",
    "%matplotlib inline\n",
    "from db import make_session, d_models\n",
    "\n",
    "GROUP = 'test_0'\n",
    "\n",
    "session = make_session()\n",
    "rslts = session.query(d_models.SmlnRslt).filter_by(group=GROUP).order_by(\n",
    "    d_models.SmlnRslt.success.desc()).limit(100)\n",
    "session.close()\n",
    "\n",
    "for rslt in rslts:\n",
    "    print('ID: {}, SUCCESS: {}'.format(rslt.id, rslt.success))"
   ]
  },
  {
   "cell_type": "markdown",
   "metadata": {},
   "source": [
    "# Simulation verification"
   ]
  },
  {
   "cell_type": "code",
   "execution_count": null,
   "metadata": {},
   "outputs": [],
   "source": [
    "%reset -f\n",
    "%matplotlib inline\n",
    "from db import make_session, d_models\n",
    "from seq_replay import plot, smln\n",
    "\n",
    "SMLN_RSLT_ID = None\n",
    "\n",
    "session = make_session()\n",
    "smln_rslt = session.query(d_models.SmlnRslt).get(SMLN_RSLT_ID)\n",
    "session.close()\n",
    "\n",
    "p = smln_rslt.params\n",
    "s_params = smln_rslt.s_params\n",
    "apxn = smln_rslt.apxn\n",
    "\n",
    "print('Running smln...')\n",
    "rslt = smln.run(p, s_params, apxn)\n",
    "print('Smln complete.')"
   ]
  },
  {
   "cell_type": "code",
   "execution_count": null,
   "metadata": {},
   "outputs": [],
   "source": [
    "# make plot\n",
    "plot.heat_maps(rslt);"
   ]
  },
  {
   "cell_type": "code",
   "execution_count": null,
   "metadata": {},
   "outputs": [],
   "source": [
    "plot.raster(\n",
    "    rslt,\n",
    "    xys=[\n",
    "    (-.75, .75), (0, .75), (0, 0), (0, -.75), (.75, -.75),  # trj\n",
    "    (-.75, 0), (-.75, -.75), (.75, .75), (.75, 0),  # non-trj\n",
    "    ],\n",
    "    nearest=3,\n",
    "    epoch='replay')"
   ]
  }
 ],
 "metadata": {
  "kernelspec": {
   "display_name": "Python 3",
   "language": "python",
   "name": "python3"
  },
  "language_info": {
   "codemirror_mode": {
    "name": "ipython",
    "version": 3
   },
   "file_extension": ".py",
   "mimetype": "text/x-python",
   "name": "python",
   "nbconvert_exporter": "python",
   "pygments_lexer": "ipython3",
   "version": "3.5.2"
  }
 },
 "nbformat": 4,
 "nbformat_minor": 2
}
