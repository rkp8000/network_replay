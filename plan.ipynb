{
 "cells": [
  {
   "cell_type": "markdown",
   "metadata": {},
   "source": [
    "# 1. When does changing neural excitability maximally influence network dynamics?"
   ]
  },
  {
   "cell_type": "markdown",
   "metadata": {},
   "source": [
    "## Definitions\n",
    "\n",
    "$\\Delta \\mathbf{x}^{(i)} \\equiv (0, ..., 0, \\Delta x, 0, ..., 0) \\textrm{ where the only nonzero element is at position } i \\textrm{ (neuron } i \\textrm{)}, \\textrm{ (i.e. excitability change vector)}$\n",
    "\n",
    "$\\mathbf{x} \\equiv \\textrm{baseline excitability vector}$\n",
    "\n",
    "$W \\equiv \\textrm{synaptic connectivity matrix}$\n",
    "\n",
    "$\\mathbf{r}(t) \\equiv \\textrm{ntwk dynamics (multivariate time series)}$\n",
    "\n",
    "$Q[P(\\mathbf{r}(t)|\\Delta \\mathbf{x} = \\mathbf{0}; W, \\mathbf{x}), P(\\mathbf{r}(t)|\\Delta \\mathbf{x} = \\Delta \\mathbf{x}^{(i)}; W, \\mathbf{x})] \\equiv \\textrm{distance metric between ntwk dynamics distributions with and without excitability change}$\n",
    "\n",
    "In particular, let\n",
    "\n",
    "$Q_{i} = \\lVert \\mathop{\\mathbb{E}}[\\mathbf{r}(t)|\\Delta \\mathbf{x} = \\mathbf{0}; W, \\mathbf{x}] - \\mathop{\\mathbb{E}}[\\mathbf{r}(t)|\\Delta \\mathbf{x} = \\Delta \\mathbf{x}^{(i)}; W, \\mathbf{x}] \\rVert$\n",
    "\n",
    "where the expectation is both a time and ensemble average. Thus, $Q_{i}$ measures the overlap between the average set of neurons active in the baseline distribution vs that conditioned by $\\Delta \\mathbf{x}^{(i)}$."
   ]
  },
  {
   "cell_type": "markdown",
   "metadata": {},
   "source": [
    "## Given $\\{W, \\mathbf{x}\\}$, which $\\Delta \\mathbf{x}^{(i)}$ maximize $Q_{i}$?\n",
    "\n",
    "### Approach\n",
    "\n",
    "This is likely an intractable optimization problem.\n",
    "\n",
    "However, we can make inroads by considering a standard connectivity structures.\n",
    "\n",
    "In particular, for a given connectivity structure (e.g. Erdos-Renyi, scale free, small world), we can compute $Q_i$ for each neuron and plot the result as a function of the neuron's local connectivity patterns (e.g. its, in- & out-degree, centrality, etc.)."
   ]
  },
  {
   "cell_type": "markdown",
   "metadata": {},
   "source": [
    "## Which $W$ maximizes $\\mathop{\\mathbb{E}_i}[Q_i]$?\n",
    "\n",
    "Again, this is probably intractable.\n",
    "\n",
    "However, we can compute distributions over $Q_i$ for different example $W$, allowing us to make statements about what global connectivity features enable excitability changes to have the most influence."
   ]
  },
  {
   "cell_type": "markdown",
   "metadata": {},
   "source": [
    "# 2. What network structures optimize excitability-based sequence generation?"
   ]
  },
  {
   "cell_type": "markdown",
   "metadata": {},
   "source": [
    "## Definitions:\n",
    "\n",
    "$\\Delta \\mathbf{x} \\equiv \\textrm{excitability change vector}$\n",
    "\n",
    "$\\mathbf{x} \\equiv \\textrm{baseline excitability vector}$\n",
    "\n",
    "$W \\equiv \\textrm{synaptic connectivity matrix}$\n",
    "\n",
    "$\\mathbf{r}(t) \\equiv \\textrm{ntwk dynamics multivariate time series}$\n",
    "\n",
    "$\\mathbf{y} = \\mathbf{f}(\\mathbf{r}(t)) \\equiv \\textrm{spike sequence vector whose elements are idxs of spiking neurons}$\n",
    "\n",
    "$S(\\mathbf{y}_i, \\mathbf{y}_j) \\equiv \\textrm{sequence similarity measure}$\n",
    "\n",
    "$S_{in} \\equiv \\textrm{average S btwn sequences sampled using same } \\Delta \\mathbf{x}$\n",
    "\n",
    "$S_{bt} \\equiv \\textrm{average S btwn sequences sampled using different } \\Delta \\mathbf{x}_i, \\Delta \\mathbf{x}_j$\n",
    "\n",
    "$D_x^y \\equiv \\textrm{excitability-conditioned sequence discriminability}$"
   ]
  },
  {
   "cell_type": "markdown",
   "metadata": {},
   "source": [
    "In particular, let:\n",
    "\n",
    "$D_x^y = \\cfrac{\\mathop{{}\\mathbb{E}}[S_{in}]}{\\mathop{{}\\mathbb{E}}[S_{bt}]}$\n",
    "\n",
    "i.e. the ratio of sequence similarity given the same vs. different $\\Delta \\mathbf{x}$.\n",
    "\n",
    "This increases when (1) a given $\\Delta \\mathbf{x}$ reliably generates the same activity sequence, and (2) different $\\Delta \\mathbf{x}$'s generate different activity sequences."
   ]
  },
  {
   "cell_type": "markdown",
   "metadata": {},
   "source": [
    "### Discrete case:\n",
    "\n",
    "$\\Delta \\mathbf{x} \\in \\{\\Delta \\mathbf{x}_1, \\Delta \\mathbf{x}_2, ...\\}$\n",
    "\n",
    "$\n",
    "\\mathop{{}\\mathbb{E}}[S_{in}] \\equiv\n",
    "\\sum_k P(\\Delta \\mathbf{x}_k)\n",
    "\\sum_{i,j} \n",
    "P(\\mathbf{y}_i|\\Delta \\mathbf{x}_k; W, \\mathbf{x})\n",
    "P(\\mathbf{y}_j|\\Delta \\mathbf{x}_k; W, \\mathbf{x})\n",
    "S(\\mathbf{y}_i, \\mathbf{y}_j)\n",
    "$\n",
    "\n",
    "$\n",
    "\\mathop{{}\\mathbb{E}}[S_{bt}] \\equiv \n",
    "\\sum_{k,l} P(\\Delta \\mathbf{x}_k)P(\\Delta \\mathbf{x}_l)\n",
    "\\sum_{i,j}\n",
    "P(\\mathbf{y}_i|\\Delta \\mathbf{x}_k; W, \\mathbf{x})\n",
    "P(\\mathbf{y}_j|\\Delta \\mathbf{x}_l; W, \\mathbf{x})\n",
    "S(\\mathbf{y}_i, \\mathbf{y}_j)\n",
    "$"
   ]
  },
  {
   "cell_type": "markdown",
   "metadata": {},
   "source": [
    "### Continuous case:\n",
    "\n",
    "$\\Delta \\mathbf{x} \\in \\mathbb{R}^N$\n",
    "\n",
    "$\n",
    "\\mathop{{}\\mathbb{E}}[S_{in}] \\equiv\n",
    "\\int d\\Delta\\mathbf{x} P(\\Delta \\mathbf{x}) \n",
    "\\sum_{i,j} \n",
    "P(\\mathbf{y}_i|\\Delta \\mathbf{x}; W, \\mathbf{x})\n",
    "P(\\mathbf{y}_j|\\Delta \\mathbf{x}; W, \\mathbf{x})\n",
    "S(\\mathbf{y}_i, \\mathbf{y}_j)\n",
    "$\n",
    "\n",
    "Define:\n",
    "\n",
    "$T(\\Delta \\mathbf{x}_k, \\Delta \\mathbf{x}_l) \\equiv \\textrm{distance metric between excitability-change vectors}$\n",
    "\n",
    "Then:\n",
    "\n",
    "$\n",
    "\\mathop{{}\\mathbb{E}}[S_{bt}] \\equiv \n",
    "\\int d\\Delta\\mathbf{x}_k d\\Delta\\mathbf{x}_l\n",
    "P(\\Delta \\mathbf{x}_k) P(\\Delta \\mathbf{x}_l)\n",
    "T(\\Delta \\mathbf{x}_k, \\Delta \\mathbf{x}_l)\n",
    "\\sum_{i,j}\n",
    "P(\\mathbf{y}_i|\\Delta \\mathbf{x}_k; W, \\mathbf{x})\n",
    "P(\\mathbf{y}_j|\\Delta \\mathbf{x}_l; W, \\mathbf{x})\n",
    "S(\\mathbf{y}_i, \\mathbf{y}_j)\n",
    "$\n",
    "\n",
    "Here, $T(\\Delta \\mathbf{x}_k, \\Delta \\mathbf{x}_l)$ excludes similar pairs $\\Delta \\mathbf{x}_k, \\Delta \\mathbf{x}_l$ such that $\\mathop{{}\\mathbb{E}}[S_{bt}]$ quantifies the similarity between activity sequences conditioned on sufficiently different $\\Delta \\mathbf{x}$."
   ]
  },
  {
   "cell_type": "markdown",
   "metadata": {},
   "source": [
    "## What $\\{W, \\mathbf{x}\\}$ maximize $D_x^y$?"
   ]
  },
  {
   "cell_type": "markdown",
   "metadata": {},
   "source": [
    "### Approach\n",
    "\n",
    "Again the optimization problem is almost certainly intractable.\n",
    "\n",
    "Additionally, it is not obvious how to estimate $D_x^y$ even given $W$, due to the required sampling over $\\Delta \\mathbf{x}$. In particular, we expect there only to be a small subset of $\\Delta \\mathbf{x}$ that dramatically alter activity sequences, but we are unlikely to stumble upon them by random sampling."
   ]
  }
 ],
 "metadata": {
  "kernelspec": {
   "display_name": "Python 3",
   "language": "python",
   "name": "python3"
  },
  "language_info": {
   "codemirror_mode": {
    "name": "ipython",
    "version": 3
   },
   "file_extension": ".py",
   "mimetype": "text/x-python",
   "name": "python",
   "nbconvert_exporter": "python",
   "pygments_lexer": "ipython3",
   "version": "3.5.2"
  }
 },
 "nbformat": 4,
 "nbformat_minor": 2
}
