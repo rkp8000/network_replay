{
 "cells": [
  {
   "cell_type": "markdown",
   "metadata": {},
   "source": [
    "# Full linear ridge simulations"
   ]
  },
  {
   "cell_type": "code",
   "execution_count": 1,
   "metadata": {
    "collapsed": true
   },
   "outputs": [],
   "source": [
    "%matplotlib inline\n",
    "import matplotlib.pyplot as plt\n",
    "import numpy as np\n",
    "\n",
    "import aux\n",
    "from db.d_models import LinRidgeTrial\n",
    "from lin_ridge import full\n",
    "from lin_ridge import full_global as C\n",
    "from lin_ridge import search_global as C_\n",
    "from lin_ridge.full_viz import raster\n",
    "from lin_ridge.viz import select_trials\n",
    "from plot import set_font_size\n",
    "\n",
    "import PARAMETERS as P"
   ]
  },
  {
   "cell_type": "code",
   "execution_count": 2,
   "metadata": {},
   "outputs": [],
   "source": [
    "# load pre-computed files\n",
    "pre = {\n",
    "    'w_n_pc_ec_vs_dist': aux.load(C_.PATH_W_N_PC_EC_VS_DIST),\n",
    "    'v_g_n_vs_w_n_pc_ec_fr_ec': aux.load(C_.PATH_V_G_N_VS_W_N_PC_EC_FR_EC),\n",
    "}"
   ]
  },
  {
   "cell_type": "markdown",
   "metadata": {},
   "source": [
    "Select replay-only trials we want to run full smlns for."
   ]
  },
  {
   "cell_type": "code",
   "execution_count": 3,
   "metadata": {},
   "outputs": [
    {
     "data": {
      "text/html": [
       "<div>\n",
       "<style>\n",
       "    .dataframe thead tr:only-child th {\n",
       "        text-align: right;\n",
       "    }\n",
       "\n",
       "    .dataframe thead th {\n",
       "        text-align: left;\n",
       "    }\n",
       "\n",
       "    .dataframe tbody tr th {\n",
       "        vertical-align: top;\n",
       "    }\n",
       "</style>\n",
       "<table border=\"1\" class=\"dataframe\">\n",
       "  <thead>\n",
       "    <tr style=\"text-align: right;\">\n",
       "      <th></th>\n",
       "      <th>id</th>\n",
       "      <th>searcher_id</th>\n",
       "      <th>seed</th>\n",
       "      <th>area_h</th>\n",
       "      <th>area_w</th>\n",
       "      <th>ridge_y</th>\n",
       "      <th>p_inh</th>\n",
       "      <th>rho_pc</th>\n",
       "      <th>z_pc</th>\n",
       "      <th>l_pc</th>\n",
       "      <th>w_a_pc_pc</th>\n",
       "      <th>p_a_inh_pc</th>\n",
       "      <th>w_a_inh_pc</th>\n",
       "      <th>p_g_pc_inh</th>\n",
       "      <th>w_g_pc_inh</th>\n",
       "      <th>fr_ec</th>\n",
       "      <th>stability</th>\n",
       "      <th>angle</th>\n",
       "      <th>activity</th>\n",
       "      <th>speed</th>\n",
       "    </tr>\n",
       "  </thead>\n",
       "  <tbody>\n",
       "    <tr>\n",
       "      <th>0</th>\n",
       "      <td>25438</td>\n",
       "      <td>25</td>\n",
       "      <td>9394</td>\n",
       "      <td>0.5</td>\n",
       "      <td>2.0</td>\n",
       "      <td>-0.125</td>\n",
       "      <td>0.102050</td>\n",
       "      <td>12868.838831</td>\n",
       "      <td>0.985682</td>\n",
       "      <td>0.022155</td>\n",
       "      <td>0.007733</td>\n",
       "      <td>0.083637</td>\n",
       "      <td>0.002514</td>\n",
       "      <td>0.009592</td>\n",
       "      <td>0.014411</td>\n",
       "      <td>36.058473</td>\n",
       "      <td>0.666667</td>\n",
       "      <td>0.069797</td>\n",
       "      <td>2.296825</td>\n",
       "      <td>9.555461</td>\n",
       "    </tr>\n",
       "    <tr>\n",
       "      <th>1</th>\n",
       "      <td>25533</td>\n",
       "      <td>26</td>\n",
       "      <td>1019</td>\n",
       "      <td>0.5</td>\n",
       "      <td>2.0</td>\n",
       "      <td>-0.125</td>\n",
       "      <td>0.101520</td>\n",
       "      <td>12750.774731</td>\n",
       "      <td>1.010758</td>\n",
       "      <td>0.022690</td>\n",
       "      <td>0.008340</td>\n",
       "      <td>0.082301</td>\n",
       "      <td>0.002896</td>\n",
       "      <td>0.008015</td>\n",
       "      <td>0.014779</td>\n",
       "      <td>36.106640</td>\n",
       "      <td>0.666667</td>\n",
       "      <td>0.049193</td>\n",
       "      <td>2.547933</td>\n",
       "      <td>9.713865</td>\n",
       "    </tr>\n",
       "    <tr>\n",
       "      <th>2</th>\n",
       "      <td>25482</td>\n",
       "      <td>25</td>\n",
       "      <td>7827</td>\n",
       "      <td>0.5</td>\n",
       "      <td>2.0</td>\n",
       "      <td>-0.125</td>\n",
       "      <td>0.102192</td>\n",
       "      <td>12862.915476</td>\n",
       "      <td>0.985425</td>\n",
       "      <td>0.022166</td>\n",
       "      <td>0.007744</td>\n",
       "      <td>0.083710</td>\n",
       "      <td>0.002502</td>\n",
       "      <td>0.009559</td>\n",
       "      <td>0.014422</td>\n",
       "      <td>36.056736</td>\n",
       "      <td>0.666667</td>\n",
       "      <td>0.041391</td>\n",
       "      <td>2.498023</td>\n",
       "      <td>9.734511</td>\n",
       "    </tr>\n",
       "  </tbody>\n",
       "</table>\n",
       "</div>"
      ],
      "text/plain": [
       "      id  searcher_id  seed  area_h  area_w  ridge_y     p_inh        rho_pc  \\\n",
       "0  25438           25  9394     0.5     2.0   -0.125  0.102050  12868.838831   \n",
       "1  25533           26  1019     0.5     2.0   -0.125  0.101520  12750.774731   \n",
       "2  25482           25  7827     0.5     2.0   -0.125  0.102192  12862.915476   \n",
       "\n",
       "       z_pc      l_pc  w_a_pc_pc  p_a_inh_pc  w_a_inh_pc  p_g_pc_inh  \\\n",
       "0  0.985682  0.022155   0.007733    0.083637    0.002514    0.009592   \n",
       "1  1.010758  0.022690   0.008340    0.082301    0.002896    0.008015   \n",
       "2  0.985425  0.022166   0.007744    0.083710    0.002502    0.009559   \n",
       "\n",
       "   w_g_pc_inh      fr_ec  stability     angle  activity     speed  \n",
       "0    0.014411  36.058473   0.666667  0.069797  2.296825  9.555461  \n",
       "1    0.014779  36.106640   0.666667  0.049193  2.547933  9.713865  \n",
       "2    0.014422  36.056736   0.666667  0.041391  2.498023  9.734511  "
      ]
     },
     "execution_count": 3,
     "metadata": {},
     "output_type": "execute_result"
    }
   ],
   "source": [
    "T = LinRidgeTrial\n",
    "\n",
    "trials = select_trials(\n",
    "    smln_id='smln_2', filt=[\n",
    "        T.stability > 0.5, T.speed < 10, T.angle < 0.3, T.id != 25381, T.id != 25450\n",
    "    ], lmt=3)\n",
    "trials"
   ]
  },
  {
   "cell_type": "markdown",
   "metadata": {},
   "source": [
    "Run full smlns."
   ]
  },
  {
   "cell_type": "code",
   "execution_count": 4,
   "metadata": {
    "scrolled": false
   },
   "outputs": [
    {
     "name": "stdout",
     "output_type": "stream",
     "text": [
      "Please commit relevant files and enter commit id (or \"q\" to quit): test\n",
      "Trial 25438:\n",
      "    repeat 1...\n",
      "Running full smln...\n",
      "> /Users/rkp/Dropbox/Repositories/replay/lin_ridge/full.py(147)run_smln()\n",
      "-> spks_traj = None\n",
      "(Pdb) spks_traj.sum()\n",
      "5730304\n",
      "(Pdb) q\n"
     ]
    },
    {
     "ename": "BdbQuit",
     "evalue": "",
     "output_type": "error",
     "traceback": [
      "\u001b[0;31m---------------------------------------------------------------------------\u001b[0m",
      "\u001b[0;31mBdbQuit\u001b[0m                                   Traceback (most recent call last)",
      "\u001b[0;32m<ipython-input-4-7a5ba0841b99>\u001b[0m in \u001b[0;36m<module>\u001b[0;34m()\u001b[0m\n\u001b[1;32m     15\u001b[0m \u001b[0;34m\u001b[0m\u001b[0m\n\u001b[1;32m     16\u001b[0m         \u001b[0mseed\u001b[0m \u001b[0;34m=\u001b[0m \u001b[0mnp\u001b[0m\u001b[0;34m.\u001b[0m\u001b[0mrandom\u001b[0m\u001b[0;34m.\u001b[0m\u001b[0mrandint\u001b[0m\u001b[0;34m(\u001b[0m\u001b[0;36m0\u001b[0m\u001b[0;34m,\u001b[0m \u001b[0mC\u001b[0m\u001b[0;34m.\u001b[0m\u001b[0mMAX_SEED\u001b[0m\u001b[0;34m)\u001b[0m\u001b[0;34m\u001b[0m\u001b[0m\n\u001b[0;32m---> 17\u001b[0;31m         \u001b[0mrsp\u001b[0m \u001b[0;34m=\u001b[0m \u001b[0mfull\u001b[0m\u001b[0;34m.\u001b[0m\u001b[0mrun_smln\u001b[0m\u001b[0;34m(\u001b[0m\u001b[0mint\u001b[0m\u001b[0;34m(\u001b[0m\u001b[0mtrial_id\u001b[0m\u001b[0;34m)\u001b[0m\u001b[0;34m,\u001b[0m \u001b[0mLinRidgeTrial\u001b[0m\u001b[0;34m,\u001b[0m \u001b[0mpre\u001b[0m\u001b[0;34m,\u001b[0m \u001b[0mC\u001b[0m\u001b[0;34m,\u001b[0m \u001b[0mP\u001b[0m\u001b[0;34m,\u001b[0m \u001b[0mC_\u001b[0m\u001b[0;34m,\u001b[0m \u001b[0msave\u001b[0m\u001b[0;34m=\u001b[0m\u001b[0;32mTrue\u001b[0m\u001b[0;34m,\u001b[0m \u001b[0mseed\u001b[0m\u001b[0;34m=\u001b[0m\u001b[0mseed\u001b[0m\u001b[0;34m,\u001b[0m \u001b[0mcommit\u001b[0m\u001b[0;34m=\u001b[0m\u001b[0mcommit\u001b[0m\u001b[0;34m)\u001b[0m\u001b[0;34m\u001b[0m\u001b[0m\n\u001b[0m\u001b[1;32m     18\u001b[0m \u001b[0;34m\u001b[0m\u001b[0m\n\u001b[1;32m     19\u001b[0m         \u001b[0;31m# save response for later\u001b[0m\u001b[0;34m\u001b[0m\u001b[0;34m\u001b[0m\u001b[0m\n",
      "\u001b[0;32m~/Dropbox/Repositories/replay/lin_ridge/full.py\u001b[0m in \u001b[0;36mrun_smln\u001b[0;34m(trial_id, d_model, pre, C, P, C_, save, seed, commit, cache_file, mock_trial)\u001b[0m\n\u001b[1;32m    145\u001b[0m     \u001b[0;32mimport\u001b[0m \u001b[0mpdb\u001b[0m\u001b[0;34m;\u001b[0m \u001b[0mpdb\u001b[0m\u001b[0;34m.\u001b[0m\u001b[0mset_trace\u001b[0m\u001b[0;34m(\u001b[0m\u001b[0;34m)\u001b[0m\u001b[0;34m\u001b[0m\u001b[0m\n\u001b[1;32m    146\u001b[0m \u001b[0;34m\u001b[0m\u001b[0m\n\u001b[0;32m--> 147\u001b[0;31m     \u001b[0mspks_traj\u001b[0m \u001b[0;34m=\u001b[0m \u001b[0;32mNone\u001b[0m\u001b[0;34m\u001b[0m\u001b[0m\n\u001b[0m\u001b[1;32m    148\u001b[0m \u001b[0;34m\u001b[0m\u001b[0m\n\u001b[1;32m    149\u001b[0m     \u001b[0;31m# run ntwk\u001b[0m\u001b[0;34m\u001b[0m\u001b[0;34m\u001b[0m\u001b[0m\n",
      "\u001b[0;32m~/Dropbox/Repositories/replay/lin_ridge/full.py\u001b[0m in \u001b[0;36mrun_smln\u001b[0;34m(trial_id, d_model, pre, C, P, C_, save, seed, commit, cache_file, mock_trial)\u001b[0m\n\u001b[1;32m    145\u001b[0m     \u001b[0;32mimport\u001b[0m \u001b[0mpdb\u001b[0m\u001b[0;34m;\u001b[0m \u001b[0mpdb\u001b[0m\u001b[0;34m.\u001b[0m\u001b[0mset_trace\u001b[0m\u001b[0;34m(\u001b[0m\u001b[0;34m)\u001b[0m\u001b[0;34m\u001b[0m\u001b[0m\n\u001b[1;32m    146\u001b[0m \u001b[0;34m\u001b[0m\u001b[0m\n\u001b[0;32m--> 147\u001b[0;31m     \u001b[0mspks_traj\u001b[0m \u001b[0;34m=\u001b[0m \u001b[0;32mNone\u001b[0m\u001b[0;34m\u001b[0m\u001b[0m\n\u001b[0m\u001b[1;32m    148\u001b[0m \u001b[0;34m\u001b[0m\u001b[0m\n\u001b[1;32m    149\u001b[0m     \u001b[0;31m# run ntwk\u001b[0m\u001b[0;34m\u001b[0m\u001b[0;34m\u001b[0m\u001b[0m\n",
      "\u001b[0;32m~/anaconda3/envs/py3/lib/python3.6/bdb.py\u001b[0m in \u001b[0;36mtrace_dispatch\u001b[0;34m(self, frame, event, arg)\u001b[0m\n\u001b[1;32m     46\u001b[0m             \u001b[0;32mreturn\u001b[0m \u001b[0;31m# None\u001b[0m\u001b[0;34m\u001b[0m\u001b[0m\n\u001b[1;32m     47\u001b[0m         \u001b[0;32mif\u001b[0m \u001b[0mevent\u001b[0m \u001b[0;34m==\u001b[0m \u001b[0;34m'line'\u001b[0m\u001b[0;34m:\u001b[0m\u001b[0;34m\u001b[0m\u001b[0m\n\u001b[0;32m---> 48\u001b[0;31m             \u001b[0;32mreturn\u001b[0m \u001b[0mself\u001b[0m\u001b[0;34m.\u001b[0m\u001b[0mdispatch_line\u001b[0m\u001b[0;34m(\u001b[0m\u001b[0mframe\u001b[0m\u001b[0;34m)\u001b[0m\u001b[0;34m\u001b[0m\u001b[0m\n\u001b[0m\u001b[1;32m     49\u001b[0m         \u001b[0;32mif\u001b[0m \u001b[0mevent\u001b[0m \u001b[0;34m==\u001b[0m \u001b[0;34m'call'\u001b[0m\u001b[0;34m:\u001b[0m\u001b[0;34m\u001b[0m\u001b[0m\n\u001b[1;32m     50\u001b[0m             \u001b[0;32mreturn\u001b[0m \u001b[0mself\u001b[0m\u001b[0;34m.\u001b[0m\u001b[0mdispatch_call\u001b[0m\u001b[0;34m(\u001b[0m\u001b[0mframe\u001b[0m\u001b[0;34m,\u001b[0m \u001b[0marg\u001b[0m\u001b[0;34m)\u001b[0m\u001b[0;34m\u001b[0m\u001b[0m\n",
      "\u001b[0;32m~/anaconda3/envs/py3/lib/python3.6/bdb.py\u001b[0m in \u001b[0;36mdispatch_line\u001b[0;34m(self, frame)\u001b[0m\n\u001b[1;32m     65\u001b[0m         \u001b[0;32mif\u001b[0m \u001b[0mself\u001b[0m\u001b[0;34m.\u001b[0m\u001b[0mstop_here\u001b[0m\u001b[0;34m(\u001b[0m\u001b[0mframe\u001b[0m\u001b[0;34m)\u001b[0m \u001b[0;32mor\u001b[0m \u001b[0mself\u001b[0m\u001b[0;34m.\u001b[0m\u001b[0mbreak_here\u001b[0m\u001b[0;34m(\u001b[0m\u001b[0mframe\u001b[0m\u001b[0;34m)\u001b[0m\u001b[0;34m:\u001b[0m\u001b[0;34m\u001b[0m\u001b[0m\n\u001b[1;32m     66\u001b[0m             \u001b[0mself\u001b[0m\u001b[0;34m.\u001b[0m\u001b[0muser_line\u001b[0m\u001b[0;34m(\u001b[0m\u001b[0mframe\u001b[0m\u001b[0;34m)\u001b[0m\u001b[0;34m\u001b[0m\u001b[0m\n\u001b[0;32m---> 67\u001b[0;31m             \u001b[0;32mif\u001b[0m \u001b[0mself\u001b[0m\u001b[0;34m.\u001b[0m\u001b[0mquitting\u001b[0m\u001b[0;34m:\u001b[0m \u001b[0;32mraise\u001b[0m \u001b[0mBdbQuit\u001b[0m\u001b[0;34m\u001b[0m\u001b[0m\n\u001b[0m\u001b[1;32m     68\u001b[0m         \u001b[0;32mreturn\u001b[0m \u001b[0mself\u001b[0m\u001b[0;34m.\u001b[0m\u001b[0mtrace_dispatch\u001b[0m\u001b[0;34m\u001b[0m\u001b[0m\n\u001b[1;32m     69\u001b[0m \u001b[0;34m\u001b[0m\u001b[0m\n",
      "\u001b[0;31mBdbQuit\u001b[0m: "
     ]
    }
   ],
   "source": [
    "N_REPEATS = 2\n",
    "\n",
    "commit = input(\n",
    "    'Please commit relevant files and enter commit id (or \"q\" to quit): ')\n",
    "\n",
    "if commit.lower() == 'q':\n",
    "    raise KeyboardInterrupt('Execution halted by user.')\n",
    "\n",
    "for trial_id in trials['id']:\n",
    "    \n",
    "    print('Trial {}:'.format(trial_id))\n",
    "    \n",
    "    for ctr in range(N_REPEATS):\n",
    "        print('    repeat {}...'.format(ctr+1))\n",
    "        \n",
    "        seed = np.random.randint(0, C.MAX_SEED)\n",
    "        rsp = full.run_smln(int(trial_id), LinRidgeTrial, pre, C, P, C_, save=True, seed=seed, commit=commit)\n",
    "        \n",
    "        # save response for later\n",
    "        aux.save('lin_ridge/cache/full_smln_rsp_trial_{}_seed_{}.npy'.format(trial_id, seed), rsp)\n",
    "        \n",
    "        # make raster plot\n",
    "        fig, axs = raster(rsp.ts, rsp.spks, rsp.pfcs, rsp.cell_types, rsp.p, C, C_, fig_size=(15, 9))\n",
    "        \n",
    "        axs[0].set_title(\n",
    "            'Trial {0}: repeat {1}\\n(replay_fr = {2:.4f}, '\n",
    "            'fr_min = {3:.4f}, fr_max = {4:.4f}'.format(\n",
    "                trial_id, ctr+1, rsp.trial.replay_fr, rsp.trial.replay_fr_min, rsp.trial.replay_fr_max))\n",
    "        \n",
    "        for ax in axs:\n",
    "            set_font_size(ax, 16)\n",
    "            \n",
    "        # clear up memory\n",
    "        rsp = None"
   ]
  }
 ],
 "metadata": {
  "kernelspec": {
   "display_name": "Python 3",
   "language": "python",
   "name": "python3"
  },
  "language_info": {
   "codemirror_mode": {
    "name": "ipython",
    "version": 3
   },
   "file_extension": ".py",
   "mimetype": "text/x-python",
   "name": "python",
   "nbconvert_exporter": "python",
   "pygments_lexer": "ipython3",
   "version": "3.6.3"
  }
 },
 "nbformat": 4,
 "nbformat_minor": 2
}
