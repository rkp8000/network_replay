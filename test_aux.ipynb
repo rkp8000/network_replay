{
 "cells": [
  {
   "cell_type": "code",
   "execution_count": 1,
   "metadata": {},
   "outputs": [
    {
     "name": "stdout",
     "output_type": "stream",
     "text": [
      "Tests passed.\n"
     ]
    }
   ],
   "source": [
    "from aux import angle_from_dx_dt_dy_dt\n",
    "\n",
    "dx_dts = [   10,    1,   -1,  -10,   10,    1,   -1,  -10]\n",
    "dy_dts = [    1,   10,   10,    1,   -1,  -10,  -10,   -1]\n",
    "\n",
    "lbs =    [    0,   45,   90,  135,  -45,  -90, -135, -180]\n",
    "ubs =    [   45,   90,  135,  180,    0,  -45,  -90, -135]\n",
    "\n",
    "for dx_dt, dy_dt, lb, ub in zip(dx_dts, dy_dts, lbs, ubs):\n",
    "    \n",
    "    theta = angle_from_dx_dt_dy_dt(dx_dt, dy_dt, unit='deg')\n",
    "    assert lb < theta < ub\n",
    "    \n",
    "print('Tests passed.')"
   ]
  }
 ],
 "metadata": {
  "kernelspec": {
   "display_name": "Python 3",
   "language": "python",
   "name": "python3"
  },
  "language_info": {
   "codemirror_mode": {
    "name": "ipython",
    "version": 3
   },
   "file_extension": ".py",
   "mimetype": "text/x-python",
   "name": "python",
   "nbconvert_exporter": "python",
   "pygments_lexer": "ipython3",
   "version": "3.6.1"
  }
 },
 "nbformat": 4,
 "nbformat_minor": 2
}
