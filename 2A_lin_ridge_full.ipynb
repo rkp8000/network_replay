{
 "cells": [
  {
   "cell_type": "markdown",
   "metadata": {},
   "source": [
    "# Tests for full linear ridge simulations"
   ]
  },
  {
   "cell_type": "code",
   "execution_count": 1,
   "metadata": {
    "collapsed": true
   },
   "outputs": [],
   "source": [
    "%reset -f\n",
    "%matplotlib inline\n",
    "%load_ext autoreload\n",
    "%autoreload 2\n",
    "\n",
    "from copy import deepcopy\n",
    "import matplotlib.pyplot as plt\n",
    "import numpy as np\n",
    "\n",
    "import aux\n",
    "from lin_ridge import full_global as C\n",
    "from lin_ridge import search_global as C_\n",
    "\n",
    "import PARAMETERS as P\n",
    "\n",
    "\n",
    "class MockTrial(object):\n",
    "    pass"
   ]
  },
  {
   "cell_type": "markdown",
   "metadata": {},
   "source": [
    "#### Test `get_replay_metrics` by ensuring correct values are returned when known."
   ]
  },
  {
   "cell_type": "code",
   "execution_count": 2,
   "metadata": {},
   "outputs": [
    {
     "name": "stdout",
     "output_type": "stream",
     "text": [
      "Tests passed.\n"
     ]
    }
   ],
   "source": [
    "from lin_ridge.full import get_replay_metrics\n",
    "\n",
    "class CMock(object):\n",
    "    T_REPLAY = 0.45\n",
    "    N_STRIPES = 3\n",
    "    \n",
    "class PMock(object):\n",
    "    DT = 0.1\n",
    "\n",
    "ts = np.arange(0, 1, PMock.DT)\n",
    "\n",
    "pfcs = np.array([\n",
    "    [1., 2, 3, 4, 5, 6],\n",
    "    [-2, -2, 0, 0, 2, 2]\n",
    "])\n",
    "\n",
    "spks = np.zeros((len(ts), pfcs.shape[1]), dtype=bool)\n",
    "spks[:, 0] = True\n",
    "spks[:, 4] = True\n",
    "\n",
    "class RspMock(object):\n",
    "    \n",
    "    ts = ts\n",
    "    pfcs = pfcs\n",
    "    spks = spks\n",
    "    \n",
    "p_mock = {'AREA_H': 6}\n",
    "\n",
    "replay_fr_correct = 20 / 6\n",
    "replay_fr_min_correct = 0\n",
    "replay_fr_max_correct = 5\n",
    "\n",
    "replay_fr, replay_fr_min, replay_fr_max = get_replay_metrics(RspMock, p_mock, CMock, PMock)\n",
    "\n",
    "np.testing.assert_almost_equal(replay_fr, replay_fr_correct)\n",
    "np.testing.assert_almost_equal(replay_fr_min, replay_fr_min_correct)\n",
    "np.testing.assert_almost_equal(replay_fr_max, replay_fr_max_correct)\n",
    "\n",
    "print('Tests passed.')"
   ]
  },
  {
   "cell_type": "markdown",
   "metadata": {},
   "source": [
    "#### Test `trial_to_stable_ntwk`, which should re-run a replay-only LinRidgeTrial and return one of the stable networks."
   ]
  },
  {
   "cell_type": "code",
   "execution_count": 3,
   "metadata": {
    "collapsed": true
   },
   "outputs": [],
   "source": [
    "# load pre-computed files\n",
    "pre = {\n",
    "    'w_n_pc_ec_vs_dist': aux.load(C_.PATH_W_N_PC_EC_VS_DIST),\n",
    "    'v_g_n_vs_w_n_pc_ec_fr_ec': aux.load(C_.PATH_V_G_N_VS_W_N_PC_EC_FR_EC),\n",
    "}"
   ]
  },
  {
   "cell_type": "code",
   "execution_count": 4,
   "metadata": {},
   "outputs": [
    {
     "name": "stdout",
     "output_type": "stream",
     "text": [
      "STABILITY:\n",
      "MEASURED = 0.6666666666666666\n",
      "TRUE = 0.666666666666667\n",
      "\n",
      "ANGLE:\n",
      "MEASURED = 0.24754040548792955\n",
      "TRUE = 0.24754040548792955\n",
      "\n",
      "ACTIVITY:\n",
      "MEASURED = 2.629125705426628\n",
      "TRUE = 2.629125705426628\n",
      "\n",
      "SPEED:\n",
      "MEASURED = 10.883231571408379\n",
      "TRUE = 10.883231571408379\n",
      "\n"
     ]
    }
   ],
   "source": [
    "from lin_ridge.search import trial_to_stable_ntwk\n",
    "\n",
    "# build mock trial (copied from LinRidgeTrial 16517)\n",
    "trial = MockTrial()\n",
    "\n",
    "trial.seed = 3050\n",
    "\n",
    "trial.area_h = 0.5\n",
    "trial.area_w = 2.0\n",
    "trial.fr_ec = 41.1618320914401\n",
    "trial.l_pc = 0.0262400374450918\n",
    "trial.p_a_inh_pc = 0.0873150956083927\n",
    "trial.p_g_pc_inh = 0.0137217034829851\n",
    "trial.p_inh = 0.118530941344602\n",
    "trial.rho_pc = 10588.0101295135\n",
    "trial.ridge_y = -0.125\n",
    "trial.w_a_inh_pc = 0.00212093876944484\n",
    "trial.w_a_pc_pc = 0.00683346136610389\n",
    "trial.w_g_pc_inh = 0.0108083803733792\n",
    "trial.z_pc = 0.855577676548951\n",
    "\n",
    "trial.stability = 0.666666666666667\n",
    "trial.angle = 0.24754040548792955\n",
    "trial.activity = 2.6291257054266279\n",
    "trial.speed = 10.883231571408379\n",
    "\n",
    "# run trial and extract stable ntwk\n",
    "ntwk, vs_0, gs_0, spks_forced, extra = trial_to_stable_ntwk(trial, pre, C_, P, test=True)\n",
    "\n",
    "# ensure rslts match up with originals\n",
    "stabilities = extra['rslts_all']['STABILITY']\n",
    "angles = extra['rslts_all']['ANGLE']\n",
    "activities = extra['rslts_all']['ACTIVITY']\n",
    "speeds = extra['rslts_all']['SPEED']\n",
    "\n",
    "print('STABILITY:')\n",
    "print('MEASURED = {}'.format(np.mean(stabilities)))\n",
    "print('TRUE = {}'.format(trial.stability))\n",
    "print('')\n",
    "\n",
    "print('ANGLE:')\n",
    "print('MEASURED = {}'.format(np.mean(angles[stabilities == 1])))\n",
    "print('TRUE = {}'.format(trial.angle))\n",
    "print('')\n",
    "\n",
    "print('ACTIVITY:')\n",
    "print('MEASURED = {}'.format(np.mean(activities[stabilities == 1])))\n",
    "print('TRUE = {}'.format(trial.activity))\n",
    "print('')\n",
    "\n",
    "print('SPEED:')\n",
    "print('MEASURED = {}'.format(np.mean(speeds[stabilities == 1])))\n",
    "print('TRUE = {}'.format(trial.speed))\n",
    "print('')"
   ]
  },
  {
   "cell_type": "markdown",
   "metadata": {},
   "source": [
    "Tests passed if measured values are all almost identical to true ones."
   ]
  },
  {
   "cell_type": "markdown",
   "metadata": {},
   "source": [
    "#### Test `add_w_up_a_pc_pl` to make sure it expands the ntwk correctly."
   ]
  },
  {
   "cell_type": "code",
   "execution_count": 6,
   "metadata": {
    "collapsed": true
   },
   "outputs": [],
   "source": [
    "ntwk_ = deepcopy(ntwk)"
   ]
  },
  {
   "cell_type": "code",
   "execution_count": 7,
   "metadata": {},
   "outputs": [
    {
     "name": "stdout",
     "output_type": "stream",
     "text": [
      "Tests passed.\n"
     ]
    }
   ],
   "source": [
    "from lin_ridge.full import add_w_up_a_pc_pl\n",
    "\n",
    "ntwk = add_w_up_a_pc_pl(ntwk_, P)\n",
    "\n",
    "pc_mask = np.all(~np.isnan(ntwk.pfcs), axis=0)\n",
    "n_pc = pc_mask.sum()\n",
    "\n",
    "# check w_up sizes\n",
    "for syn in ntwk.syns:\n",
    "    assert ntwk.ws_up_init[syn].shape == (ntwk.n, 2*n_pc)\n",
    "\n",
    "# check AMPA cxns\n",
    "w_up_a = ntwk.ws_up_init['AMPA'].copy()\n",
    "nz_mask_a = np.zeros((ntwk.n, 2*n_pc), dtype=bool)\n",
    "nz_mask_a[:n_pc, :n_pc] = np.eye(n_pc, dtype=bool)\n",
    "\n",
    "assert np.sum(ntwk.ws_up_init['AMPA'][~nz_mask_a]) == 0\n",
    "\n",
    "# check NMDA cxns\n",
    "w_up_n = ntwk.ws_up_init['NMDA'].copy()\n",
    "nz_mask_n = np.zeros((ntwk.n, 2*n_pc), dtype=bool)\n",
    "nz_mask_n[:n_pc, n_pc:] = np.eye(n_pc, dtype=bool)\n",
    "\n",
    "assert np.sum(ntwk.ws_up_init['NMDA'][~nz_mask_n]) == 0\n",
    "\n",
    "# check GABA cxns\n",
    "assert np.sum(ntwk.ws_up_init['GABA']) == 0\n",
    "\n",
    "print('Tests passed.')"
   ]
  },
  {
   "cell_type": "markdown",
   "metadata": {},
   "source": [
    "#### Test `make_replay_trigger` to make sure it builds an input trigger sufficient for triggering replay."
   ]
  },
  {
   "cell_type": "code",
   "execution_count": null,
   "metadata": {
    "collapsed": true
   },
   "outputs": [],
   "source": [
    "from lin_ridge.full import make_replay_trigger\n",
    "from lin_ridge.search import trial_to_p, get_ridge_mask\n",
    "from plot import raster, set_font_size\n",
    "\n",
    "np.random.seed(0)\n",
    "\n",
    "TEST_DUR = 0.2\n",
    "\n",
    "trigger = make_replay_trigger(ntwk, vs_0, gs_0, spks_forced, trial_to_p(trial), C, P)\n",
    "\n",
    "# build upstream spks to test replay\n",
    "ts = np.arange(0, TEST, P.DT)\n",
    "\n",
    "spks_up = np.zeros((len(ts), 2*n_pc))\n",
    "\n",
    "# replay-triggering spks_up\n",
    "spks_up[1, :n_pc] = trigger\n",
    "\n",
    "# background EC spks_up\n",
    "spks_up[:, n_pc:] = np.random.poisson(trial.fr_ec*P.DT, (len(ts), n_pc))\n",
    "\n",
    "# run ntwk\n",
    "rsp = ntwk.run(spks_up=spks_up, dt=P.DT)\n",
    "rsp.pfcs = ntwk.pfcs\n",
    "rsp.cell_types = ntwk.cell_types\n",
    "\n",
    "# order cells by cell type, ridge status, and x-position\n",
    "ridge_mask = get_ridge_mask(rsp, p, C_)\n",
    "inh_mask = (rsp.cell_types == 'INH')\n",
    "non_ridge_pc_mask = ~(ridge_mask | inh_mask)\n",
    "\n",
    "categories = np.zeros(len(rsp.cell_types), dtype='int8')\n",
    "\n",
    "categories[ridge_mask] = 0\n",
    "categories[non_ridge_pc_mask] = 1\n",
    "categories[inh_mask] = 2\n",
    "\n",
    "order = np.lexsort((rsp.pfcs[0], categories))\n",
    "        \n",
    "fig, ax = plt.subplots(1, 1, figsize=(15, 5), tight_layout=True)\n",
    "\n",
    "raster(ax, rsp.ts, rsp.spks, order=order)\n",
    "\n",
    "set_font_size(ax, 16)"
   ]
  },
  {
   "cell_type": "markdown",
   "metadata": {},
   "source": [
    "Test passed if clear sequential activation is observed."
   ]
  },
  {
   "cell_type": "markdown",
   "metadata": {},
   "source": [
    "Test `run_smln` to ensure that plasticity works and replay triggers are being applied correctly."
   ]
  },
  {
   "cell_type": "code",
   "execution_count": null,
   "metadata": {
    "collapsed": true
   },
   "outputs": [],
   "source": [
    "from lin_ridge.full import run_smln\n",
    "from lin_ridge.full_viz import raster\n",
    "\n",
    "N = 10\n",
    "\n",
    "# make mock trial\n",
    "class MockTrial(object):\n",
    "    area_h = 0.5\n",
    "    area_w = 2\n",
    "    ridge_y = -0.125\n",
    "    p_inh = 0\n",
    "    rho_pc = 0\n",
    "    \n",
    "    p_a_inh_pc = 0\n",
    "    w_a_inh_pc = 0\n",
    "    \n",
    "    p_g_pc_inh = 0\n",
    "    w_g_pc_inh = 0\n",
    "    \n",
    "    fr_ec = 40\n",
    "    \n",
    "    stability = 1\n",
    "    angle = 0\n",
    "    activity = 1\n",
    "    speed = 1\n",
    "\n",
    "# make mock cached ws_rcr, pfcs, and replay_trigger\n",
    "ws_rcr = {'AMPA': np.zeros((N, N)), 'NMDA': np.zeros((N, N)), 'GABA': np.zeros((N, N))}\n",
    "pfcs = np.array([\n",
    "    [-2/3, -1/3, 0, 1/3, 2/3, -2/3, -1/3, 0, 1/3, 2/3],\n",
    "    [-.125, -.125, -.125, -.125, -.125, .2, .2, .2, .2, .2],\n",
    "])\n",
    "trigger = np.array([30, 30, 0, 0, 0, 0, 0, 0, 0, 0])\n",
    "\n",
    "cache_file = os.path.join(C.CACHE_DIR, 'ws_rcr_pfcs_replay_trigger_test.npy')\n",
    "aux.save(cache_file({'ws_rcr': ws_rcr, 'pfcs': pfcs, 'trigger': trigger}))\n",
    "\n",
    "# make mock global config\n",
    "class CMock(object):\n",
    "    \n",
    "    TRAJ_START_T = 0.1\n",
    "    TRAJ_END_T = 13.433333\n",
    "    \n",
    "    T_EC = 14.\n",
    "    T_REPLAY = 14.5\n",
    "    \n",
    "    ITVL_REPLAY = 0.4\n",
    "    N_REPLAY = 10\n",
    "    \n",
    "    N_STRIPES = 2\n",
    "\n",
    "    \n",
    "# run test smln to make sure plasticity works\n",
    "mock_trial = MockTrial()\n",
    "\n",
    "rsp = run_smln(\n",
    "    None, None, None, C, P, C_,\n",
    "    save=False, seed=0, commit='test',\n",
    "    cache_file=cache_file, mock_trial=mock_trial)\n",
    "\n",
    "# show raster plot\n",
    "fig, axs = raster(rsp.ts, rsp.spks, rsp.pfcs, rsp.cell_types, trial_to_p(mock_trial), CMock, C_, fig_size=(15, 9))\n",
    "\n",
    "for ax in axs:\n",
    "    set_font_size(ax, 16)\n",
    "\n",
    "# show weight changes\n",
    "assert rsp.ws_plastic.shape[1] == N\n",
    "\n",
    "ws_plastic_ridge = rsp.ws_plastic[:, :N/2]\n",
    "ws_plastic_non_ridge = rsp.ws_plastic[:, N/2:]\n",
    "\n",
    "fig, ax = plt.subplots(1, 1, figsize=(15, 5), tight_layout=True)\n",
    "\n",
    "ax.plot(rsp.ts, ws_plastic_ridge, color='k', lw=2)\n",
    "ax.plot(rsp.ts, ws_plastic_non_ridge, color='b', lw=2)\n",
    "\n",
    "ax.set_xlabel('t (s)')\n",
    "ax.set_ylabel('W_N_PC_PL')\n",
    "\n",
    "set_font_size(ax, 16)"
   ]
  },
  {
   "cell_type": "markdown",
   "metadata": {},
   "source": [
    "Tests passed if:\n",
    "\n",
    "* Top raster shows sequential activation but only for bottom 5 cells (corresponding to original trajectory)\n",
    "* Next raster shows periodic spikes in first two cells\n",
    "* Bottom plot shows staggered large increases in black lines (traj PCs), confined to first half-ish of timecourse.\n",
    "* Bottom plot shows no increases in blue lines (non-traj PCs).\n",
    "    "
   ]
  }
 ],
 "metadata": {
  "kernelspec": {
   "display_name": "Python 3",
   "language": "python",
   "name": "python3"
  },
  "language_info": {
   "codemirror_mode": {
    "name": "ipython",
    "version": 3
   },
   "file_extension": ".py",
   "mimetype": "text/x-python",
   "name": "python",
   "nbconvert_exporter": "python",
   "pygments_lexer": "ipython3",
   "version": "3.6.1"
  }
 },
 "nbformat": 4,
 "nbformat_minor": 2
}
