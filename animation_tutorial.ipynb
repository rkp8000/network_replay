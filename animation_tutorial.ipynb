{
 "cells": [
  {
   "cell_type": "markdown",
   "metadata": {},
   "source": [
    "# Creating a GIF from a set of still frames"
   ]
  },
  {
   "cell_type": "code",
   "execution_count": 1,
   "metadata": {
    "collapsed": true
   },
   "outputs": [],
   "source": [
    "%matplotlib inline\n",
    "import matplotlib.pyplot as plt\n",
    "import numpy as np"
   ]
  },
  {
   "cell_type": "markdown",
   "metadata": {},
   "source": [
    "### Create and save a set of still frames\n",
    "We will show two concentric circles expanding in size."
   ]
  },
  {
   "cell_type": "code",
   "execution_count": 2,
   "metadata": {
    "collapsed": true
   },
   "outputs": [],
   "source": [
    "N_FRAMES = 30\n",
    "SIZE_INITIAL = 0\n",
    "SIZE_FINAL = 10000\n",
    "\n",
    "PREFIX = 'animation_tutorial/two_dots'"
   ]
  },
  {
   "cell_type": "code",
   "execution_count": 3,
   "metadata": {
    "scrolled": false
   },
   "outputs": [],
   "source": [
    "sizes_k = np.linspace(SIZE_INITIAL, SIZE_FINAL, N_FRAMES)\n",
    "sizes_r = np.concatenate([sizes_k[N_FRAMES//2:], sizes_k[:N_FRAMES//2]])\n",
    "\n",
    "file_names = []\n",
    "\n",
    "for frame_ctr, (size_k, size_r) in enumerate(zip(sizes_k, sizes_r)):\n",
    "    fig, ax = plt.subplots(1, 1)\n",
    "    \n",
    "    ax.set_title('frame {}'.format(frame_ctr + 1), fontsize=20)\n",
    "    \n",
    "    if size_k < size_r:\n",
    "        ax.scatter(0, 0, s=size_r, c='r', lw=0)\n",
    "        ax.scatter(0, 0, s=size_k, c='k', lw=0)\n",
    "    else:\n",
    "        ax.scatter(0, 0, s=size_k, c='k', lw=0)\n",
    "        ax.scatter(0, 0, s=size_r, c='r', lw=0)\n",
    "    \n",
    "    ax.set_xlim(-1.5, 1.5)\n",
    "    ax.set_ylim(-.5, .5)\n",
    "    \n",
    "    ax.axis('off')\n",
    "    \n",
    "    file_name = '{}_{}.png'.format(PREFIX, frame_ctr+1)\n",
    "    file_names.append(file_name)\n",
    "    \n",
    "    fig.savefig(file_name)\n",
    "    plt.close()"
   ]
  },
  {
   "cell_type": "markdown",
   "metadata": {},
   "source": [
    "### Merge frames into a gif using `imageio`"
   ]
  },
  {
   "cell_type": "code",
   "execution_count": 4,
   "metadata": {
    "collapsed": true
   },
   "outputs": [],
   "source": [
    "import imageio"
   ]
  },
  {
   "cell_type": "code",
   "execution_count": 5,
   "metadata": {
    "collapsed": true
   },
   "outputs": [],
   "source": [
    "DURATION = 1/15"
   ]
  },
  {
   "cell_type": "code",
   "execution_count": 6,
   "metadata": {
    "collapsed": true
   },
   "outputs": [],
   "source": [
    "images = [imageio.imread(fn) for fn in file_names]\n",
    "imageio.mimsave(PREFIX + '.gif', images, duration=DURATION)"
   ]
  }
 ],
 "metadata": {
  "kernelspec": {
   "display_name": "Python 3",
   "language": "python",
   "name": "python3"
  },
  "language_info": {
   "codemirror_mode": {
    "name": "ipython",
    "version": 3
   },
   "file_extension": ".py",
   "mimetype": "text/x-python",
   "name": "python",
   "nbconvert_exporter": "python",
   "pygments_lexer": "ipython3",
   "version": "3.6.1"
  }
 },
 "nbformat": 4,
 "nbformat_minor": 2
}
