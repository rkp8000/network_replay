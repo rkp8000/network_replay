{
 "cells": [
  {
   "cell_type": "markdown",
   "metadata": {},
   "source": [
    "# Create simple neural sequence and save timestamps and activity pattern to file"
   ]
  },
  {
   "cell_type": "code",
   "execution_count": 1,
   "metadata": {},
   "outputs": [
    {
     "data": {
      "text/plain": [
       "'test_anim/ntwk.npy'"
      ]
     },
     "execution_count": 1,
     "metadata": {},
     "output_type": "execute_result"
    }
   ],
   "source": [
    "%reset -f\n",
    "from anim import build_frames, merge_frames, create_mp4\n",
    "from copy import copy\n",
    "import numpy as np\n",
    "import os\n",
    "\n",
    "from ntwk import NtwkResponse\n",
    "from aux import save\n",
    "from aux import save_time_file\n",
    "\n",
    "DUR = 2\n",
    "FS = 1000\n",
    "V_REST = -0.07\n",
    "V_TH = -0.04\n",
    "\n",
    "STARTS = [100, 300, 500, 700]\n",
    "ITVL = 200\n",
    "\n",
    "ts = np.linspace(0, DUR, FS * DUR, endpoint=False)\n",
    "vs = V_REST * np.ones((len(ts), len(STARTS)))\n",
    "spks = np.zeros(vs.shape, dtype=bool)\n",
    "\n",
    "for neur, start in enumerate(STARTS):\n",
    "    for offset in [0, 1000]:\n",
    "        vs[offset+start:offset+start+ITVL, neur] = np.linspace(V_REST, V_TH, ITVL)\n",
    "        spks[offset+start+ITVL, neur] = True\n",
    "        \n",
    "xs = np.arange(len(STARTS))\n",
    "ys = np.arange(len(STARTS))\n",
    "\n",
    "place_field_centers = np.array([xs, ys])\n",
    "\n",
    "# save everything\n",
    "save_time_file('test_anim/time.npy', ts)\n",
    "ntwk_response = NtwkResponse(\n",
    "    vs, spks, V_REST, V_TH,\n",
    "    gs=None, ws_rcr=None, ws_up=None, place_field_centers=place_field_centers)\n",
    "ntwk_response.save('test_anim/ntwk.npy')"
   ]
  },
  {
   "cell_type": "markdown",
   "metadata": {},
   "source": [
    "### Build frames and gif"
   ]
  },
  {
   "cell_type": "code",
   "execution_count": 2,
   "metadata": {
    "collapsed": true
   },
   "outputs": [],
   "source": [
    "FPS = [30, 120, 60, 30]\n",
    "PLAYBACK_FPS = [15, 30, 30, 30]"
   ]
  },
  {
   "cell_type": "code",
   "execution_count": 3,
   "metadata": {},
   "outputs": [
    {
     "name": "stdout",
     "output_type": "stream",
     "text": [
      "Using timestamp file \"test_anim/time.npy\" and activity file \"test_anim/ntwk.npy\".\n",
      "Frames will be saved with prefix \"test_anim/ntwk_frames/frame\".\n",
      "Loading timestamps and network activity data...\n",
      "Data loaded.\n",
      "Downsampling data from 1000.0 Hz to 30 fps...\n",
      "Data downsampled.\n",
      "Generating and saving 60 frames...\n",
      "Frames saved.\n",
      "Loading source images...\n"
     ]
    },
    {
     "name": "stderr",
     "output_type": "stream",
     "text": [
      "WARNING:root:IMAGEIO FFMPEG_WRITER WARNING: input image is not divisible by macro_block_size=16, resizing from (504, 504) to (512, 512) to ensure video compatibility with most codecs and players. To prevent resizing, make your input image divisible by the macro_block_size or set the macro_block_size to None (risking incompatibility). You may also see a FFMPEG warning concerning speedloss due to data not being aligned.\n"
     ]
    },
    {
     "name": "stdout",
     "output_type": "stream",
     "text": [
      "Source images loaded.\n",
      "Generating movie and saving at \"test_anim/ntwk_30_fps_15Hz_playback.mp4\"...\n",
      "Movie generated.\n",
      "Using timestamp file \"test_anim/time.npy\" and activity file \"test_anim/ntwk.npy\".\n",
      "Frames will be saved with prefix \"test_anim/ntwk_frames/frame\".\n",
      "Loading timestamps and network activity data...\n",
      "Data loaded.\n",
      "Downsampling data from 1000.0 Hz to 120 fps...\n",
      "Data downsampled.\n",
      "Generating and saving 240 frames...\n",
      "Frames saved.\n",
      "Loading source images...\n"
     ]
    },
    {
     "name": "stderr",
     "output_type": "stream",
     "text": [
      "WARNING:root:IMAGEIO FFMPEG_WRITER WARNING: input image is not divisible by macro_block_size=16, resizing from (504, 504) to (512, 512) to ensure video compatibility with most codecs and players. To prevent resizing, make your input image divisible by the macro_block_size or set the macro_block_size to None (risking incompatibility). You may also see a FFMPEG warning concerning speedloss due to data not being aligned.\n"
     ]
    },
    {
     "name": "stdout",
     "output_type": "stream",
     "text": [
      "Source images loaded.\n",
      "Generating movie and saving at \"test_anim/ntwk_120_fps_30Hz_playback.mp4\"...\n",
      "Movie generated.\n",
      "Using timestamp file \"test_anim/time.npy\" and activity file \"test_anim/ntwk.npy\".\n",
      "Frames will be saved with prefix \"test_anim/ntwk_frames/frame\".\n",
      "Loading timestamps and network activity data...\n",
      "Data loaded.\n",
      "Downsampling data from 1000.0 Hz to 60 fps...\n",
      "Data downsampled.\n",
      "Generating and saving 120 frames...\n",
      "Frames saved.\n",
      "Loading source images...\n"
     ]
    },
    {
     "name": "stderr",
     "output_type": "stream",
     "text": [
      "WARNING:root:IMAGEIO FFMPEG_WRITER WARNING: input image is not divisible by macro_block_size=16, resizing from (504, 504) to (512, 512) to ensure video compatibility with most codecs and players. To prevent resizing, make your input image divisible by the macro_block_size or set the macro_block_size to None (risking incompatibility). You may also see a FFMPEG warning concerning speedloss due to data not being aligned.\n"
     ]
    },
    {
     "name": "stdout",
     "output_type": "stream",
     "text": [
      "Source images loaded.\n",
      "Generating movie and saving at \"test_anim/ntwk_60_fps_30Hz_playback.mp4\"...\n",
      "Movie generated.\n",
      "Using timestamp file \"test_anim/time.npy\" and activity file \"test_anim/ntwk.npy\".\n",
      "Frames will be saved with prefix \"test_anim/ntwk_frames/frame\".\n",
      "Loading timestamps and network activity data...\n",
      "Data loaded.\n",
      "Downsampling data from 1000.0 Hz to 30 fps...\n",
      "Data downsampled.\n",
      "Generating and saving 60 frames...\n",
      "Frames saved.\n",
      "Loading source images...\n"
     ]
    },
    {
     "name": "stderr",
     "output_type": "stream",
     "text": [
      "WARNING:root:IMAGEIO FFMPEG_WRITER WARNING: input image is not divisible by macro_block_size=16, resizing from (504, 504) to (512, 512) to ensure video compatibility with most codecs and players. To prevent resizing, make your input image divisible by the macro_block_size or set the macro_block_size to None (risking incompatibility). You may also see a FFMPEG warning concerning speedloss due to data not being aligned.\n"
     ]
    },
    {
     "name": "stdout",
     "output_type": "stream",
     "text": [
      "Source images loaded.\n",
      "Generating movie and saving at \"test_anim/ntwk_30_fps_30Hz_playback.mp4\"...\n",
      "Movie generated.\n"
     ]
    }
   ],
   "source": [
    "for fps, playback_fps in zip(FPS, PLAYBACK_FPS):\n",
    "    save_file_movie = 'test_anim/ntwk_{}_fps_{}Hz_playback'.format(\n",
    "        fps, playback_fps)\n",
    "\n",
    "    save_files = build_frames.ntwk_activity(\n",
    "        save_prefix='test_anim/ntwk_frames/frame',\n",
    "        time_file='test_anim/time.npy',\n",
    "        ntwk_file='test_anim/ntwk.npy',\n",
    "        fps=fps,\n",
    "        frames_per_spk=5,\n",
    "        title='Network activity',\n",
    "        x_label='x (m)',\n",
    "        y_label='y (m)',\n",
    "        fig_size=(7, 7),\n",
    "        verbose=True)\n",
    "    \n",
    "    movie = create_mp4(\n",
    "        save_files, save_file=save_file_movie,\n",
    "        playback_fps=playback_fps, verbose=True)\n",
    "\n",
    "save_files_ntwk = copy(save_files)\n",
    "movie_ntwk = movie"
   ]
  },
  {
   "cell_type": "markdown",
   "metadata": {},
   "source": [
    "# Create position sequence for trajectory animation"
   ]
  },
  {
   "cell_type": "code",
   "execution_count": 4,
   "metadata": {},
   "outputs": [
    {
     "data": {
      "text/plain": [
       "'test_anim/traj.npy'"
      ]
     },
     "execution_count": 4,
     "metadata": {},
     "output_type": "execute_result"
    }
   ],
   "source": [
    "from scipy.ndimage import gaussian_filter1d\n",
    "\n",
    "STD = 1\n",
    "SMOOTHING = 200\n",
    "SEED = 0\n",
    "\n",
    "np.random.seed(SEED)\n",
    "\n",
    "# make random x and y position sequences\n",
    "xys = STD * np.random.randn(len(ts), 2)\n",
    "# smooth them\n",
    "xys = gaussian_filter1d(xys, SMOOTHING, axis=0)\n",
    "\n",
    "# make sure save directory exists\n",
    "if not os.path.exists('test_anim'): os.makedirs('test_anim')\n",
    "\n",
    "# save traj file\n",
    "data_tr = {'xys': xys}\n",
    "save('test_anim/traj.npy', data_tr)"
   ]
  },
  {
   "cell_type": "markdown",
   "metadata": {},
   "source": [
    "### Build frames and MP4"
   ]
  },
  {
   "cell_type": "code",
   "execution_count": 5,
   "metadata": {
    "scrolled": false
   },
   "outputs": [
    {
     "name": "stdout",
     "output_type": "stream",
     "text": [
      "Loading source images...\n"
     ]
    },
    {
     "name": "stderr",
     "output_type": "stream",
     "text": [
      "WARNING:root:IMAGEIO FFMPEG_WRITER WARNING: input image is not divisible by macro_block_size=16, resizing from (504, 504) to (512, 512) to ensure video compatibility with most codecs and players. To prevent resizing, make your input image divisible by the macro_block_size or set the macro_block_size to None (risking incompatibility). You may also see a FFMPEG warning concerning speedloss due to data not being aligned.\n"
     ]
    },
    {
     "name": "stdout",
     "output_type": "stream",
     "text": [
      "Source images loaded.\n",
      "Generating movie and saving at \"test_anim/traj_30_fps_15Hz_playback.mp4\"...\n",
      "Movie generated.\n",
      "Loading source images...\n"
     ]
    },
    {
     "name": "stderr",
     "output_type": "stream",
     "text": [
      "WARNING:root:IMAGEIO FFMPEG_WRITER WARNING: input image is not divisible by macro_block_size=16, resizing from (504, 504) to (512, 512) to ensure video compatibility with most codecs and players. To prevent resizing, make your input image divisible by the macro_block_size or set the macro_block_size to None (risking incompatibility). You may also see a FFMPEG warning concerning speedloss due to data not being aligned.\n"
     ]
    },
    {
     "name": "stdout",
     "output_type": "stream",
     "text": [
      "Source images loaded.\n",
      "Generating movie and saving at \"test_anim/traj_120_fps_30Hz_playback.mp4\"...\n",
      "Movie generated.\n",
      "Loading source images...\n"
     ]
    },
    {
     "name": "stderr",
     "output_type": "stream",
     "text": [
      "WARNING:root:IMAGEIO FFMPEG_WRITER WARNING: input image is not divisible by macro_block_size=16, resizing from (504, 504) to (512, 512) to ensure video compatibility with most codecs and players. To prevent resizing, make your input image divisible by the macro_block_size or set the macro_block_size to None (risking incompatibility). You may also see a FFMPEG warning concerning speedloss due to data not being aligned.\n"
     ]
    },
    {
     "name": "stdout",
     "output_type": "stream",
     "text": [
      "Source images loaded.\n",
      "Generating movie and saving at \"test_anim/traj_60_fps_30Hz_playback.mp4\"...\n",
      "Movie generated.\n",
      "Loading source images...\n"
     ]
    },
    {
     "name": "stderr",
     "output_type": "stream",
     "text": [
      "WARNING:root:IMAGEIO FFMPEG_WRITER WARNING: input image is not divisible by macro_block_size=16, resizing from (504, 504) to (512, 512) to ensure video compatibility with most codecs and players. To prevent resizing, make your input image divisible by the macro_block_size or set the macro_block_size to None (risking incompatibility). You may also see a FFMPEG warning concerning speedloss due to data not being aligned.\n"
     ]
    },
    {
     "name": "stdout",
     "output_type": "stream",
     "text": [
      "Source images loaded.\n",
      "Generating movie and saving at \"test_anim/traj_30_fps_30Hz_playback.mp4\"...\n",
      "Movie generated.\n"
     ]
    }
   ],
   "source": [
    "for fps, playback_fps in zip(FPS, PLAYBACK_FPS):\n",
    "    save_file_movie = 'test_anim/traj_{}_fps_{}Hz_playback'.format(\n",
    "        fps, playback_fps)\n",
    "\n",
    "    save_files = build_frames.traj(\n",
    "        save_prefix='test_anim/traj_frames/frame',\n",
    "        time_file='test_anim/time.npy',\n",
    "        traj_file='test_anim/traj.npy',\n",
    "        fps=fps,\n",
    "        title='Trajectory through space',\n",
    "        x_label='x (m)',\n",
    "        y_label='y (m)',\n",
    "        fig_size=(7, 7),\n",
    "        verbose=True)\n",
    "\n",
    "    movie = create_mp4(\n",
    "        save_files, save_file=save_file_movie,\n",
    "        playback_fps=playback_fps, verbose=True)\n",
    "\n",
    "save_files_traj = copy(save_files)\n",
    "movie_traj = movie"
   ]
  },
  {
   "cell_type": "markdown",
   "metadata": {},
   "source": [
    "# Create merged frames and MP4"
   ]
  },
  {
   "cell_type": "code",
   "execution_count": 6,
   "metadata": {},
   "outputs": [
    {
     "name": "stdout",
     "output_type": "stream",
     "text": [
      "Loading source images...\n"
     ]
    },
    {
     "name": "stderr",
     "output_type": "stream",
     "text": [
      "WARNING:root:IMAGEIO FFMPEG_WRITER WARNING: input image is not divisible by macro_block_size=16, resizing from (504, 1008) to (512, 1008) to ensure video compatibility with most codecs and players. To prevent resizing, make your input image divisible by the macro_block_size or set the macro_block_size to None (risking incompatibility). You may also see a FFMPEG warning concerning speedloss due to data not being aligned.\n"
     ]
    },
    {
     "name": "stdout",
     "output_type": "stream",
     "text": [
      "Source images loaded.\n",
      "Generating movie and saving at \"test_anim/merged.mp4\"...\n",
      "Movie generated.\n"
     ]
    }
   ],
   "source": [
    "save_prefix = 'test_anim/merged_frames/frame'\n",
    "rects = [(0, 0, 1, 1), (1, 0, 2, 1)]\n",
    "size = (2, 1)\n",
    "\n",
    "merged_frames = merge_frames([save_files_ntwk, save_files_traj], save_prefix, rects, size)\n",
    "\n",
    "movie_merged = create_mp4(merged_frames, 'test_anim/merged', playback_fps=30, verbose=True)"
   ]
  }
 ],
 "metadata": {
  "kernelspec": {
   "display_name": "Python 3",
   "language": "python",
   "name": "python3"
  },
  "language_info": {
   "codemirror_mode": {
    "name": "ipython",
    "version": 3
   },
   "file_extension": ".py",
   "mimetype": "text/x-python",
   "name": "python",
   "nbconvert_exporter": "python",
   "pygments_lexer": "ipython3",
   "version": "3.6.1"
  }
 },
 "nbformat": 4,
 "nbformat_minor": 2
}
